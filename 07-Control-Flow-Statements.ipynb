{
 "cells": [
  {
   "cell_type": "markdown",
   "metadata": {},
   "source": [
    "<!--BOOK_INFORMATION-->\n",
    "<img align=\"left\" style=\"padding-right:10px;\" src=\"fig/cover-small.jpg\">\n",
    "\n",
    "*本文摘自 Jake VanderPlas 的 [Python 之旅](http://www.oreilly.com/programming/free/a-whirlwind-tour-of-python.csp)；内容可在 [GitHub](https://github.com/jakevdp/WhirlwindTourOfPython) 上找到。*\n",
    "\n",
    "*文本和代码根据 [CC0](https://github.com/jakevdp/WhirlwindTourOfPython/blob/master/LICENSE) 许可证发布；另见配套项目 [Python 数据科学手册](https://github.com/jakevdp/PythonDataScienceHandbook)。*"
   ]
  },
  {
   "cell_type": "markdown",
   "metadata": {},
   "source": [
    "<!--NAVIGATION-->\n",
    "< [内置数据结构](06-Built-in-Data-Structures.ipynb) | [目录](Index.ipynb) | [定义和使用函数](08-Defining-Functions.ipynb) >"
   ]
  },
  {
   "cell_type": "markdown",
   "metadata": {},
   "source": [
    "# 控制流"
   ]
  },
  {
   "cell_type": "markdown",
   "metadata": {},
   "source": [
    "*控制流* 是编程中真正体现其价值的地方。\n",
    "没有它，程序仅仅是按顺序执行的一系列语句。\n",
    "有了控制流，你可以有条件地和/或重复地执行某些代码块：这些基本构建块可以组合起来创建出令人惊讶的复杂程序！\n",
    "\n",
    "这里我们将介绍 *条件语句*（包括 \"``if``\"、\"``elif``\" 和 \"``else``\"），*循环语句*（包括 \"``for``\" 和 \"``while``\" 以及伴随的 \"``break``\"、\"``continue``\" 和 \"``pass``\"）。"
   ]
  },
  {
   "cell_type": "markdown",
   "metadata": {},
   "source": [
    "## 条件语句：``if``-``elif``-``else``\n",
    "条件语句，通常称为 *if-then* 语句，允许程序员根据某些布尔条件执行某些代码片段。\n",
    "一个基本的 Python 条件语句示例是："
   ]
  },
  {
   "cell_type": "code",
   "execution_count": 2,
   "metadata": {
    "collapsed": false
   },
   "outputs": [
    {
     "name": "stdout",
     "output_type": "stream",
     "text": [
      "-15 is negative\n"
     ]
    }
   ],
   "source": [
    "x = -15\n",
    "\n",
    "if x == 0:\n",
    "    print(x, \"is zero\")\n",
    "elif x > 0:\n",
    "    print(x, \"is positive\")\n",
    "elif x < 0:\n",
    "    print(x, \"is negative\")\n",
    "else:\n",
    "    print(x, \"is unlike anything I've ever seen...\")"
   ]
  },
  {
   "cell_type": "markdown",
   "metadata": {},
   "source": [
    "特别注意使用冒号 (``:``) 和空白来表示不同的代码块。\n",
    "\n",
    "Python 采用了其他语言中常用的 ``if`` 和 ``else``；其更独特的关键字是 ``elif``，即 \"else if\" 的缩写。\n",
    "在这些条件子句中，``elif`` 和 ``else`` 块是可选的；此外，你可以根据需要包含尽可能多或少的 ``elif`` 语句。"
   ]
  },
  {
   "cell_type": "markdown",
   "metadata": {},
   "source": [
    "## ``for`` 循环\n",
    "在 Python 中，循环是一种重复执行某些代码语句的方法。\n",
    "例如，如果我们想打印列表中的每个项目，可以使用 ``for`` 循环："
   ]
  },
  {
   "cell_type": "code",
   "execution_count": 3,
   "metadata": {
    "collapsed": false
   },
   "outputs": [
    {
     "name": "stdout",
     "output_type": "stream",
     "text": [
      "2 3 5 7 "
     ]
    }
   ],
   "source": [
    "for N in [2, 3, 5, 7]:\n",
    "    print(N, end=' ') # 打印在同一行"
   ]
  },
  {
   "cell_type": "markdown",
   "metadata": {},
   "source": [
    "注意 ``for`` 循环的简单性：我们指定了要使用的变量、要循环的序列，并使用 \"``in``\" 将它们以直观且易读的方式连接起来。\n",
    "更准确地说，\"``in``\" 右侧的对象可以是任何 Python *迭代器* 。\n",
    "迭代器可以被看作是广义的序列，我们将在 [迭代器](10-Iterators.ipynb) 中讨论。\n",
    "\n",
    "例如，Python 中最常用的迭代器之一是 ``range`` 对象，它生成一个数字序列："
   ]
  },
  {
   "cell_type": "code",
   "execution_count": 4,
   "metadata": {
    "collapsed": false
   },
   "outputs": [
    {
     "name": "stdout",
     "output_type": "stream",
     "text": [
      "0 1 2 3 4 5 6 7 8 9 "
     ]
    }
   ],
   "source": [
    "for i in range(10):\n",
    "    print(i, end=' ')"
   ]
  },
  {
   "cell_type": "markdown",
   "metadata": {},
   "source": [
    "注意，默认情况下范围从零开始，并且按照惯例范围的上限不包含在输出中。\n",
    "范围对象还可以有更复杂的值："
   ]
  },
  {
   "cell_type": "code",
   "execution_count": 5,
   "metadata": {
    "collapsed": false
   },
   "outputs": [
    {
     "data": {
      "text/plain": [
       "[5, 6, 7, 8, 9]"
      ]
     },
     "execution_count": 5,
     "metadata": {},
     "output_type": "execute_result"
    }
   ],
   "source": [
    "# 范围从 5 到 10 即 [5, 10)，默认间隔为 1。\n",
    "list(range(5, 10))"
   ]
  },
  {
   "cell_type": "code",
   "execution_count": 6,
   "metadata": {
    "collapsed": false
   },
   "outputs": [
    {
     "data": {
      "text/plain": [
       "[0, 2, 4, 6, 8]"
      ]
     },
     "execution_count": 6,
     "metadata": {},
     "output_type": "execute_result"
    }
   ],
   "source": [
    "# 范围从 0 到 10，步长为 2\n",
    "list(range(0, 10, 2))"
   ]
  },
  {
   "cell_type": "markdown",
   "metadata": {},
   "source": [
    "你可能会注意到 ``range`` 参数的含义与我们在 [列表](06-Built-in-Data-Structures.ipynb#Lists) 中介绍的切片语法非常相似。\n",
    "\n",
    "请注意，``range()`` 的行为是 Python 2 和 Python 3 之间的一个区别：在 Python 2 中，``range()`` 生成一个列表，而在 Python 3 中，``range()`` 生成一个可迭代对象。"
   ]
  },
  {
   "cell_type": "markdown",
   "metadata": {},
   "source": [
    "## ``while`` 循环\n",
    "Python 中的另一种循环是 ``while`` 循环，它会一直迭代直到满足某个条件："
   ]
  },
  {
   "cell_type": "code",
   "execution_count": 7,
   "metadata": {
    "collapsed": false
   },
   "outputs": [
    {
     "name": "stdout",
     "output_type": "stream",
     "text": [
      "0 1 2 3 4 5 6 7 8 9 "
     ]
    }
   ],
   "source": [
    "i = 0\n",
    "while i < 10:\n",
    "    print(i, end=' ')\n",
    "    i += 1"
   ]
  },
  {
   "cell_type": "markdown",
   "metadata": {},
   "source": [
    "``while`` 循环的参数被评估为布尔语句，当该语句评估为 False 时，循环结束。"
   ]
  },
  {
   "cell_type": "markdown",
   "metadata": {},
   "source": [
    "## ``break`` 和 ``continue``：微调你的循环\n",
    "有两种有用的语句可以用于微调循环的执行方式：\n",
    "\n",
    "- ``break`` 语句完全退出循环\n",
    "- ``continue`` 语句跳过当前循环的剩余部分，进入下一次迭代\n",
    "\n",
    "这两种语句都可以在 ``for`` 和 ``while`` 循环中使用。\n",
    "\n",
    "下面是一个使用 ``continue`` 打印奇数字符串的示例。\n",
    "在这种情况下，结果也可以通过 ``if-else`` 语句实现，但有时 ``continue`` 语句是一种更方便地表达你想法的方式："
   ]
  },
  {
   "cell_type": "code",
   "execution_count": 13,
   "metadata": {
    "collapsed": false
   },
   "outputs": [
    {
     "name": "stdout",
     "output_type": "stream",
     "text": [
      "1 3 5 7 9 11 13 15 17 19 "
     ]
    }
   ],
   "source": [
    "for n in range(20):\n",
    "    # 如果 n / 2 的余数为 0，则跳过当前循环的剩余部分\n",
    "    if n % 2 == 0:\n",
    "        continue\n",
    "    print(n, end=' ')"
   ]
  },
  {
   "cell_type": "markdown",
   "metadata": {},
   "source": [
    "下面是一个使用 ``break`` 语句的示例，用于不太简单的任务。\n",
    "这个循环将填充一个包含所有斐波那契数的列表，直到某个值："
   ]
  },
  {
   "cell_type": "code",
   "execution_count": 16,
   "metadata": {
    "collapsed": false
   },
   "outputs": [
    {
     "name": "stdout",
     "output_type": "stream",
     "text": [
      "[1, 1, 2, 3, 5, 8, 13, 21, 34, 55, 89]\n"
     ]
    }
   ],
   "source": [
    "a, b = 0, 1\n",
    "amax = 100\n",
    "L = []\n",
    "\n",
    "while True:\n",
    "    (a, b) = (b, a + b)\n",
    "    if a > amax:\n",
    "        break\n",
    "    L.append(a)\n",
    "\n",
    "print(L)"
   ]
  },
  {
   "cell_type": "markdown",
   "metadata": {},
   "source": [
    "注意我们使用了一个 ``while True`` 循环，它会无限循环，除非我们使用 ``break`` 语句！"
   ]
  },
  {
   "cell_type": "markdown",
   "metadata": {},
   "source": [
    "## 循环中的 ``else`` 块\n",
    "Python 中有一个很少使用的模式是 ``for`` 或 ``while`` 循环中的 ``else`` 语句。\n",
    "我们之前讨论过 ``else`` 块：如果所有的 ``if`` 和 ``elif`` 语句都评估为 ``False``，则执行它。\n",
    "循环-``else`` 也许是 Python 中最令人困惑的命名语句之一；我更愿意将其视为 ``nobreak`` 语句：也就是说，只有当循环自然结束，而没有遇到 ``break`` 语句时，才会执行 ``else`` 块。\n",
    "\n",
    "以下是一个这种模式可能有用的示例，考虑以下（未优化的）实现 *埃拉托斯特尼筛法* 的代码，这是一个众所周知的寻找质数的算法："
   ]
  },
  {
   "cell_type": "code",
   "execution_count": 17,
   "metadata": {
    "collapsed": false
   },
   "outputs": [
    {
     "name": "stdout",
     "output_type": "stream",
     "text": [
      "[2, 3, 5, 7, 11, 13, 17, 19, 23, 29]\n"
     ]
    }
   ],
   "source": [
    "L = []\n",
    "nmax = 30\n",
    "\n",
    "for n in range(2, nmax):\n",
    "    for factor in L:\n",
    "        if n % factor == 0:\n",
    "            break\n",
    "    else: # 没有 break\n",
    "        L.append(n)\n",
    "print(L)"
   ]
  },
  {
   "cell_type": "markdown",
   "metadata": {},
   "source": [
    "只有当没有因子能整除给定数字时，才会执行 ``else`` 块。\n",
    "``else`` 块与 ``while`` 循环的使用方式类似。"
   ]
  },
  {
   "cell_type": "markdown",
   "metadata": {},
   "source": [
    "<!--NAVIGATION-->\n",
    "< [内置数据结构](06-Built-in-Data-Structures.ipynb) | [目录](Index.ipynb) | [定义和使用函数](08-Defining-Functions.ipynb) >"
   ]
  }
 ],
 "metadata": {
  "anaconda-cloud": {},
  "kernelspec": {
   "display_name": "datamine",
   "language": "python",
   "name": "python3"
  },
  "language_info": {
   "codemirror_mode": {
    "name": "ipython",
    "version": 3
   },
   "file_extension": ".py",
   "mimetype": "text/x-python",
   "name": "python",
   "nbconvert_exporter": "python",
   "pygments_lexer": "ipython3",
   "version": "3.8.20"
  }
 },
 "nbformat": 4,
 "nbformat_minor": 0
}
