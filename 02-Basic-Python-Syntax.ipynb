{
 "cells": [
  {
   "cell_type": "markdown",
   "metadata": {},
   "source": [
    "<!--BOOK_INFORMATION-->\n",
    "<img align=\"left\" style=\"padding-right:10px;\" src=\"fig/cover-small.jpg\">\n",
    "\n",
    "*本文摘自 Jake VanderPlas 的 [Python 之旅](http://www.oreilly.com/programming/free/a-whirlwind-tour-of-python.csp )；内容可在 [GitHub](https://github.com/jakevdp/WhirlwindTourOfPython) 上找到。*\n",
    "\n",
    "*文本和代码根据 [CC0](https://github.com/jakevdp/WhirlwindTourOfPython/blob/master/LICENSE) 许可证发布；另请参阅配套项目，[Python 数据科学手册](https://github.com/jakevdp/PythonDataScienceHandbook)。*\n",
    "\n",
    "*中文翻译由 [ZhangCongke](https://ckeyzhang.github.io/) 提供，项目可在 [GitHub](https://github.com/CKeyZhang/WhirlwindTourOfPython-CN) 上找到。*\n"
   ]
  },
  {
   "cell_type": "markdown",
   "metadata": {},
   "source": [
    "<!--NAVIGATION-->\n",
    "< [如何运行 Python 代码](01-How-to-Run-Python-Code.ipynb) | [目录](Index.ipynb) | [基本 Python 语义：变量和对象](03-Semantics-Variables.ipynb) >"
   ]
  },
  {
   "cell_type": "markdown",
   "metadata": {},
   "source": [
    "# Python 语法速览"
   ]
  },
  {
   "cell_type": "markdown",
   "metadata": {},
   "source": [
    "Python 最初是作为一种教学语言开发的，但它的易用性和清晰的语法使其受到了初学者和专家的共同青睐。\n",
    "\n",
    "Python 语法的简洁性让一些人称它为“可执行的伪代码”，事实上，我自己的经验也表明，阅读和理解 Python 脚本通常比阅读用其他语言（比如 C 语言）编写的类似脚本要容易得多。\n",
    "\n",
    "接下来我们将开始讨论 Python 语法的主要特点。\n",
    "\n",
    "语法指的是语言的结构（即什么样的程序是正确形成的）。暂时我们不会关注语义——语法中单词和符号的含义，但会在稍后回到这个话题。\n",
    "\n",
    "考虑以下代码示例："
   ]
  },
  {
   "cell_type": "code",
   "execution_count": 1,
   "metadata": {
    "collapsed": false
   },
   "outputs": [
    {
     "name": "stdout",
     "output_type": "stream",
     "text": [
      "lower: [0, 1, 2, 3, 4]\n",
      "upper: [5, 6, 7, 8, 9]\n"
     ]
    }
   ],
   "source": [
    "# set the midpoint\n",
    "midpoint = 5\n",
    "\n",
    "# make two empty lists\n",
    "lower = []; upper = []\n",
    "\n",
    "# split the numbers into lower and upper\n",
    "for i in range(10):\n",
    "    if (i < midpoint):\n",
    "        lower.append(i)\n",
    "    else:\n",
    "        upper.append(i)\n",
    "        \n",
    "print(\"lower:\", lower)\n",
    "print(\"upper:\", upper)"
   ]
  },
  {
   "cell_type": "markdown",
   "metadata": {},
   "source": [
    "这段脚本有点傻，但它简洁地展示了 Python 语法的几个重要方面。让我们逐步分析它，并讨论一些 Python 的语法特点。"
   ]
  },
  {
   "cell_type": "markdown",
   "metadata": {},
   "source": [
    "## 注释使用 ``#`` 来标记\n",
    "这段脚本以一个注释开始：\n",
    "```python\n",
    "# set the midpoint\n",
    "```\n",
    "在 Python 中，注释用井号（`#`）表示，井号后面该行的内容都会被解释器忽略。这意味着，例如你可以有独立的注释，就像刚刚展示的那样，也可以在语句后面添加内联注释。比如：\n",
    "```python\n",
    "x += 2  # shorthand for x = x + 2\n",
    "```\n",
    "Python 没有多行注释的语法，比如 C 和 C++ 中使用的 `/* ... */`，不过多行字符串常常被用作多行注释的替代品（关于这一点，稍后会在 [字符串操作与正则表达式](14-Strings-and-Regular-Expressions.ipynb) 中详细说明）。"
   ]
  },
  {
   "cell_type": "markdown",
   "metadata": {},
   "source": [
    "## 行尾终止语句\n",
    "脚本的下一行是：\n",
    "```python\n",
    "midpoint = 5\n",
    "```\n",
    "这是一个赋值操作，我们创建了一个名为 `midpoint` 的变量，并将其值设置为 `5`。注意，这一语句的结束仅仅是由行尾标记的。这与 C 和 C++ 等语言不同，在那些语言中，每个语句都必须以分号（`;`）结尾。\n",
    "\n",
    "在 Python 中，如果你希望一个语句延续到下一行，可以使用“`\\`”标记来表示："
   ]
  },
  {
   "cell_type": "code",
   "execution_count": 2,
   "metadata": {
    "collapsed": false
   },
   "outputs": [],
   "source": [
    "x = 1 + 2 + 3 + 4 +\\\n",
    "    5 + 6 + 7 + 8"
   ]
  },
  {
   "cell_type": "markdown",
   "metadata": {},
   "source": [
    "也可以在括号内将表达式延续到下一行，而无需使用“`\\`”标记："
   ]
  },
  {
   "cell_type": "code",
   "execution_count": 3,
   "metadata": {
    "collapsed": false
   },
   "outputs": [],
   "source": [
    "x = (1 + 2 + 3 + 4 +\n",
    "     5 + 6 + 7 + 8)"
   ]
  },
  {
   "cell_type": "markdown",
   "metadata": {},
   "source": [
    "大多数 Python 风格指南推荐使用第二种换行方式（括号内换行），而不是第一种（使用“`\\`”标记）。"
   ]
  },
  {
   "cell_type": "markdown",
   "metadata": {},
   "source": [
    "## 分号可以可选地终止语句\n",
    "有时将多条语句放在一行中会很有用。脚本的下一部分是：\n",
    "```python\n",
    "lower = []; upper = []\n",
    "```\n",
    "这展示了在 Python 中如何使用在 C 语言中熟悉的分号（`;`）来可选地将两条语句放在一行中。从功能上讲，这完全等同于写成：\n",
    "```python\n",
    "lower = []\n",
    "upper = []\n",
    "```\n",
    "大多数 Python 风格指南通常不推荐使用分号将多条语句放在一行中，尽管偶尔会发现这样很方便。"
   ]
  },
  {
   "cell_type": "markdown",
   "metadata": {},
   "source": [
    "## 缩进：空白很重要！\n",
    "接下来是代码的主要部分：\n",
    "```python\n",
    "for i in range(10):\n",
    "    if i < midpoint:\n",
    "        lower.append(i)\n",
    "    else:\n",
    "        upper.append(i)\n",
    "```\n",
    "这是一个复合的控制流语句，包含了一个循环和一个条件判断——我们稍后会探讨这类语句。目前，先考虑这展示了 Python 语法中或许最具争议性的特点：空白是有意义的！\n",
    "\n",
    "在编程语言中，一个*代码块*是一组应该被视为一个单元的语句。例如在 C 语言中，代码块用大括号表示：\n",
    "```c\n",
    "// C 代码\n",
    "for(int i=0; i<100; i++)\n",
    "   {\n",
    "      // 大括号表示代码块\n",
    "      total += i;\n",
    "   }\n",
    "```\n",
    "而在 Python 中，代码块是通过*缩进*来表示的：\n",
    "```python\n",
    "for i in range(100):\n",
    "    # 缩进表示代码块\n",
    "    total += i\n",
    "```\n",
    "在 Python 中，缩进的代码块总是由上一行的冒号（`:`）引导。"
   ]
  },
  {
   "cell_type": "markdown",
   "metadata": {},
   "source": [
    "使用缩进有助于强制执行许多人认为 Python 代码具有吸引力的统一、可读的风格。但这可能会让初学者感到困惑；例如，以下两个代码片段会产生不同的结果：\n",
    "```python\n",
    ">>> if x < 4:         >>> if x < 4:\n",
    "...     y = x * 2     ...     y = x * 2\n",
    "...     print(x)      ... print(x)\n",
    "```\n",
    "在左边的代码片段中，`print(x)` 是缩进块的一部分，只有当 `x` 小于 `4` 时才会执行。而在右边的代码片段中，`print(x)` 在块的外面，无论 `x` 的值是多少都会执行！"
   ]
  },
  {
   "cell_type": "markdown",
   "metadata": {},
   "source": [
    "Python 对空白的有意义的使用常常令习惯于其他语言的程序员感到惊讶，但在实践中，它往往能带来比那些不强制缩进代码块的语言更一致、更易读的代码。如果你觉得 Python 对空白的使用令你反感，我建议你不妨试一试：就像我一样，你可能会逐渐欣赏它。\n",
    "\n",
    "最后，你应当知道，用于缩进代码块的*空白量*由用户决定，只要在整个脚本中保持一致即可。按照惯例，大多数风格指南推荐使用四个空格进行缩进，这也将是我们在这份报告中遵循的惯例。请注意，许多文本编辑器（如 Emacs 和 Vim）都包含 Python 模式，能够自动进行四个空格的缩进。"
   ]
  },
  {
   "cell_type": "markdown",
   "metadata": {},
   "source": [
    "## 行内空白不重要\n",
    "虽然“空白有意义”的原则适用于*行前*的空白（表示代码块），但 Python 代码*行内*的空白是无关紧要的。\n",
    "例如，以下三个表达式是等价的："
   ]
  },
  {
   "cell_type": "code",
   "execution_count": 4,
   "metadata": {
    "collapsed": false
   },
   "outputs": [],
   "source": [
    "x=1+2\n",
    "x = 1 + 2\n",
    "x             =        1    +                2"
   ]
  },
  {
   "cell_type": "markdown",
   "metadata": {},
   "source": [
    "滥用这种灵活性会导致代码可读性问题——事实上，故意混淆代码（有些人出于爱好这么做）的主要手段之一就是滥用空白。有效地使用空白可以使代码更具可读性，特别是在操作符相互跟随的情况下——比较以下两个对负数进行指数运算的表达式：\n",
    "```python\n",
    "x=10**-2\n",
    "```\n",
    "和\n",
    "```python\n",
    "x = 10 ** -2\n",
    "```\n",
    "我觉得第二个带空格的版本在一眼看过去时更容易读。大多数 Python 风格指南推荐在二元运算符周围使用一个空格，而在一元运算符周围不使用空格。我们将在[基本 Python 语义：运算符](04-Semantics-Operators.ipynb)中进一步讨论 Python 的运算符。"
   ]
  },
  {
   "cell_type": "markdown",
   "metadata": {},
   "source": [
    "## 括号用于分组或调用\n",
    "在前面的代码片段中，我们看到了两种使用括号的情况。首先，它们可以像通常那样用于对语句或数学运算进行分组："
   ]
  },
  {
   "cell_type": "code",
   "execution_count": 5,
   "metadata": {
    "collapsed": false
   },
   "outputs": [
    {
     "data": {
      "text/plain": [
       "14"
      ]
     },
     "execution_count": 5,
     "metadata": {},
     "output_type": "execute_result"
    }
   ],
   "source": [
    "2 * (3 + 4)"
   ]
  },
  {
   "cell_type": "markdown",
   "metadata": {},
   "source": [
    "它们还可以用来表示正在调用一个*函数*。在下一个片段中，`print()` 函数被用来显示变量的内容（见侧边栏）。函数调用由一对圆括号表示，函数的*参数*包含在其中："
   ]
  },
  {
   "cell_type": "code",
   "execution_count": 6,
   "metadata": {
    "collapsed": false
   },
   "outputs": [
    {
     "name": "stdout",
     "output_type": "stream",
     "text": [
      "first value: 1\n"
     ]
    }
   ],
   "source": [
    "print('first value:', 1)"
   ]
  },
  {
   "cell_type": "code",
   "execution_count": 7,
   "metadata": {
    "collapsed": false
   },
   "outputs": [
    {
     "name": "stdout",
     "output_type": "stream",
     "text": [
      "second value: 2\n"
     ]
    }
   ],
   "source": [
    "print('second value:', 2)"
   ]
  },
  {
   "cell_type": "markdown",
   "metadata": {},
   "source": [
    "有些函数可以不带任何参数就被调用，在这种情况下，仍然必须使用一对圆括号来表示函数的求值。列表的 `sort` 方法就是一个例子："
   ]
  },
  {
   "cell_type": "code",
   "execution_count": 8,
   "metadata": {
    "collapsed": false
   },
   "outputs": [
    {
     "name": "stdout",
     "output_type": "stream",
     "text": [
      "[1, 2, 3, 4]\n"
     ]
    }
   ],
   "source": [
    "L = [4,2,3,1]\n",
    "L.sort()\n",
    "print(L)"
   ]
  },
  {
   "cell_type": "markdown",
   "metadata": {},
   "source": [
    "`sort` 后面的“`()`”表示应该执行该函数，即使不需要任何参数，这对圆括号也是必需的。"
   ]
  },
  {
   "cell_type": "markdown",
   "metadata": {},
   "source": [
    "## 关于 `print()` 函数的说明\n",
    "上面我们使用了 `print()` 函数的例子。`print()` 函数是 Python *2.x* 和 Python *3.x* 之间发生变化的一个部分。在 Python 2 中，`print` 表现为一个语句：也就是说，你可以写\n",
    "```python\n",
    "# 仅限 Python 2！\n",
    ">> print \"first value:\", 1\n",
    "first value: 1\n",
    "```\n",
    "由于各种原因，语言维护者决定在 Python 3 中将 `print()` 变成一个函数，所以我们现在写\n",
    "```python\n",
    "# 仅限 Python 3！\n",
    ">>> print(\"first value:\", 1)\n",
    "first value: 1\n",
    "```\n",
    "这是 Python 2 和 3 之间许多向后不兼容的构造之一。在撰写本书时，通常会发现既有 Python 2 的示例，也有 Python 3 的示例，而 `print` 语句的存在而不是 `print()` 函数，往往是表明你正在查看 Python 2 代码的第一个迹象。"
   ]
  },
  {
   "cell_type": "markdown",
   "metadata": {},
   "source": [
    "## 完成并进一步学习\n",
    "这是一次对 Python 语法基本特性的非常简短的探索，其目的是为你阅读后续章节中的代码提供一个良好的参考框架。\n",
    "我们多次提到了 Python 的“风格指南”，它可以助力团队以一致的风格编写代码。\n",
    "Python 中最广泛使用的风格指南被称为 PEP8，可以在 [https://www.python.org/dev/peps/pep-0008/](https://www.python.org/dev/peps/pep-0008/) 找到。\n",
    "随着你开始编写更多的 Python 代码，阅读它会很有帮助！\n",
    "这些风格建议凝聚了许多 Python 高手的智慧，而且大部分建议并非简单的学究之见：它们是基于经验的推荐，能够帮助你在代码中避免一些细微的错误和漏洞。"
   ]
  },
  {
   "cell_type": "markdown",
   "metadata": {},
   "source": [
    "<!--NAVIGATION-->\n",
    "< [如何运行 Python 代码](01-How-to-Run-Python-Code.ipynb) | [目录](Index.ipynb) | [基本 Python 语义：变量和对象](03-Semantics-Variables.ipynb) >"
   ]
  }
 ],
 "metadata": {
  "anaconda-cloud": {},
  "kernelspec": {
   "display_name": "datamine",
   "language": "python",
   "name": "python3"
  },
  "language_info": {
   "codemirror_mode": {
    "name": "ipython",
    "version": 3
   },
   "file_extension": ".py",
   "mimetype": "text/x-python",
   "name": "python",
   "nbconvert_exporter": "python",
   "pygments_lexer": "ipython3",
   "version": "3.8.20"
  }
 },
 "nbformat": 4,
 "nbformat_minor": 0
}
