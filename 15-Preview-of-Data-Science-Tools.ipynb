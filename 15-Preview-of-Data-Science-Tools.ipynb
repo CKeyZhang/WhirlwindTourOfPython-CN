{
 "cells": [
  {
   "cell_type": "markdown",
   "metadata": {},
   "source": [
    "<!--BOOK_INFORMATION-->\n",
    "<img align=\"left\" style=\"padding-right:10px;\" src=\"fig/cover-small.jpg\">\n",
    "\n",
    "*本文摘自 Jake VanderPlas 的 [Python 之旅](http://www.oreilly.com/programming/free/a-whirlwind-tour-of-python.csp)，内容可在 [GitHub](https://github.com/jakevdp/WhirlwindTourOfPython) 上找到。*\n",
    "\n",
    "*文本和代码在 [CC0](https://github.com/jakevdp/WhirlwindTourOfPython/blob/master/LICENSE) 许可下发布；另见配套项目，[Python 数据科学手册](https://github.com/jakevdp/PythonDataScienceHandbook)。*"
   ]
  },
  {
   "cell_type": "markdown",
   "metadata": {},
   "source": [
    "<!--NAVIGATION-->\n",
    "< [字符串操作和正则表达式](14-Strings-and-Regular-Expressions.ipynb) | [目录](Index.ipynb) | [进一步学习的资源](16-Further-Resources.ipynb) >"
   ]
  },
  {
   "cell_type": "markdown",
   "metadata": {},
   "source": [
    "# 数据科学工具预览"
   ]
  },
  {
   "cell_type": "markdown",
   "metadata": {},
   "source": [
    "如果你想从这里出发，进一步使用 Python 进行科学计算或数据科学，有一些包会让生活变得轻松得多。\n",
    "本节将介绍并预览其中一些更重要的包，并让你了解它们的设计用途。\n",
    "如果你使用的是本报告开头建议的 *Anaconda* 或 *Miniconda* 环境，可以通过以下命令安装相关包：\n",
    "```\n",
    "$ conda install numpy scipy pandas matplotlib scikit-learn\n",
    "```\n",
    "让我们依次简要看看这些包。"
   ]
  },
  {
   "cell_type": "markdown",
   "metadata": {},
   "source": [
    "## NumPy：数值 Python\n",
    "\n",
    "NumPy 提供了一种高效存储和操作 Python 中多维密集数组的方法。\n",
    "NumPy 的重要特性包括：\n",
    "\n",
    "- 它提供了一个 ``ndarray`` 结构，允许高效存储和操作向量、矩阵以及更高维度的数据集。\n",
    "- 它为操作这些数据提供了易于阅读且高效的语法，从简单的逐元素算术运算到更复杂的线性代数运算。\n",
    "\n",
    "在最简单的情况下，NumPy 数组看起来很像 Python 列表。\n",
    "例如，这里是一个包含 1 到 9 的数字范围的数组（与 Python 内置的 ``range()`` 对比）："
   ]
  },
  {
   "cell_type": "code",
   "execution_count": 39,
   "metadata": {
    "collapsed": false
   },
   "outputs": [
    {
     "data": {
      "text/plain": [
       "array([1, 2, 3, 4, 5, 6, 7, 8, 9])"
      ]
     },
     "execution_count": 39,
     "metadata": {},
     "output_type": "execute_result"
    }
   ],
   "source": [
    "import numpy as np\n",
    "x = np.arange(1, 10)\n",
    "x"
   ]
  },
  {
   "cell_type": "markdown",
   "metadata": {},
   "source": [
    "NumPy 的数组不仅提供了高效的数据存储，还提供了对数据的高效逐元素操作。\n",
    "例如，要对数组中的每个元素求平方，我们可以直接对数组应用 \"``**``\" 运算符："
   ]
  },
  {
   "cell_type": "code",
   "execution_count": 40,
   "metadata": {
    "collapsed": false
   },
   "outputs": [
    {
     "data": {
      "text/plain": [
       "array([ 1,  4,  9, 16, 25, 36, 49, 64, 81])"
      ]
     },
     "execution_count": 40,
     "metadata": {},
     "output_type": "execute_result"
    }
   ],
   "source": [
    "x ** 2"
   ]
  },
  {
   "cell_type": "markdown",
   "metadata": {},
   "source": [
    "与之相比，Python 风格的列表推导式用于相同结果要冗长得多："
   ]
  },
  {
   "cell_type": "code",
   "execution_count": 41,
   "metadata": {
    "collapsed": false
   },
   "outputs": [
    {
     "data": {
      "text/plain": [
       "[1, 4, 9, 16, 25, 36, 49, 64, 81]"
      ]
     },
     "execution_count": 41,
     "metadata": {},
     "output_type": "execute_result"
    }
   ],
   "source": [
    "[val ** 2 for val in range(1, 10)]"
   ]
  },
  {
   "cell_type": "markdown",
   "metadata": {},
   "source": [
    "与 Python 列表（限于一维）不同，NumPy 数组可以是多维的。\n",
    "例如，这里我们将我们的 ``x`` 数组重塑成一个 3x3 的数组："
   ]
  },
  {
   "cell_type": "code",
   "execution_count": 42,
   "metadata": {
    "collapsed": false
   },
   "outputs": [
    {
     "data": {
      "text/plain": [
       "array([[1, 2, 3],\n",
       "       [4, 5, 6],\n",
       "       [7, 8, 9]])"
      ]
     },
     "execution_count": 42,
     "metadata": {},
     "output_type": "execute_result"
    }
   ],
   "source": [
    "M = x.reshape((3, 3))\n",
    "M"
   ]
  },
  {
   "cell_type": "markdown",
   "metadata": {},
   "source": [
    "二维数组是矩阵的一种表示形式，NumPy 知道如何高效地进行典型的矩阵运算。例如，你可以使用 ``.T`` 计算转置："
   ]
  },
  {
   "cell_type": "code",
   "execution_count": 43,
   "metadata": {
    "collapsed": false
   },
   "outputs": [
    {
     "data": {
      "text/plain": [
       "array([[1, 4, 7],\n",
       "       [2, 5, 8],\n",
       "       [3, 6, 9]])"
      ]
     },
     "execution_count": 43,
     "metadata": {},
     "output_type": "execute_result"
    }
   ],
   "source": [
    "M.T"
   ]
  },
  {
   "cell_type": "markdown",
   "metadata": {},
   "source": [
    "或者使用 ``np.dot`` 进行矩阵-向量乘法："
   ]
  },
  {
   "cell_type": "code",
   "execution_count": 44,
   "metadata": {
    "collapsed": false
   },
   "outputs": [
    {
     "data": {
      "text/plain": [
       "array([ 38,  92, 146])"
      ]
     },
     "execution_count": 44,
     "metadata": {},
     "output_type": "execute_result"
    }
   ],
   "source": [
    "np.dot(M, [5, 6, 7])"
   ]
  },
  {
   "cell_type": "markdown",
   "metadata": {},
   "source": [
    "甚至更复杂的运算，如特征值分解："
   ]
  },
  {
   "cell_type": "code",
   "execution_count": 45,
   "metadata": {
    "collapsed": false
   },
   "outputs": [
    {
     "data": {
      "text/plain": [
       "array([ 1.61168440e+01, -1.11684397e+00, -3.38433605e-16])"
      ]
     },
     "execution_count": 45,
     "metadata": {},
     "output_type": "execute_result"
    }
   ],
   "source": [
    "np.linalg.eigvals(M)"
   ]
  },
  {
   "cell_type": "markdown",
   "metadata": {},
   "source": [
    "这种线性代数运算支撑着现代数据分析的许多领域，特别是在机器学习和数据挖掘领域。\n",
    "\n",
    "有关 NumPy 的更多信息，请参见 [进一步学习的资源](16-Further-Resources.ipynb)。"
   ]
  },
  {
   "cell_type": "markdown",
   "metadata": {},
   "source": [
    "## Pandas：带标签的列式数据\n",
    "\n",
    "Pandas 是一个比 NumPy 更新的包，实际上它是基于 NumPy 构建的。\n",
    "Pandas 提供了一种带标签的多维数据接口，以 DataFrame 对象的形式呈现，对于 R 语言及相关语言的用户来说会非常熟悉。\n",
    "Pandas 中的 DataFrame 看起来像这样："
   ]
  },
  {
   "cell_type": "code",
   "execution_count": 46,
   "metadata": {
    "collapsed": false
   },
   "outputs": [
    {
     "data": {
      "text/html": [
       "<div>\n",
       "<style scoped>\n",
       "    .dataframe tbody tr th:only-of-type {\n",
       "        vertical-align: middle;\n",
       "    }\n",
       "\n",
       "    .dataframe tbody tr th {\n",
       "        vertical-align: top;\n",
       "    }\n",
       "\n",
       "    .dataframe thead th {\n",
       "        text-align: right;\n",
       "    }\n",
       "</style>\n",
       "<table border=\"1\" class=\"dataframe\">\n",
       "  <thead>\n",
       "    <tr style=\"text-align: right;\">\n",
       "      <th></th>\n",
       "      <th>label</th>\n",
       "      <th>value</th>\n",
       "    </tr>\n",
       "  </thead>\n",
       "  <tbody>\n",
       "    <tr>\n",
       "      <th>0</th>\n",
       "      <td>A</td>\n",
       "      <td>1</td>\n",
       "    </tr>\n",
       "    <tr>\n",
       "      <th>1</th>\n",
       "      <td>B</td>\n",
       "      <td>2</td>\n",
       "    </tr>\n",
       "    <tr>\n",
       "      <th>2</th>\n",
       "      <td>C</td>\n",
       "      <td>3</td>\n",
       "    </tr>\n",
       "    <tr>\n",
       "      <th>3</th>\n",
       "      <td>A</td>\n",
       "      <td>4</td>\n",
       "    </tr>\n",
       "    <tr>\n",
       "      <th>4</th>\n",
       "      <td>B</td>\n",
       "      <td>5</td>\n",
       "    </tr>\n",
       "    <tr>\n",
       "      <th>5</th>\n",
       "      <td>C</td>\n",
       "      <td>6</td>\n",
       "    </tr>\n",
       "  </tbody>\n",
       "</table>\n",
       "</div>"
      ],
      "text/plain": [
       "  label  value\n",
       "0     A      1\n",
       "1     B      2\n",
       "2     C      3\n",
       "3     A      4\n",
       "4     B      5\n",
       "5     C      6"
      ]
     },
     "execution_count": 46,
     "metadata": {},
     "output_type": "execute_result"
    }
   ],
   "source": [
    "import pandas as pd\n",
    "df = pd.DataFrame({'label': ['A', 'B', 'C', 'A', 'B', 'C'],\n",
    "                   'value': [1, 2, 3, 4, 5, 6]})\n",
    "df"
   ]
  },
  {
   "cell_type": "markdown",
   "metadata": {},
   "source": [
    "Pandas 接口允许你按名称选择列："
   ]
  },
  {
   "cell_type": "code",
   "execution_count": 47,
   "metadata": {
    "collapsed": false
   },
   "outputs": [
    {
     "data": {
      "text/plain": [
       "0    A\n",
       "1    B\n",
       "2    C\n",
       "3    A\n",
       "4    B\n",
       "5    C\n",
       "Name: label, dtype: object"
      ]
     },
     "execution_count": 47,
     "metadata": {},
     "output_type": "execute_result"
    }
   ],
   "source": [
    "df['label']"
   ]
  },
  {
   "cell_type": "markdown",
   "metadata": {},
   "source": [
    "对字符串条目应用字符串操作："
   ]
  },
  {
   "cell_type": "code",
   "execution_count": 48,
   "metadata": {
    "collapsed": false
   },
   "outputs": [
    {
     "data": {
      "text/plain": [
       "0    a\n",
       "1    b\n",
       "2    c\n",
       "3    a\n",
       "4    b\n",
       "5    c\n",
       "Name: label, dtype: object"
      ]
     },
     "execution_count": 48,
     "metadata": {},
     "output_type": "execute_result"
    }
   ],
   "source": [
    "df['label'].str.lower()"
   ]
  },
  {
   "cell_type": "markdown",
   "metadata": {},
   "source": [
    "对数值条目应用聚合操作："
   ]
  },
  {
   "cell_type": "code",
   "execution_count": 49,
   "metadata": {
    "collapsed": false
   },
   "outputs": [
    {
     "data": {
      "text/plain": [
       "21"
      ]
     },
     "execution_count": 49,
     "metadata": {},
     "output_type": "execute_result"
    }
   ],
   "source": [
    "df['value'].sum()"
   ]
  },
  {
   "cell_type": "markdown",
   "metadata": {},
   "source": [
    "而且，也许最重要的是，进行高效的数据库风格的连接和分组："
   ]
  },
  {
   "cell_type": "code",
   "execution_count": 50,
   "metadata": {
    "collapsed": false
   },
   "outputs": [
    {
     "data": {
      "text/html": [
       "<div>\n",
       "<style scoped>\n",
       "    .dataframe tbody tr th:only-of-type {\n",
       "        vertical-align: middle;\n",
       "    }\n",
       "\n",
       "    .dataframe tbody tr th {\n",
       "        vertical-align: top;\n",
       "    }\n",
       "\n",
       "    .dataframe thead th {\n",
       "        text-align: right;\n",
       "    }\n",
       "</style>\n",
       "<table border=\"1\" class=\"dataframe\">\n",
       "  <thead>\n",
       "    <tr style=\"text-align: right;\">\n",
       "      <th></th>\n",
       "      <th>value</th>\n",
       "    </tr>\n",
       "    <tr>\n",
       "      <th>label</th>\n",
       "      <th></th>\n",
       "    </tr>\n",
       "  </thead>\n",
       "  <tbody>\n",
       "    <tr>\n",
       "      <th>A</th>\n",
       "      <td>5</td>\n",
       "    </tr>\n",
       "    <tr>\n",
       "      <th>B</th>\n",
       "      <td>7</td>\n",
       "    </tr>\n",
       "    <tr>\n",
       "      <th>C</th>\n",
       "      <td>9</td>\n",
       "    </tr>\n",
       "  </tbody>\n",
       "</table>\n",
       "</div>"
      ],
      "text/plain": [
       "       value\n",
       "label       \n",
       "A          5\n",
       "B          7\n",
       "C          9"
      ]
     },
     "execution_count": 50,
     "metadata": {},
     "output_type": "execute_result"
    }
   ],
   "source": [
    "df.groupby('label').sum()"
   ]
  },
  {
   "cell_type": "markdown",
   "metadata": {},
   "source": [
    "在这里，我们用一行代码就计算了所有具有相同标签的对象的总和，使用 NumPy 和核心 Python 提供的工具来做这件事会更加冗长（而且效率更低）。\n",
    "\n",
    "有关使用 Pandas 的更多信息，请参见 [进一步学习的资源](16-Further-Resources.ipynb)。"
   ]
  },
  {
   "cell_type": "markdown",
   "metadata": {},
   "source": [
    "## Matplotlib：MatLab 风格的科学可视化\n",
    "\n",
    "Matplotlib 目前是 Python 中最受欢迎的科学可视化包。\n",
    "即使是支持者也承认，它的接口有时过于冗长，但它是一个强大的库，可以创建各种图表。\n",
    "\n",
    "要使用 Matplotlib，我们可以通过启用笔记本模式（用于 Jupyter 笔记本），然后将包导入为 ``plt``："
   ]
  },
  {
   "cell_type": "code",
   "execution_count": 51,
   "metadata": {
    "collapsed": true
   },
   "outputs": [],
   "source": [
    "# 如果使用 Jupyter 笔记本，请运行此代码\n",
    "%matplotlib inline"
   ]
  },
  {
   "cell_type": "code",
   "execution_count": 52,
   "metadata": {
    "collapsed": true
   },
   "outputs": [],
   "source": [
    "import matplotlib.pyplot as plt\n",
    "plt.style.use('ggplot')  # 使图表风格类似于 R 的 ggplot"
   ]
  },
  {
   "cell_type": "markdown",
   "metadata": {},
   "source": [
    "现在让我们创建一些数据（当然是作为 NumPy 数组）并绘制结果："
   ]
  },
  {
   "cell_type": "code",
   "execution_count": 53,
   "metadata": {
    "collapsed": false
   },
   "outputs": [
    {
     "data": {
      "image/png": "[encoded data removed]",
      "text/plain": [
       "<Figure size 640x480 with 1 Axes>"
      ]
     },
     "metadata": {},
     "output_type": "display_data"
    }
   ],
   "source": [
    "x = np.linspace(0, 10)  # 0 到 10 的值范围\n",
    "y = np.sin(x)           # 这些值的正弦值\n",
    "plt.plot(x, y);         # 绘制为线条"
   ]
  },
  {
   "cell_type": "markdown",
   "metadata": {},
   "source": [
    "如果你实时运行此代码，你将看到一个可以平移、缩放和滚动以探索数据的交互式图表。\n",
    "\n",
    "这是最简单的 Matplotlib 图表示例；有关可用的广泛图表类型的灵感，请参阅 [Matplotlib 的在线图库](http://matplotlib.org/gallery.html)，以及 [进一步学习的资源](16-Further-Resources.ipynb) 中列出的其他参考资料。"
   ]
  },
  {
   "cell_type": "markdown",
   "metadata": {},
   "source": [
    "## SciPy：科学 Python\n",
    "\n",
    "SciPy 是建立在 NumPy 之上的科学功能集合。\n",
    "这个包最初是一组 Python 对著名 Fortran 数值计算库的包装器，从那时起不断发展。\n",
    "该包由一系列子模块组成，每个子模块实现某类数值算法。\n",
    "这里是一些对数据科学更重要的子模块的不完整样本：\n",
    "\n",
    "- ``scipy.fftpack``：快速傅里叶变换\n",
    "- ``scipy.integrate``：数值积分\n",
    "- ``scipy.interpolate``：数值插值\n",
    "- ``scipy.linalg``：线性代数例程\n",
    "- ``scipy.optimize``：函数的数值优化\n",
    "- ``scipy.sparse``：稀疏矩阵存储和线性代数\n",
    "- ``scipy.stats``：统计分析例程\n",
    "\n",
    "例如，让我们看看在一些数据之间平滑插值一条曲线。"
   ]
  },
  {
   "cell_type": "code",
   "execution_count": 54,
   "metadata": {
    "collapsed": false
   },
   "outputs": [
    {
     "name": "stdout",
     "output_type": "stream",
     "text": [
      "x: [ 0.          1.42857143  2.85714286  4.28571429  5.71428571  7.14285714\n",
      "  8.57142857 10.        ]\n",
      "y: [ 0.          0.98990308  0.2806294  -0.91034694 -0.53870529  0.75762842\n",
      "  0.75348673 -0.54402111]\n",
      "Interpolation function: <scipy.interpolate._interpolate.interp1d object at 0x000001C31623C450>\n",
      "Interpolated y values at x_interp: [0.         0.01479936 0.02947412 0.04402457 0.058451   0.07275371\n",
      " 0.08693299 0.10098911 0.11492238 0.12873309]\n"
     ]
    },
    {
     "data": {
      "image/png": "[encoded data removed]",
      "text/plain": [
       "<Figure size 640x480 with 1 Axes>"
      ]
     },
     "metadata": {},
     "output_type": "display_data"
    }
   ],
   "source": [
    "from scipy import interpolate\n",
    "\n",
    "# 在 0 和 10 之间选择 8 个点\n",
    "x = np.linspace(0, 10, 8)\n",
    "y = np.sin(x)\n",
    "\n",
    "print(\"x:\", x)\n",
    "print(\"y:\", y)\n",
    "\n",
    "# 创建一个三次插值函数\n",
    "func = interpolate.interp1d(x, y, kind='cubic')\n",
    "\n",
    "print(\"Interpolation function:\", func)\n",
    "\n",
    "# 在 1,000 个点的网格上插值\n",
    "x_interp = np.linspace(0, 10, 1000)\n",
    "y_interp = func(x_interp)\n",
    "\n",
    "print(\"Interpolated y values at x_interp:\", y_interp[:10])  # 打印前10个插值结果\n",
    "\n",
    "# 绘制结果\n",
    "plt.figure()  # 新建图形\n",
    "plt.plot(x, y, 'o')\n",
    "plt.plot(x_interp, y_interp);"
   ]
  },
  {
   "cell_type": "markdown",
   "metadata": {},
   "source": [
    "我们看到的是点之间的平滑插值。"
   ]
  },
  {
   "cell_type": "markdown",
   "metadata": {},
   "source": [
    "## 其他数据科学包\n",
    "\n",
    "在这些工具之上，还有许多其他数据科学包，包括通用工具，如 [Scikit-Learn](http://scikit-learn.org) 用于机器学习，[Scikit-Image](http://scikit-image.org) 用于图像分析，以及 [Statsmodels](http://statsmodels.sourceforge.net/) 用于统计建模，以及更特定领域的包，如 [AstroPy](http://astropy.org) 用于天文学和天体物理学，[NiPy](http://nipy.org/) 用于神经成像，等等。\n",
    "\n",
    "无论你面临的是哪种科学、数值或统计问题，很可能有一个 Python 包可以帮助你解决它。"
   ]
  },
  {
   "cell_type": "markdown",
   "metadata": {},
   "source": [
    "<!--NAVIGATION-->\n",
    "< [字符串操作和正则表达式](14-Strings-and-Regular-Expressions.ipynb) | [目录](Index.ipynb) | [进一步学习的资源](16-Further-Resources.ipynb) >"
   ]
  }
 ],
 "metadata": {
  "anaconda-cloud": {},
  "kernelspec": {
   "display_name": "datamine",
   "language": "python",
   "name": "python3"
  },
  "language_info": {
   "codemirror_mode": {
    "name": "ipython",
    "version": 3
   },
   "file_extension": ".py",
   "mimetype": "text/x-python",
   "name": "python",
   "nbconvert_exporter": "python",
   "pygments_lexer": "ipython3",
   "version": "3.8.20"
  }
 },
 "nbformat": 4,
 "nbformat_minor": 0
}
