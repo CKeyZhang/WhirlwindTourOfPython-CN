{
 "cells": [
  {
   "cell_type": "markdown",
   "metadata": {},
   "source": [
    "<!--BOOK_INFORMATION-->\n",
    "<img align=\"left\" style=\"padding-right:10px;\" src=\"fig/cover-small.jpg\">\n",
    "\n",
    "*本文摘自 Jake VanderPlas 的《Python 简明教程》；内容可在 [GitHub](https://github.com/jakevdp/WhirlwindTourOfPython) 上找到。*\n",
    "\n",
    "*文本和代码均在 [CC0](https://github.com/jakevdp/WhirlwindTourOfPython/blob/master/LICENSE) 许可下发布；还可参考配套项目 [Python 数据科学手册](https://github.com/jakevdp/PythonDataScienceHandbook)。*\n"
   ]
  },
  {
   "cell_type": "markdown",
   "metadata": {},
   "source": [
    "<!--NAVIGATION-->\n",
    "< [Python 语义基础：变量和对象](03-Semantics-Variables.ipynb) | [目录](Index.ipynb) | [内置类型：简单值](05-Built-in-Scalar-Types.ipynb) >"
   ]
  },
  {
   "cell_type": "markdown",
   "metadata": {},
   "source": [
    "# Python 语义基础：运算符"
   ]
  },
  {
   "cell_type": "markdown",
   "metadata": {},
   "source": [
    "在上一节中，我们开始了解 Python 变量和对象的语义；本节我们将深入探讨语言中各种 *运算符* 的语义。\n",
    "学完本节后，你将掌握比较和操作 Python 数据的基本工具。"
   ]
  },
  {
   "cell_type": "markdown",
   "metadata": {},
   "source": [
    "## 算术运算\n",
    "Python 实现了七种基本的二元算术运算符，其中两种也可以用作一元运算符。\n",
    "它们在下表中进行了总结：\n",
    "\n",
    "| 运算符     | 名称           | 描述                                            |\n",
    "|--------------|----------------|--------------------------------------------------------|\n",
    "| ``a + b``    | 加法           | ``a`` 和 ``b`` 的和                                 |\n",
    "| ``a - b``    | 减法           | ``a`` 和 ``b`` 的差                                  |\n",
    "| ``a * b``    | 乘法           | ``a`` 和 ``b`` 的积                                   |\n",
    "| ``a / b``    | 真除法         | ``a`` 和 ``b`` 的商                                   |\n",
    "| ``a // b``   | 地板除法       | ``a`` 和 ``b`` 的商，舍去小数部分                     |\n",
    "| ``a % b``    | 求余           | ``a`` 除以 ``b`` 的整数余数                           |\n",
    "| ``a ** b``   | 幂运算         | ``a`` 的 ``b`` 次幂                                  |\n",
    "| ``-a``       | 取反           | ``a`` 的负数                                         |\n",
    "| ``+a``       | 一元正         | ``a`` 保持不变（很少使用）                           |\n",
    "\n",
    "这些运算符可以以直观的方式组合使用，并使用标准的括号来分组运算。\n",
    "例如："
   ]
  },
  {
   "cell_type": "code",
   "execution_count": 28,
   "metadata": {
    "collapsed": false
   },
   "outputs": [
    {
     "data": {
      "text/plain": [
       "42.0"
      ]
     },
     "execution_count": 28,
     "metadata": {},
     "output_type": "execute_result"
    }
   ],
   "source": [
    "# 加法、减法、乘法\n",
    "(4 + 8) * (6.5 - 3)"
   ]
  },
  {
   "cell_type": "markdown",
   "metadata": {},
   "source": [
    "地板除法是真除法的小数部分被截断："
   ]
  },
  {
   "cell_type": "code",
   "execution_count": 29,
   "metadata": {
    "collapsed": false
   },
   "outputs": [
    {
     "name": "stdout",
     "output_type": "stream",
     "text": [
      "5.5\n"
     ]
    }
   ],
   "source": [
    "# 真除法\n",
    "print(11 / 2)"
   ]
  },
  {
   "cell_type": "code",
   "execution_count": 30,
   "metadata": {
    "collapsed": false
   },
   "outputs": [
    {
     "name": "stdout",
     "output_type": "stream",
     "text": [
      "5\n"
     ]
    }
   ],
   "source": [
    "# 地板除法\n",
    "print(11 // 2)"
   ]
  },
  {
   "cell_type": "markdown",
   "metadata": {},
   "source": [
    "地板除运算符是在 Python 3 中新增的；如果你使用的是 Python 2，需要注意标准除法运算符（``/``）对整数执行地板除，对浮点数执行真除法。\n",
    "\n",
    "最后，我想提到 Python 3.5 中新增的一个第八个算术运算符：``a @ b`` 运算符，它用于表示 ``a`` 和 ``b`` 的 *矩阵乘积*，在各种线性代数包中使用。"
   ]
  },
  {
   "cell_type": "markdown",
   "metadata": {},
   "source": [
    "## 位运算\n",
    "除了标准的数值运算外，Python 还提供了用于对整数执行按位逻辑运算的运算符。\n",
    "这些运算符的使用频率远低于标准算术运算符，但了解它们的存在也很有用。\n",
    "六个位运算符在下表中进行了总结：\n",
    "\n",
    "| 运算符     | 名称            | 描述                                 |\n",
    "|--------------|-----------------|---------------------------------------------|\n",
    "| ``a & b``    | 按位与         | 在 ``a`` 和 ``b`` 中都定义的位        |\n",
    "| <code>a &#124; b</code>| 按位或         | 在 ``a`` 或 ``b`` 或两者中定义的位      |\n",
    "| ``a ^ b``    | 按位异或       | 在 ``a`` 或 ``b`` 中但不在两者中都定义的位 |\n",
    "| ``a << b``   | 左移位         | 将 ``a`` 的位向左移动 ``b`` 位     |\n",
    "| ``a >> b``   | 右移位         | 将 ``a`` 的位向右移动 ``b`` 位    |\n",
    "| ``~a``       | 按位取反       | ``a`` 的按位取反                          |\n",
    "\n",
    "这些位运算符仅在数字的二进制表示方面才有意义，你可以使用内置的 ``bin`` 函数查看它们："
   ]
  },
  {
   "cell_type": "code",
   "execution_count": 31,
   "metadata": {
    "collapsed": false
   },
   "outputs": [
    {
     "data": {
      "text/plain": [
       "'0b1010'"
      ]
     },
     "execution_count": 31,
     "metadata": {},
     "output_type": "execute_result"
    }
   ],
   "source": [
    "bin(10)"
   ]
  },
  {
   "cell_type": "markdown",
   "metadata": {},
   "source": [
    "结果以 ``'0b'`` 开头，表示二进制表示。\n",
    "其余数字表明数字 10 表示为 $1 \\cdot 2^3 + 0 \\cdot 2^2 + 1 \\cdot 2^1 + 0 \\cdot 2^0$ 的和。\n",
    "同样，我们可以写："
   ]
  },
  {
   "cell_type": "code",
   "execution_count": 32,
   "metadata": {
    "collapsed": false
   },
   "outputs": [
    {
     "data": {
      "text/plain": [
       "'0b100'"
      ]
     },
     "execution_count": 32,
     "metadata": {},
     "output_type": "execute_result"
    }
   ],
   "source": [
    "bin(4)"
   ]
  },
  {
   "cell_type": "markdown",
   "metadata": {},
   "source": [
    "现在，使用按位或，我们可以找到将 4 和 10 的位组合起来的数字："
   ]
  },
  {
   "cell_type": "code",
   "execution_count": 33,
   "metadata": {
    "collapsed": false
   },
   "outputs": [
    {
     "data": {
      "text/plain": [
       "14"
      ]
     },
     "execution_count": 33,
     "metadata": {},
     "output_type": "execute_result"
    }
   ],
   "source": [
    "4 | 10"
   ]
  },
  {
   "cell_type": "code",
   "execution_count": 34,
   "metadata": {
    "collapsed": false
   },
   "outputs": [
    {
     "data": {
      "text/plain": [
       "'0b1110'"
      ]
     },
     "execution_count": 34,
     "metadata": {},
     "output_type": "execute_result"
    }
   ],
   "source": [
    "bin(4 | 10)"
   ]
  },
  {
   "cell_type": "markdown",
   "metadata": {},
   "source": [
    "这些按位运算符不像标准算术运算符那样立即有用，但至少看到它们一次以了解它们属于哪一类运算很有帮助。\n",
    "特别是，其他语言的用户有时会错误地使用异或（即 ``a ^ b``）而不是指数运算（即 ``a ** b``）。"
   ]
  },
  {
   "cell_type": "markdown",
   "metadata": {},
   "source": [
    "## 赋值运算\n",
    "我们已经看到变量可以使用 \"``=``\" 运算符赋值，并将值存储起来以供后续使用。例如："
   ]
  },
  {
   "cell_type": "code",
   "execution_count": 35,
   "metadata": {
    "collapsed": false
   },
   "outputs": [
    {
     "name": "stdout",
     "output_type": "stream",
     "text": [
      "24\n"
     ]
    }
   ],
   "source": [
    "a = 24\n",
    "print(a)"
   ]
  },
  {
   "cell_type": "markdown",
   "metadata": {},
   "source": [
    "我们可以在任何前面提到的运算符的表达式中使用这些变量。\n",
    "例如，要将 2 加到 ``a``，我们写："
   ]
  },
  {
   "cell_type": "code",
   "execution_count": 36,
   "metadata": {
    "collapsed": false
   },
   "outputs": [
    {
     "data": {
      "text/plain": [
       "26"
      ]
     },
     "execution_count": 36,
     "metadata": {},
     "output_type": "execute_result"
    }
   ],
   "source": [
    "a + 2"
   ]
  },
  {
   "cell_type": "markdown",
   "metadata": {},
   "source": [
    "我们可能希望用这个新值更新变量 ``a``；在这种情况下，我们可以将加法和赋值结合起来写 ``a = a + 2``。\n",
    "由于这种组合操作和赋值非常常见，Python 提供了所有算术运算的内置更新运算符："
   ]
  },
  {
   "cell_type": "code",
   "execution_count": 37,
   "metadata": {
    "collapsed": false
   },
   "outputs": [
    {
     "name": "stdout",
     "output_type": "stream",
     "text": [
      "26\n"
     ]
    }
   ],
   "source": [
    "a += 2  # 等同于 a = a + 2\n",
    "print(a)"
   ]
  },
  {
   "cell_type": "markdown",
   "metadata": {},
   "source": [
    "每个二元运算符都有一个对应的增强赋值运算符；简而言之，它们是：\n",
    "|运算符|运算符|运算符|运算符|\n",
    "|-|-|-|-|\n",
    "|``a += b``| ``a -= b``|``a *= b``| ``a /= b``|\n",
    "|``a //= b``| ``a %= b``|``a **= b``|``a &= b``|\n",
    "|``a \\|= b``| ``a ^= b``|``a <<= b``| ``a >>= b``|\n",
    "\n",
    "每个运算符都等同于先执行对应的运算，再进行赋值：也就是说，对于任何运算符 \"``■``\"，表达式 ``a ■= b`` 等同于 ``a = a ■ b``，但有一个细微的差别。\n",
    "对于像列表、数组或 DataFrame 这样的可变对象，这些增强赋值运算实际上与它们更冗长的对应运算略有不同：它们修改原始对象的内容，而不是创建一个新对象来存储结果。"
   ]
  },
  {
   "cell_type": "markdown",
   "metadata": {},
   "source": [
    "## 比较运算\n",
    "\n",
    "另一种非常有用的运算类型是比较不同值。\n",
    "为此，Python 提供了标准的比较运算符，返回布尔值 ``True`` 和 ``False``。\n",
    "比较运算符在下表中进行了总结：\n",
    "\n",
    "| 运算         | 描述                       | 运算         | 描述                          |\n",
    "|--------------|----------------------------|--------------|-------------------------------|\n",
    "| ``a == b``   | ``a`` 等于 ``b``           | ``a != b``   | ``a`` 不等于 ``b``            |\n",
    "| ``a < b``    | ``a`` 小于 ``b``           | ``a > b``    | ``a`` 大于 ``b``              |\n",
    "| ``a <= b``   | ``a`` 小于等于 ``b``       | ``a >= b``   | ``a`` 大于等于 ``b``          |\n",
    "\n",
    "这些比较运算符可以与算术和位运算符结合起来，表达几乎无限范围的数字测试。\n",
    "例如，我们可以通过检查除以 2 的余数是否为 1 来检查一个数字是否为奇数："
   ]
  },
  {
   "cell_type": "code",
   "execution_count": 38,
   "metadata": {
    "collapsed": false
   },
   "outputs": [
    {
     "data": {
      "text/plain": [
       "True"
      ]
     },
     "execution_count": 38,
     "metadata": {},
     "output_type": "execute_result"
    }
   ],
   "source": [
    "# 25 是奇数\n",
    "25 % 2 == 1"
   ]
  },
  {
   "cell_type": "code",
   "execution_count": 39,
   "metadata": {
    "collapsed": false
   },
   "outputs": [
    {
     "data": {
      "text/plain": [
       "False"
      ]
     },
     "execution_count": 39,
     "metadata": {},
     "output_type": "execute_result"
    }
   ],
   "source": [
    "# 66 不是奇数\n",
    "66 % 2 == 1"
   ]
  },
  {
   "cell_type": "markdown",
   "metadata": {},
   "source": [
    "我们可以将多个比较运算符串联起来，检查更复杂的关系："
   ]
  },
  {
   "cell_type": "code",
   "execution_count": 40,
   "metadata": {
    "collapsed": false
   },
   "outputs": [
    {
     "data": {
      "text/plain": [
       "True"
      ]
     },
     "execution_count": 40,
     "metadata": {},
     "output_type": "execute_result"
    }
   ],
   "source": [
    "# 检查 a 是否在 15 和 30 之间\n",
    "a = 25\n",
    "15 < a < 30"
   ]
  },
  {
   "cell_type": "markdown",
   "metadata": {},
   "source": [
    "并且，让你稍微头疼一点，看看这个比较："
   ]
  },
  {
   "cell_type": "code",
   "execution_count": 41,
   "metadata": {
    "collapsed": false
   },
   "outputs": [
    {
     "data": {
      "text/plain": [
       "True"
      ]
     },
     "execution_count": 41,
     "metadata": {},
     "output_type": "execute_result"
    }
   ],
   "source": [
    "-1 == ~0"
   ]
  },
  {
   "cell_type": "markdown",
   "metadata": {},
   "source": [
    "回想一下 ``~`` 是按位取反运算符，显然当把所有位取反时，0 变成了 -1。\n",
    "如果你好奇为什么会这样，请查阅 *二进制补码* 整数编码方案，这是 Python 用来编码有符号整数的方案，并思考一下用这种方式编码的整数进行按位取反时会发生什么。"
   ]
  },
  {
   "cell_type": "markdown",
   "metadata": {},
   "source": [
    "## 布尔运算\n",
    "在处理布尔值时，Python 提供了运算符来使用标准的 “与”、“或” 和 “非” 概念组合这些值。\n",
    "不出所料，这些运算符用单词 ``and``、``or`` 和 ``not`` 表示："
   ]
  },
  {
   "cell_type": "code",
   "execution_count": 42,
   "metadata": {
    "collapsed": false
   },
   "outputs": [
    {
     "data": {
      "text/plain": [
       "True"
      ]
     },
     "execution_count": 42,
     "metadata": {},
     "output_type": "execute_result"
    }
   ],
   "source": [
    "x = 4\n",
    "(x < 6) and (x > 2)"
   ]
  },
  {
   "cell_type": "code",
   "execution_count": 43,
   "metadata": {
    "collapsed": false
   },
   "outputs": [
    {
     "data": {
      "text/plain": [
       "True"
      ]
     },
     "execution_count": 43,
     "metadata": {},
     "output_type": "execute_result"
    }
   ],
   "source": [
    "(x > 10) or (x % 2 == 0)"
   ]
  },
  {
   "cell_type": "code",
   "execution_count": 44,
   "metadata": {
    "collapsed": false
   },
   "outputs": [
    {
     "data": {
      "text/plain": [
       "False"
      ]
     },
     "execution_count": 44,
     "metadata": {},
     "output_type": "execute_result"
    }
   ],
   "source": [
    "not (x < 6)"
   ]
  },
  {
   "cell_type": "markdown",
   "metadata": {},
   "source": [
    "布尔代数爱好者可能会注意到没有包含异或运算符；当然，这可以通过其他运算符的复合语句来构造。\n",
    "否则，一个巧妙的技巧是用以下方式对布尔值进行异或："
   ]
  },
  {
   "cell_type": "code",
   "execution_count": 45,
   "metadata": {
    "collapsed": false
   },
   "outputs": [
    {
     "data": {
      "text/plain": [
       "False"
      ]
     },
     "execution_count": 45,
     "metadata": {},
     "output_type": "execute_result"
    }
   ],
   "source": [
    "# (x > 1) 异或 (x < 10)\n",
    "(x > 1) != (x < 10)"
   ]
  },
  {
   "cell_type": "markdown",
   "metadata": {},
   "source": [
    "这些布尔运算在我们开始讨论 *控制流语句*（如条件语句和循环）时将变得极其有用。\n",
    "\n",
    "关于何时使用布尔运算符（``and``、``or``、``not``）以及何时使用位运算符（``&``、``|``、``~``），语言中有一个有时令人困惑的地方。\n",
    "答案在于它们的名字：布尔运算符应在你想要计算 *整个语句的布尔值（即真假）* 时使用。\n",
    "位运算符应在你想要对 *对象的各个位或组件进行操作* 时使用。"
   ]
  },
  {
   "cell_type": "markdown",
   "metadata": {},
   "source": [
    "## 身份和成员运算符\n",
    "\n",
    "像 ``and``、``or`` 和 ``not`` 一样，Python 还包含了类似自然语言的运算符来检查身份和成员关系。\n",
    "它们如下所示：\n",
    "\n",
    "| 运算符      | 描述                                       |\n",
    "|---------------|---------------------------------------------------|\n",
    "| ``a is b``    | 如果 ``a`` 和 ``b`` 是相同对象则为 True     |\n",
    "| ``a is not b``| 如果 ``a`` 和 ``b`` 不是相同对象则为 True |\n",
    "| ``a in b``    | 如果 ``a`` 是 ``b`` 的成员则为 True                |\n",
    "| ``a not in b``| 如果 ``a`` 不是 ``b`` 的成员则为 True            |"
   ]
  },
  {
   "cell_type": "markdown",
   "metadata": {},
   "source": [
    "### 身份运算符：\"``is``\" 和 \"``is not``\"\n",
    "\n",
    "身份运算符 \"``is``\" 和 \"``is not``\" 检查 *对象身份*。\n",
    "对象身份与等价性不同，正如我们在这里看到的："
   ]
  },
  {
   "cell_type": "code",
   "execution_count": 46,
   "metadata": {
    "collapsed": false
   },
   "outputs": [],
   "source": [
    "a = [1, 2, 3]\n",
    "b = [1, 2, 3]"
   ]
  },
  {
   "cell_type": "code",
   "execution_count": 47,
   "metadata": {
    "collapsed": false
   },
   "outputs": [
    {
     "data": {
      "text/plain": [
       "True"
      ]
     },
     "execution_count": 47,
     "metadata": {},
     "output_type": "execute_result"
    }
   ],
   "source": [
    "a == b"
   ]
  },
  {
   "cell_type": "code",
   "execution_count": 48,
   "metadata": {
    "collapsed": false
   },
   "outputs": [
    {
     "data": {
      "text/plain": [
       "False"
      ]
     },
     "execution_count": 48,
     "metadata": {},
     "output_type": "execute_result"
    }
   ],
   "source": [
    "a is b"
   ]
  },
  {
   "cell_type": "code",
   "execution_count": 49,
   "metadata": {
    "collapsed": false
   },
   "outputs": [
    {
     "data": {
      "text/plain": [
       "True"
      ]
     },
     "execution_count": 49,
     "metadata": {},
     "output_type": "execute_result"
    }
   ],
   "source": [
    "a is not b"
   ]
  },
  {
   "cell_type": "markdown",
   "metadata": {},
   "source": [
    "相同对象的示例如下："
   ]
  },
  {
   "cell_type": "code",
   "execution_count": 50,
   "metadata": {
    "collapsed": false
   },
   "outputs": [
    {
     "data": {
      "text/plain": [
       "True"
      ]
     },
     "execution_count": 50,
     "metadata": {},
     "output_type": "execute_result"
    }
   ],
   "source": [
    "a = [1, 2, 3]\n",
    "b = a\n",
    "a is b"
   ]
  },
  {
   "cell_type": "markdown",
   "metadata": {},
   "source": [
    "这两种情况的区别在于，在第一种情况下，``a`` 和 ``b`` 指向 *不同的对象*，而在第二种情况下，它们指向 *同一个对象*。\n",
    "正如我们在前面部分看到的，Python 变量是指针。“``is``” 运算符检查两个变量是否指向同一个容器（对象），而不是容器的内容。\n",
    "考虑到这一点，在大多数情况下，当新手想使用 “``is``” 时，他们真正想用的是 ``==``。"
   ]
  },
  {
   "cell_type": "markdown",
   "metadata": {},
   "source": [
    "### 成员运算符\n",
    "成员运算符检查复合对象的成员关系。\n",
    "例如，我们可以写："
   ]
  },
  {
   "cell_type": "code",
   "execution_count": 51,
   "metadata": {
    "collapsed": false
   },
   "outputs": [
    {
     "data": {
      "text/plain": [
       "True"
      ]
     },
     "execution_count": 51,
     "metadata": {},
     "output_type": "execute_result"
    }
   ],
   "source": [
    "1 in [1, 2, 3]"
   ]
  },
  {
   "cell_type": "code",
   "execution_count": 52,
   "metadata": {
    "collapsed": false
   },
   "outputs": [
    {
     "data": {
      "text/plain": [
       "False"
      ]
     },
     "execution_count": 52,
     "metadata": {},
     "output_type": "execute_result"
    }
   ],
   "source": [
    "2 not in [1, 2, 3]"
   ]
  },
  {
   "cell_type": "markdown",
   "metadata": {},
   "source": [
    "这些成员运算符是 Python 相比于 C 等底层语言如此易于使用的一个例子。\n",
    "在 C 中，成员关系通常需要通过手动构造循环来检查每个值的等价性。\n",
    "在 Python 中，你只需写出你想知道的内容，就像用直白的英语一样。"
   ]
  },
  {
   "cell_type": "markdown",
   "metadata": {},
   "source": [
    "<!--NAVIGATION-->\n",
    "< [Python 语义基础：变量和对象](03-Semantics-Variables.ipynb) | [目录](Index.ipynb) | [内置类型：简单值](05-Built-in-Scalar-Types.ipynb) >"
   ]
  }
 ],
 "metadata": {
  "anaconda-cloud": {},
  "kernelspec": {
   "display_name": "datamine",
   "language": "python",
   "name": "python3"
  },
  "language_info": {
   "codemirror_mode": {
    "name": "ipython",
    "version": 3
   },
   "file_extension": ".py",
   "mimetype": "text/x-python",
   "name": "python",
   "nbconvert_exporter": "python",
   "pygments_lexer": "ipython3",
   "version": "3.8.20"
  }
 },
 "nbformat": 4,
 "nbformat_minor": 0
}
