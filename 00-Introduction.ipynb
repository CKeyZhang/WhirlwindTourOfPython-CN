{
 "cells": [
  {
   "cell_type": "markdown",
   "metadata": {},
   "source": [
    "<!--BOOK_INFORMATION-->\n",
    "<img align=\"left\" style=\"padding-right:10px;\" src=\"fig/cover-small.jpg\">\n",
    "\n",
    "*本文摘自 Jake VanderPlas 的 [Python 之旅](http://www.oreilly.com/programming/free/a-whirlwind-tour-of-python.csp )；内容可在 [GitHub](https://github.com/jakevdp/WhirlwindTourOfPython) 上找到。*\n",
    "\n",
    "*文本和代码根据 [CC0](https://github.com/jakevdp/WhirlwindTourOfPython/blob/master/LICENSE) 许可证发布；另请参阅配套项目，[Python 数据科学手册](https://github.com/jakevdp/PythonDataScienceHandbook)。*\n",
    "\n",
    "*中文翻译由 [ZhangCongke](https://ckeyzhang.github.io/) 提供，项目可在 [GitHub](https://github.com/CKeyZhang/WhirlwindTourOfPython-CN) 上找到。*\n"
   ]
  },
  {
   "cell_type": "markdown",
   "metadata": {},
   "source": [
    "<!--NAVIGATION-->\n",
    "| [目录](Index.ipynb) | [如何运行 Python 代码](01-How-to-Run-Python-Code.ipynb) >"
   ]
  },
  {
   "cell_type": "markdown",
   "metadata": {},
   "source": [
    "# 引言"
   ]
  },
  {
   "cell_type": "markdown",
   "metadata": {},
   "source": [
    "Python 诞生于 20 世纪 80 年代末，最初是一种教学和脚本语言，如今已成为许多程序员、工程师、研究人员和数据科学家在学术界和工业界的必备工具。\n",
    "作为一名专注于构建和推广用于数据密集型科学的免费开源工具的天文学家，我发现在日常工作中遇到的各种问题中，Python 几乎是完美的选择，无论是从大型天文数据集中提取意义，还是从网络抓取和整理数据源，亦或是自动化日常研究任务。\n",
    "\n",
    "Python 的吸引力在于它的简洁和优雅，以及建立在其上的庞大领域特定工具的便利性。\n",
    "例如，科学计算和数据科学中的大多数 Python 代码都是围绕一组成熟且有用的包构建的：\n",
    "\n",
    "- [NumPy](http://numpy.org) 提供了高效存储和计算多维数据数组的功能。\n",
    "- [SciPy](http://scipy.org) 包含了广泛的数值工具，如数值积分和插值。\n",
    "- [Pandas](http://pandas.pydata.org) 提供了一个 DataFrame 对象以及一套强大的方法来操作、过滤、分组和转换数据。\n",
    "- [Matplotlib](http://matplotlib.org) 提供了一个有用的接口，用于创建出版质量的图表和图形。\n",
    "- [Scikit-Learn](http://scikit-learn.org) 提供了一个统一的工具包，用于将常见的机器学习算法应用于数据。\n",
    "- [IPython/Jupyter](http://jupyter.org) 提供了一个增强型终端和一个交互式笔记本环境，适用于探索性分析，以及创建交互式、可执行的文档。例如，本报告的手稿完全是在 Jupyter 笔记本中完成的。\n",
    "\n",
    "同样重要的是伴随这些工具和包的众多其他工具和包：如果你想要执行某种科学或数据分析任务，很可能有人已经编写了一个可以完成该任务的包。\n",
    "\n",
    "然而，要利用这个数据科学生态系统的力量，首先需要熟悉 Python 语言本身。\n",
    "我经常遇到一些学生和同事，他们有（有时是广泛的）在某种语言（MATLAB、IDL、R、Java、C++ 等）中计算的背景，正在寻找一个简短但全面的 Python 语言之旅，该语言尊重他们的知识水平，而不是从零开始。\n",
    "本报告旨在填补这一空白。\n",
    "\n",
    "因此，本报告绝非旨在成为编程的全面介绍，也不是对 Python 语言本身的完整介绍；如果你正在寻找这样的内容，可以查看 [学习资源](16-Further-Resources.ipynb) 中列出的推荐参考资料。\n",
    "相反，这将提供 Python 的一些基本语法和语义、内置数据类型和结构、函数定义、控制流语句以及其他语言方面的快速浏览。\n",
    "我的目标是让读者在探索刚刚概述的数据科学堆栈时，拥有一个坚实的基础。"
   ]
  },
  {
   "cell_type": "markdown",
   "metadata": {},
   "source": [
    "## 使用代码示例\n",
    "\n",
    "补充材料（代码示例、练习等）可在 [https://github.com/jakevdp/WhirlwindTourOfPython/](https://github.com/jakevdp/WhirlwindTourOfPython/) 下载。\n",
    "本书旨在帮助你完成工作。\n",
    "一般来说，如果本书提供了示例代码，你可以在你的程序和文档中使用它。\n",
    "除非你要复制本书中相当一部分代码，否则无需联系我们获取许可。\n",
    "例如，编写一个使用本书中几段代码的程序不需要许可。\n",
    "销售或分发包含 O’Reilly 书籍示例的 CD-ROM 需要许可。\n",
    "引用本书并引用示例代码回答问题不需要许可。\n",
    "将本书中的大量示例代码纳入你产品的文档中需要许可。\n",
    "\n",
    "我们感谢，但不要求，注明出处。\n",
    "出处通常包括书名、作者、出版社和 ISBN。\n",
    "例如：\"《Python 之旅》Jake VanderPlas 著（O’Reilly）。版权所有 © 2016 O’Reilly Media, Inc.，ISBN 978-1-491-96465-1。\"\n",
    "\n",
    "如果你认为你对代码示例的使用超出了合理使用范围或上述许可范围，请随时联系我们 permissions@oreilly.com。"
   ]
  },
  {
   "cell_type": "markdown",
   "metadata": {},
   "source": [
    "## 安装和实际考虑\n",
    "\n",
    "无论你使用 Windows、Linux 还是 Mac OS X，安装 Python 和启用科学计算的库套件都很简单。本节将概述在设置计算机时的一些注意事项。"
   ]
  },
  {
   "cell_type": "markdown",
   "metadata": {},
   "source": [
    "### Python 2 与 Python 3\n",
    "\n",
    "本报告使用的是 Python 3 的语法，其中包含了一些与 Python *2.x* 系列不兼容的语言增强功能。\n",
    "尽管 Python 3.0 最早在 2008 年发布，但其采用速度相对较慢，特别是在科学和网络开发社区中。\n",
    "这主要是因为许多必要的包和工具包与新语言内部结构兼容需要一些时间。\n",
    "然而，自 2014 年初以来，数据科学生态系统中最重要的工具的稳定版本已经完全兼容 Python 2 和 3，因此本书将使用更新的 Python 3 语法。\n",
    "尽管如此，本书中的绝大多数代码片段也可以在 Python 2 中使用，无需修改：在使用了与 Py2 不兼容的语法的情况下，我会尽力明确指出。"
   ]
  },
  {
   "cell_type": "markdown",
   "metadata": {},
   "source": [
    "### 使用 conda 安装\n",
    "\n",
    "尽管安装 Python 有各种各样的方法，但如果你希望最终使用上述数据科学工具，我建议使用跨平台的 Anaconda 发行版。\n",
    "Anaconda 发行版有两种版本：\n",
    "\n",
    "- [Miniconda](http://conda.pydata.org/miniconda.html) 为你提供了 Python 解释器本身，以及一个名为 ``conda`` 的命令行工具，它作为一个面向 Python 包的跨平台包管理器，类似于 Linux 用户熟悉的 ``apt`` 或 ``yum`` 工具。\n",
    "- [Anaconda](https://www.continuum.io/downloads) 包括 Python 和 ``conda``，并且还捆绑了一系列针对科学计算的其他预安装包。\n",
    "\n",
    "Anaconda 中包含的任何包也可以手动安装在 Miniconda 之上；因此，我建议从 Miniconda 开始。\n",
    "\n",
    "要开始，请下载并安装带有 Python 3 的 Miniconda 版本，然后安装 IPython 笔记本包：\n",
    "```\n",
    "[~]$ conda install ipython-notebook\n",
    "```\n",
    "有关 ``conda`` 的更多信息，包括有关创建和使用 conda 环境的信息，请参阅上述页面链接的 Miniconda 包文档。"
   ]
  },
  {
   "cell_type": "markdown",
   "metadata": {},
   "source": [
    "## Python 的禅意\n",
    "\n",
    "Python 爱好者常常会指出 Python 是多么的“直观”、“优雅”或“有趣”。\n",
    "虽然我倾向于同意这种观点，但我也认识到，美丽、直观和乐趣往往与熟悉程度密切相关，因此对于熟悉其他语言的人来说，这种过于夸张的表达可能会显得有些自满。\n",
    "尽管如此，我希望如果你给 Python 一个机会，你会明白这些印象的来源。\n",
    "而且，如果你真的想深入了解驱动许多 Python 高级用户编码实践的编程哲学，Python 解释器中有一个很有趣的彩蛋：只需闭上眼睛，冥想几分钟，然后 ``import this``："
   ]
  },
  {
   "cell_type": "code",
   "execution_count": 1,
   "metadata": {
    "collapsed": false
   },
   "outputs": [
    {
     "name": "stdout",
     "output_type": "stream",
     "text": [
      "The Zen of Python, by Tim Peters\n",
      "\n",
      "Beautiful is better than ugly.\n",
      "Explicit is better than implicit.\n",
      "Simple is better than complex.\n",
      "Complex is better than complicated.\n",
      "Flat is better than nested.\n",
      "Sparse is better than dense.\n",
      "Readability counts.\n",
      "Special cases aren't special enough to break the rules.\n",
      "Although practicality beats purity.\n",
      "Errors should never pass silently.\n",
      "Unless explicitly silenced.\n",
      "In the face of ambiguity, refuse the temptation to guess.\n",
      "There should be one-- and preferably only one --obvious way to do it.\n",
      "Although that way may not be obvious at first unless you're Dutch.\n",
      "Now is better than never.\n",
      "Although never is often better than *right* now.\n",
      "If the implementation is hard to explain, it's a bad idea.\n",
      "If the implementation is easy to explain, it may be a good idea.\n",
      "Namespaces are one honking great idea -- let's do more of those!\n"
     ]
    }
   ],
   "source": [
    "import this"
   ]
  },
  {
   "cell_type": "markdown",
   "metadata": {},
   "source": [
    "让我们开始 Python 语言之旅吧。"
   ]
  },
  {
   "cell_type": "markdown",
   "metadata": {},
   "source": [
    "<!--NAVIGATION-->\n",
    "| [目录](Index.ipynb) | [如何运行 Python 代码](01-How-to-Run-Python-Code.ipynb) >"
   ]
  }
 ],
 "metadata": {
  "anaconda-cloud": {},
  "kernelspec": {
   "display_name": "datamine",
   "language": "python",
   "name": "python3"
  },
  "language_info": {
   "codemirror_mode": {
    "name": "ipython",
    "version": 3
   },
   "file_extension": ".py",
   "mimetype": "text/x-python",
   "name": "python",
   "nbconvert_exporter": "python",
   "pygments_lexer": "ipython3",
   "version": "3.8.20"
  }
 },
 "nbformat": 4,
 "nbformat_minor": 0
}
