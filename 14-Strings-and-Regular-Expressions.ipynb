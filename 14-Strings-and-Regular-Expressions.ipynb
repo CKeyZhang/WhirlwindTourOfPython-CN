{
 "cells": [
  {
   "cell_type": "markdown",
   "metadata": {},
   "source": [
    "<!--BOOK_INFORMATION-->\n",
    "<img align=\"left\" style=\"padding-right:10px;\" src=\"fig/cover-small.jpg\">\n",
    "\n",
    "*本文摘自 Jake VanderPlas 的 [Python 之旅](http://www.oreilly.com/programming/free/a-whirlwind-tour-of-python.csp )；内容可在 [GitHub](https://github.com/jakevdp/WhirlwindTourOfPython) 上找到。*\n",
    "\n",
    "*文本和代码根据 [CC0](https://github.com/jakevdp/WhirlwindTourOfPython/blob/master/LICENSE) 许可证发布；另请参阅配套项目，[Python 数据科学手册](https://github.com/jakevdp/PythonDataScienceHandbook)。*\n",
    "\n",
    "*中文翻译由 [ZhangCongke](https://ckeyzhang.github.io/) 提供，项目可在 [GitHub](https://github.com/CKeyZhang/WhirlwindTourOfPython-CN) 上找到。*\n"
   ]
  },
  {
   "cell_type": "markdown",
   "metadata": {},
   "source": [
    "<!--NAVIGATION-->\n",
    "< [模块和包](13-Modules-and-Packages.ipynb) | [目录](Index.ipynb) | [数据科学工具预览](15-Preview-of-Data-Science-Tools.ipynb) >"
   ]
  },
  {
   "cell_type": "markdown",
   "metadata": {},
   "source": [
    "# 字符串操作与正则表达式"
   ]
  },
  {
   "cell_type": "markdown",
   "metadata": {},
   "source": [
    "Python 在字符串操作方面表现出色，是语言的一大亮点。\n",
    "本节将介绍 Python 的一些内置字符串方法和格式化操作，然后快速浏览正则表达式这一极具实用性的主题。\n",
    "在数据科学工作中，这类字符串操作模式经常出现，这也是 Python 在此背景下的一个大优势。\n",
    "\n",
    "在 Python 中，字符串可以用单引号或双引号定义（它们的功能是等价的）："
   ]
  },
  {
   "cell_type": "code",
   "execution_count": 63,
   "metadata": {
    "collapsed": false
   },
   "outputs": [
    {
     "data": {
      "text/plain": [
       "True"
      ]
     },
     "execution_count": 63,
     "metadata": {},
     "output_type": "execute_result"
    }
   ],
   "source": [
    "x = 'a string'\n",
    "y = \"a string\"\n",
    "x == y"
   ]
  },
  {
   "cell_type": "markdown",
   "metadata": {},
   "source": [
    "此外，还可以使用三引号语法定义多行字符串："
   ]
  },
  {
   "cell_type": "code",
   "execution_count": 64,
   "metadata": {
    "collapsed": true
   },
   "outputs": [],
   "source": [
    "multiline = \"\"\"\n",
    "one\n",
    "two\n",
    "three\n",
    "\"\"\""
   ]
  },
  {
   "cell_type": "markdown",
   "metadata": {},
   "source": [
    "有了这些，让我们快速浏览一下 Python 的一些字符串操作工具。"
   ]
  },
  {
   "cell_type": "markdown",
   "metadata": {},
   "source": [
    "## Python 中的简单字符串操作\n",
    "\n",
    "对于基本的字符串操作，Python 的内置字符串方法非常方便。\n",
    "如果你有在 C 或其他低级语言中工作的背景，你会发现 Python 方法的简洁性令人耳目一新。\n",
    "我们之前已经介绍了 Python 的字符串类型和其中一些方法；这里我们将深入探讨。"
   ]
  },
  {
   "cell_type": "markdown",
   "metadata": {},
   "source": [
    "### 格式化字符串：调整大小写\n",
    "\n",
    "Python 让调整字符串的大小写变得非常容易。\n",
    "这里我们将查看 ``upper()``, ``lower()``, ``capitalize()``, ``title()`` 和 ``swapcase()`` 方法，以以下杂乱的字符串为例："
   ]
  },
  {
   "cell_type": "code",
   "execution_count": 65,
   "metadata": {
    "collapsed": true
   },
   "outputs": [],
   "source": [
    "fox = \"tHe qUICk bROWn fOx.\""
   ]
  },
  {
   "cell_type": "markdown",
   "metadata": {},
   "source": [
    "要将整个字符串转换为大写或小写，可以分别使用 ``upper()`` 或 ``lower()`` 方法："
   ]
  },
  {
   "cell_type": "code",
   "execution_count": 66,
   "metadata": {
    "collapsed": false
   },
   "outputs": [
    {
     "data": {
      "text/plain": [
       "'THE QUICK BROWN FOX.'"
      ]
     },
     "execution_count": 66,
     "metadata": {},
     "output_type": "execute_result"
    }
   ],
   "source": [
    "fox.upper()"
   ]
  },
  {
   "cell_type": "code",
   "execution_count": 67,
   "metadata": {
    "collapsed": false
   },
   "outputs": [
    {
     "data": {
      "text/plain": [
       "'the quick brown fox.'"
      ]
     },
     "execution_count": 67,
     "metadata": {},
     "output_type": "execute_result"
    }
   ],
   "source": [
    "fox.lower()"
   ]
  },
  {
   "cell_type": "markdown",
   "metadata": {},
   "source": [
    "一个常见的格式化需求是仅将每个单词或每个句子的首字母大写。\n",
    "这可以通过 ``title()`` 和 ``capitalize()`` 方法实现："
   ]
  },
  {
   "cell_type": "code",
   "execution_count": 68,
   "metadata": {
    "collapsed": false
   },
   "outputs": [
    {
     "data": {
      "text/plain": [
       "'The Quick Brown Fox.'"
      ]
     },
     "execution_count": 68,
     "metadata": {},
     "output_type": "execute_result"
    }
   ],
   "source": [
    "fox.title()"
   ]
  },
  {
   "cell_type": "code",
   "execution_count": 69,
   "metadata": {
    "collapsed": false
   },
   "outputs": [
    {
     "data": {
      "text/plain": [
       "'The quick brown fox.'"
      ]
     },
     "execution_count": 69,
     "metadata": {},
     "output_type": "execute_result"
    }
   ],
   "source": [
    "fox.capitalize()"
   ]
  },
  {
   "cell_type": "markdown",
   "metadata": {},
   "source": [
    "可以使用 ``swapcase()`` 方法交换大小写："
   ]
  },
  {
   "cell_type": "code",
   "execution_count": 70,
   "metadata": {
    "collapsed": false
   },
   "outputs": [
    {
     "data": {
      "text/plain": [
       "'ThE QuicK BrowN FoX.'"
      ]
     },
     "execution_count": 70,
     "metadata": {},
     "output_type": "execute_result"
    }
   ],
   "source": [
    "fox.swapcase()"
   ]
  },
  {
   "cell_type": "markdown",
   "metadata": {},
   "source": [
    "### 格式化字符串：添加和删除空格\n",
    "\n",
    "另一个常见需求是从字符串的开头或结尾移除空格（或其他字符）。\n",
    "移除字符的基本方法是 ``strip()`` 方法，它从行的开头和结尾移除空白："
   ]
  },
  {
   "cell_type": "code",
   "execution_count": 71,
   "metadata": {
    "collapsed": false
   },
   "outputs": [
    {
     "data": {
      "text/plain": [
       "'this is the content'"
      ]
     },
     "execution_count": 71,
     "metadata": {},
     "output_type": "execute_result"
    }
   ],
   "source": [
    "line = '         this is the content         '\n",
    "line.strip()"
   ]
  },
  {
   "cell_type": "markdown",
   "metadata": {},
   "source": [
    "要仅移除右侧或左侧的空格，可以分别使用 ``rstrip()`` 或 ``lstrip()``："
   ]
  },
  {
   "cell_type": "code",
   "execution_count": 72,
   "metadata": {
    "collapsed": false
   },
   "outputs": [
    {
     "data": {
      "text/plain": [
       "'         this is the content'"
      ]
     },
     "execution_count": 72,
     "metadata": {},
     "output_type": "execute_result"
    }
   ],
   "source": [
    "line.rstrip()"
   ]
  },
  {
   "cell_type": "code",
   "execution_count": 73,
   "metadata": {
    "collapsed": false
   },
   "outputs": [
    {
     "data": {
      "text/plain": [
       "'this is the content         '"
      ]
     },
     "execution_count": 73,
     "metadata": {},
     "output_type": "execute_result"
    }
   ],
   "source": [
    "line.lstrip()"
   ]
  },
  {
   "cell_type": "markdown",
   "metadata": {},
   "source": [
    "要移除空格以外的字符，可以将所需字符传递给 ``strip()`` 方法："
   ]
  },
  {
   "cell_type": "code",
   "execution_count": 74,
   "metadata": {
    "collapsed": false
   },
   "outputs": [
    {
     "data": {
      "text/plain": [
       "'435'"
      ]
     },
     "execution_count": 74,
     "metadata": {},
     "output_type": "execute_result"
    }
   ],
   "source": [
    "num = \"000000000000435\"\n",
    "num.strip('0')"
   ]
  },
  {
   "cell_type": "markdown",
   "metadata": {},
   "source": [
    "与移除操作相反，添加空格或其他字符的操作可以通过 ``center()``, ``ljust()``, 和 ``rjust()`` 方法完成。\n",
    "\n",
    "例如，我们可以使用 ``center()`` 方法将给定字符串居中放置在指定数量的空格内："
   ]
  },
  {
   "cell_type": "code",
   "execution_count": 75,
   "metadata": {
    "collapsed": false
   },
   "outputs": [
    {
     "data": {
      "text/plain": [
       "'     this is the content      '"
      ]
     },
     "execution_count": 75,
     "metadata": {},
     "output_type": "execute_result"
    }
   ],
   "source": [
    "line = \"this is the content\"\n",
    "line.center(30)"
   ]
  },
  {
   "cell_type": "markdown",
   "metadata": {},
   "source": [
    "同样，``ljust()`` 和 ``rjust()`` 将分别左对齐或右对齐字符串，填充指定长度的空格："
   ]
  },
  {
   "cell_type": "code",
   "execution_count": 76,
   "metadata": {
    "collapsed": false
   },
   "outputs": [
    {
     "data": {
      "text/plain": [
       "'this is the content           '"
      ]
     },
     "execution_count": 76,
     "metadata": {},
     "output_type": "execute_result"
    }
   ],
   "source": [
    "line.ljust(30)"
   ]
  },
  {
   "cell_type": "code",
   "execution_count": 77,
   "metadata": {
    "collapsed": false
   },
   "outputs": [
    {
     "data": {
      "text/plain": [
       "'           this is the content'"
      ]
     },
     "execution_count": 77,
     "metadata": {},
     "output_type": "execute_result"
    }
   ],
   "source": [
    "line.rjust(30)"
   ]
  },
  {
   "cell_type": "markdown",
   "metadata": {},
   "source": [
    "所有这些方法还可以接受任何字符，用于填充空格。\n",
    "例如："
   ]
  },
  {
   "cell_type": "code",
   "execution_count": 78,
   "metadata": {
    "collapsed": false
   },
   "outputs": [
    {
     "data": {
      "text/plain": [
       "'0000000435'"
      ]
     },
     "execution_count": 78,
     "metadata": {},
     "output_type": "execute_result"
    }
   ],
   "source": [
    "'435'.rjust(10, '0')"
   ]
  },
  {
   "cell_type": "markdown",
   "metadata": {},
   "source": [
    "由于零填充是一个常见需求，Python 还提供了 ``zfill()``，这是一个特殊的用于右填充字符串的零的方法："
   ]
  },
  {
   "cell_type": "code",
   "execution_count": 79,
   "metadata": {
    "collapsed": false
   },
   "outputs": [
    {
     "data": {
      "text/plain": [
       "'0000000435'"
      ]
     },
     "execution_count": 79,
     "metadata": {},
     "output_type": "execute_result"
    }
   ],
   "source": [
    "'435'.zfill(10)"
   ]
  },
  {
   "cell_type": "markdown",
   "metadata": {},
   "source": [
    "### 查找和替换子字符串\n",
    "\n",
    "如果你想在字符串中查找某个特定字符的出现位置，``find()``/``rfind()``, ``index()``/``rindex()``, 和 ``replace()`` 方法是最好的内置方法。\n",
    "\n",
    "``find()`` 和 ``index()`` 非常相似，它们搜索字符串中第一个出现的字符或子字符串，并返回子字符串的索引："
   ]
  },
  {
   "cell_type": "code",
   "execution_count": 80,
   "metadata": {
    "collapsed": false
   },
   "outputs": [
    {
     "data": {
      "text/plain": [
       "16"
      ]
     },
     "execution_count": 80,
     "metadata": {},
     "output_type": "execute_result"
    }
   ],
   "source": [
    "line = 'the quick brown fox jumped over a lazy dog'\n",
    "line.find('fox')"
   ]
  },
  {
   "cell_type": "code",
   "execution_count": 81,
   "metadata": {
    "collapsed": false
   },
   "outputs": [
    {
     "data": {
      "text/plain": [
       "16"
      ]
     },
     "execution_count": 81,
     "metadata": {},
     "output_type": "execute_result"
    }
   ],
   "source": [
    "line.index('fox')"
   ]
  },
  {
   "cell_type": "markdown",
   "metadata": {},
   "source": [
    "``find()`` 和 ``index()`` 的唯一区别在于它们在未找到搜索字符串时的行为；``find()`` 返回 ``-1``，而 ``index()`` 抛出一个 ``ValueError``："
   ]
  },
  {
   "cell_type": "code",
   "execution_count": 82,
   "metadata": {
    "collapsed": false
   },
   "outputs": [
    {
     "data": {
      "text/plain": [
       "-1"
      ]
     },
     "execution_count": 82,
     "metadata": {},
     "output_type": "execute_result"
    }
   ],
   "source": [
    "line.find('bear')"
   ]
  },
  {
   "cell_type": "code",
   "execution_count": 83,
   "metadata": {
    "collapsed": false
   },
   "outputs": [
    {
     "ename": "ValueError",
     "evalue": "substring not found",
     "output_type": "error",
     "traceback": [
      "\u001b[1;31m---------------------------------------------------------------------------\u001b[0m",
      "\u001b[1;31mValueError\u001b[0m                                Traceback (most recent call last)",
      "Cell \u001b[1;32mIn[83], line 1\u001b[0m\n\u001b[1;32m----> 1\u001b[0m \u001b[43mline\u001b[49m\u001b[38;5;241;43m.\u001b[39;49m\u001b[43mindex\u001b[49m\u001b[43m(\u001b[49m\u001b[38;5;124;43m'\u001b[39;49m\u001b[38;5;124;43mbear\u001b[39;49m\u001b[38;5;124;43m'\u001b[39;49m\u001b[43m)\u001b[49m\n",
      "\u001b[1;31mValueError\u001b[0m: substring not found"
     ]
    }
   ],
   "source": [
    "line.index('bear')"
   ]
  },
  {
   "cell_type": "markdown",
   "metadata": {},
   "source": [
    "相关的 ``rfind()`` 和 ``rindex()`` 方法类似，但它们是从字符串的末尾而不是开头开始搜索第一个出现的位置："
   ]
  },
  {
   "cell_type": "code",
   "execution_count": 84,
   "metadata": {
    "collapsed": false
   },
   "outputs": [
    {
     "data": {
      "text/plain": [
       "35"
      ]
     },
     "execution_count": 84,
     "metadata": {},
     "output_type": "execute_result"
    }
   ],
   "source": [
    "line.rfind('a')"
   ]
  },
  {
   "cell_type": "markdown",
   "metadata": {},
   "source": [
    "对于检查子字符串是否出现在字符串开头或结尾的特殊情况，Python 提供了 ``startswith()`` 和 ``endswith()`` 方法："
   ]
  },
  {
   "cell_type": "code",
   "execution_count": 85,
   "metadata": {
    "collapsed": false
   },
   "outputs": [
    {
     "data": {
      "text/plain": [
       "True"
      ]
     },
     "execution_count": 85,
     "metadata": {},
     "output_type": "execute_result"
    }
   ],
   "source": [
    "line.endswith('dog')"
   ]
  },
  {
   "cell_type": "code",
   "execution_count": 86,
   "metadata": {
    "collapsed": false
   },
   "outputs": [
    {
     "data": {
      "text/plain": [
       "False"
      ]
     },
     "execution_count": 86,
     "metadata": {},
     "output_type": "execute_result"
    }
   ],
   "source": [
    "line.startswith('fox')"
   ]
  },
  {
   "cell_type": "markdown",
   "metadata": {},
   "source": [
    "要进一步替换给定的子字符串，可以使用 ``replace()`` 方法。\n",
    "这里，我们将 ``'brown'`` 替换为 ``'red'``："
   ]
  },
  {
   "cell_type": "code",
   "execution_count": 87,
   "metadata": {
    "collapsed": false
   },
   "outputs": [
    {
     "data": {
      "text/plain": [
       "'the quick red fox jumped over a lazy dog'"
      ]
     },
     "execution_count": 87,
     "metadata": {},
     "output_type": "execute_result"
    }
   ],
   "source": [
    "line.replace('brown', 'red')"
   ]
  },
  {
   "cell_type": "markdown",
   "metadata": {},
   "source": [
    "``replace()`` 函数返回一个新字符串，并且会替换所有出现的输入："
   ]
  },
  {
   "cell_type": "code",
   "execution_count": 88,
   "metadata": {
    "collapsed": false
   },
   "outputs": [
    {
     "data": {
      "text/plain": [
       "'the quick br--wn f--x jumped --ver a lazy d--g'"
      ]
     },
     "execution_count": 88,
     "metadata": {},
     "output_type": "execute_result"
    }
   ],
   "source": [
    "line.replace('o', '--')"
   ]
  },
  {
   "cell_type": "markdown",
   "metadata": {},
   "source": [
    "对于更灵活的 ``replace()`` 功能，请参阅 [正则表达式的灵活模式匹配](#Flexible-Pattern-Matching-with-Regular-Expressions) 中的讨论。"
   ]
  },
  {
   "cell_type": "markdown",
   "metadata": {},
   "source": [
    "### 分割和划分字符串\n",
    "\n",
    "如果你希望找到一个子字符串 *并* 根据其位置分割字符串，那么 ``partition()`` 和/或 ``split()`` 方法正是你需要的。\n",
    "两者都会返回子字符串序列。\n",
    "\n",
    "``partition()`` 方法返回一个包含三个元素的元组：分割点之前的子字符串、分割点本身以及分割点之后的子字符串："
   ]
  },
  {
   "cell_type": "code",
   "execution_count": 89,
   "metadata": {
    "collapsed": false
   },
   "outputs": [
    {
     "data": {
      "text/plain": [
       "('the quick brown ', 'fox', ' jumped over a lazy dog')"
      ]
     },
     "execution_count": 89,
     "metadata": {},
     "output_type": "execute_result"
    }
   ],
   "source": [
    "line.partition('fox')"
   ]
  },
  {
   "cell_type": "markdown",
   "metadata": {},
   "source": [
    "``rpartition()`` 方法类似，但会从字符串的末尾开始搜索。\n",
    "\n",
    "``split()`` 方法或许更有用；它会找到 *所有* 分割点的实例，并返回分割点之间的子字符串。\n",
    "默认情况下，它会在任何空白处分割，返回字符串中各个单词的列表："
   ]
  },
  {
   "cell_type": "code",
   "execution_count": 90,
   "metadata": {
    "collapsed": false
   },
   "outputs": [
    {
     "data": {
      "text/plain": [
       "['the', 'quick', 'brown', 'fox', 'jumped', 'over', 'a', 'lazy', 'dog']"
      ]
     },
     "execution_count": 90,
     "metadata": {},
     "output_type": "execute_result"
    }
   ],
   "source": [
    "line.split()"
   ]
  },
  {
   "cell_type": "markdown",
   "metadata": {},
   "source": [
    "一个相关的方法是 ``splitlines()``，它会在换行符处分割。\n",
    "让我们用一首俳句来演示一下，这首俳句通常被归功于 17 世纪的诗人松尾芭蕉："
   ]
  },
  {
   "cell_type": "code",
   "execution_count": 91,
   "metadata": {
    "collapsed": false
   },
   "outputs": [
    {
     "data": {
      "text/plain": [
       "['matsushima-ya', 'aah matsushima-ya', 'matsushima-ya']"
      ]
     },
     "execution_count": 91,
     "metadata": {},
     "output_type": "execute_result"
    }
   ],
   "source": [
    "haiku = \"\"\"matsushima-ya\n",
    "aah matsushima-ya\n",
    "matsushima-ya\"\"\"\n",
    "\n",
    "haiku.splitlines()"
   ]
  },
  {
   "cell_type": "markdown",
   "metadata": {},
   "source": [
    "请注意，如果你希望撤销 ``split()`` 的操作，可以使用 ``join()`` 方法，它会根据分割点和可迭代对象构建一个字符串："
   ]
  },
  {
   "cell_type": "code",
   "execution_count": 92,
   "metadata": {
    "collapsed": false
   },
   "outputs": [
    {
     "data": {
      "text/plain": [
       "'1--2--3'"
      ]
     },
     "execution_count": 92,
     "metadata": {},
     "output_type": "execute_result"
    }
   ],
   "source": [
    "'--'.join(['1', '2', '3'])"
   ]
  },
  {
   "cell_type": "markdown",
   "metadata": {},
   "source": [
    "一个常见的模式是使用特殊字符 ``\"\\n\"``（换行符）将之前分割的行重新连接起来，恢复输入："
   ]
  },
  {
   "cell_type": "code",
   "execution_count": 93,
   "metadata": {
    "collapsed": false
   },
   "outputs": [
    {
     "name": "stdout",
     "output_type": "stream",
     "text": [
      "matsushima-ya\n",
      "aah matsushima-ya\n",
      "matsushima-ya\n"
     ]
    }
   ],
   "source": [
    "print(\"\\n\".join(['matsushima-ya', 'aah matsushima-ya', 'matsushima-ya']))"
   ]
  },
  {
   "cell_type": "markdown",
   "metadata": {},
   "source": [
    "## 格式化字符串\n",
    "\n",
    "在前面的方法中，我们已经了解了如何从字符串中提取值，以及如何将字符串本身格式化为所需格式。\n",
    "当然，可以使用 ``str()`` 函数找到任何其他类型值的字符串表示形式；例如："
   ]
  },
  {
   "cell_type": "code",
   "execution_count": 94,
   "metadata": {
    "collapsed": false
   },
   "outputs": [
    {
     "data": {
      "text/plain": [
       "'3.14159'"
      ]
     },
     "execution_count": 94,
     "metadata": {},
     "output_type": "execute_result"
    }
   ],
   "source": [
    "pi = 3.14159\n",
    "str(pi)"
   ]
  },
  {
   "cell_type": "markdown",
   "metadata": {},
   "source": [
    "对于更复杂的格式，你可能会被引诱使用字符串运算，如在 [基本 Python 语义：运算符](04-Semantics-Operators.ipynb) 中介绍的："
   ]
  },
  {
   "cell_type": "code",
   "execution_count": 95,
   "metadata": {
    "collapsed": false
   },
   "outputs": [
    {
     "data": {
      "text/plain": [
       "'The value of pi is 3.14159'"
      ]
     },
     "execution_count": 95,
     "metadata": {},
     "output_type": "execute_result"
    }
   ],
   "source": [
    "\"The value of pi is \" + str(pi)"
   ]
  },
  {
   "cell_type": "markdown",
   "metadata": {},
   "source": [
    "更灵活的方法是使用 *格式化字符串*，这些字符串是带有特殊标记（由花括号表示）的字符串，字符串格式化的值将被插入其中。\n",
    "这里是一个基本示例："
   ]
  },
  {
   "cell_type": "code",
   "execution_count": 96,
   "metadata": {
    "collapsed": false
   },
   "outputs": [
    {
     "data": {
      "text/plain": [
       "'The value of pi is 3.14159'"
      ]
     },
     "execution_count": 96,
     "metadata": {},
     "output_type": "execute_result"
    }
   ],
   "source": [
    "\"The value of pi is {}\".format(pi)"
   ]
  },
  {
   "cell_type": "markdown",
   "metadata": {},
   "source": [
    "在 ``{}`` 标记内，你还可以包含确切的 *内容*，你希望在那里出现。\n",
    "如果你包含一个数字，它将引用要插入的参数的索引："
   ]
  },
  {
   "cell_type": "code",
   "execution_count": 97,
   "metadata": {
    "collapsed": false
   },
   "outputs": [
    {
     "data": {
      "text/plain": [
       "'First letter: A. Last letter: Z.'"
      ]
     },
     "execution_count": 97,
     "metadata": {},
     "output_type": "execute_result"
    }
   ],
   "source": [
    "\"\"\"First letter: {0}. Last letter: {1}.\"\"\".format('A', 'Z')"
   ]
  },
  {
   "cell_type": "markdown",
   "metadata": {},
   "source": [
    "如果你包含一个字符串，它将引用任何关键字参数的键："
   ]
  },
  {
   "cell_type": "code",
   "execution_count": 98,
   "metadata": {
    "collapsed": false
   },
   "outputs": [
    {
     "data": {
      "text/plain": [
       "'First letter: A. Last letter: Z.'"
      ]
     },
     "execution_count": 98,
     "metadata": {},
     "output_type": "execute_result"
    }
   ],
   "source": [
    "\"\"\"First letter: {first}. Last letter: {last}.\"\"\".format(last='Z', first='A')"
   ]
  },
  {
   "cell_type": "markdown",
   "metadata": {},
   "source": [
    "最后，对于数值输入，你可以在其中包含格式代码，这些代码控制值如何转换为字符串。\n",
    "例如，要以浮点数格式打印一个数字，并保留小数点后三位数字，可以使用以下方法："
   ]
  },
  {
   "cell_type": "code",
   "execution_count": 99,
   "metadata": {
    "collapsed": false
   },
   "outputs": [
    {
     "data": {
      "text/plain": [
       "'pi = 3.142'"
      ]
     },
     "execution_count": 99,
     "metadata": {},
     "output_type": "execute_result"
    }
   ],
   "source": [
    "\"pi = {0:.3f}\".format(pi)"
   ]
  },
  {
   "cell_type": "markdown",
   "metadata": {},
   "source": [
    "正如前面提到的，这里的 \"``0``\" 引用了要插入的值的索引。\n",
    "\"``:``\" 表示格式代码将紧随其后。\n",
    "\"``.3f``\" 编码了所需的精度：小数点后三位数字，浮点数格式。\n",
    "\n",
    "这种格式化字符串的语法非常灵活，这里的示例只是触及了可用格式化选项的表面。\n",
    "有关这些格式化字符串语法的更多信息，请参阅 Python 在线文档的 [格式说明](https://docs.python.org/3/library/string.html#formatspec) 部分。"
   ]
  },
  {
   "cell_type": "markdown",
   "metadata": {},
   "source": [
    "## 使用正则表达式进行灵活的模式匹配\n",
    "\n",
    "Python 的 ``str`` 类型的方法为你提供了格式化、分割和操作字符串数据的强大工具集。\n",
    "但是，Python 内置的 *正则表达式* 模块提供了更强大的工具。\n",
    "正则表达式是一个庞大主题；有整整几本书都是关于这个主题的（包括 Jeffrey E.F. Friedl 的 [*精通正则表达式，第 3 版*](http://shop.oreilly.com/product/9780596528126.do)），因此很难在短短一个小节中讲清楚。\n",
    "\n",
    "我的目标是让你了解可以用正则表达式解决的问题类型，以及如何在 Python 中使用它们。\n",
    "我将在 [正则表达式的进一步资源](#Further-Resources-on-Regular-Expressions) 中建议一些参考资料，供你进一步学习。\n",
    "\n",
    "从根本上说，正则表达式是一种用于字符串中 *灵活模式匹配* 的方法。\n",
    "如果你经常使用命令行，你可能熟悉这种使用 \"``*``\" 字符的灵活匹配方式，它充当通配符。\n",
    "例如，我们可以使用 \"``*``\" 通配符匹配任意字符，列出所有包含 \"Python\" 的 IPython 笔记本文件（即扩展名为 *.ipynb* 的文件）："
   ]
  },
  {
   "cell_type": "code",
   "execution_count": 100,
   "metadata": {
    "collapsed": false
   },
   "outputs": [
    {
     "name": "stdout",
     "output_type": "stream",
     "text": [
      "01-How-to-Run-Python-Code.ipynb\n",
      "02-Basic-Python-Syntax.ipynb\n"
     ]
    }
   ],
   "source": [
    "# 若你使用Windows，请使用dir命令\n",
    "!dir *Python*.ipynb /B\n",
    "\n",
    "# 若你使用Linux或OS X，请使用ls命令\n",
    "# !ls *Python*.ipynb"
   ]
  },
  {
   "cell_type": "markdown",
   "metadata": {},
   "source": [
    "正则表达式将这种 \"通配符\" 思想推广到一系列灵活的字符串匹配语法。\n",
    "Python 的正则表达式接口包含在内置的 ``re`` 模块中；作为一个简单示例，让我们使用它来复制字符串 ``split()`` 方法的功能："
   ]
  },
  {
   "cell_type": "code",
   "execution_count": 101,
   "metadata": {
    "collapsed": false
   },
   "outputs": [
    {
     "data": {
      "text/plain": [
       "['the', 'quick', 'brown', 'fox', 'jumped', 'over', 'a', 'lazy', 'dog']"
      ]
     },
     "execution_count": 101,
     "metadata": {},
     "output_type": "execute_result"
    }
   ],
   "source": [
    "import re\n",
    "regex = re.compile('\\s+')\n",
    "regex.split(line)"
   ]
  },
  {
   "cell_type": "markdown",
   "metadata": {},
   "source": [
    "这里我们首先 *编译* 了一个正则表达式，然后使用它来 *分割* 一个字符串。\n",
    "正如 Python 的 ``split()`` 方法返回一个在空白处的子字符串列表一样，正则表达式的 ``split()`` 方法返回一个在输入模式匹配处的子字符串列表。\n",
    "\n",
    "在这种情况下，输入是 ``\"\\s+\"``：\"``\\s``\" 是一个特殊字符，匹配任何空白（空格、制表符、换行符等），而 \"``+``\" 是一个字符，表示 *一个或多个* 前面的实体。\n",
    "\n",
    "因此，正则表达式匹配由一个或多个空格组成的任意子字符串。\n",
    "\n",
    "这里的 ``split()`` 方法基本上是一个基于 *模式匹配* 行为的便捷例程；更基本的是 ``match()`` 方法，它会告诉你字符串的开头是否匹配模式："
   ]
  },
  {
   "cell_type": "code",
   "execution_count": 102,
   "metadata": {
    "collapsed": false
   },
   "outputs": [
    {
     "name": "stdout",
     "output_type": "stream",
     "text": [
      "'     ' matches\n",
      "'abc  ' does not match\n",
      "'  abc' matches\n"
     ]
    }
   ],
   "source": [
    "for s in [\"     \", \"abc  \", \"  abc\"]:\n",
    "    if regex.match(s):\n",
    "        print(repr(s), \"matches\")\n",
    "    else:\n",
    "        print(repr(s), \"does not match\")"
   ]
  },
  {
   "cell_type": "markdown",
   "metadata": {},
   "source": [
    "像 ``split()`` 一样，还有类似的便捷例程用于查找第一个匹配项（类似于 ``str.index()`` 或 ``str.find()``）或查找和替换（类似于 ``str.replace()``）。\n",
    "我们再次使用之前的那行："
   ]
  },
  {
   "cell_type": "code",
   "execution_count": 103,
   "metadata": {
    "collapsed": true
   },
   "outputs": [],
   "source": [
    "line = 'the quick brown fox jumped over a lazy dog'"
   ]
  },
  {
   "cell_type": "markdown",
   "metadata": {},
   "source": [
    "有了这个，我们可以看到 ``regex.search()`` 方法的行为与 ``str.index()`` 或 ``str.find()`` 非常相似："
   ]
  },
  {
   "cell_type": "code",
   "execution_count": 104,
   "metadata": {
    "collapsed": false
   },
   "outputs": [
    {
     "data": {
      "text/plain": [
       "16"
      ]
     },
     "execution_count": 104,
     "metadata": {},
     "output_type": "execute_result"
    }
   ],
   "source": [
    "line.index('fox')"
   ]
  },
  {
   "cell_type": "code",
   "execution_count": 105,
   "metadata": {
    "collapsed": false
   },
   "outputs": [
    {
     "data": {
      "text/plain": [
       "16"
      ]
     },
     "execution_count": 105,
     "metadata": {},
     "output_type": "execute_result"
    }
   ],
   "source": [
    "regex = re.compile('fox')\n",
    "match = regex.search(line)\n",
    "match.start()"
   ]
  },
  {
   "cell_type": "markdown",
   "metadata": {},
   "source": [
    "同样，``regex.sub()`` 方法的行为与 ``str.replace()`` 非常相似："
   ]
  },
  {
   "cell_type": "code",
   "execution_count": 106,
   "metadata": {
    "collapsed": false
   },
   "outputs": [
    {
     "data": {
      "text/plain": [
       "'the quick brown BEAR jumped over a lazy dog'"
      ]
     },
     "execution_count": 106,
     "metadata": {},
     "output_type": "execute_result"
    }
   ],
   "source": [
    "line.replace('fox', 'BEAR')"
   ]
  },
  {
   "cell_type": "code",
   "execution_count": 107,
   "metadata": {
    "collapsed": false
   },
   "outputs": [
    {
     "data": {
      "text/plain": [
       "'the quick brown BEAR jumped over a lazy dog'"
      ]
     },
     "execution_count": 107,
     "metadata": {},
     "output_type": "execute_result"
    }
   ],
   "source": [
    "regex.sub('BEAR', line)"
   ]
  },
  {
   "cell_type": "markdown",
   "metadata": {},
   "source": [
    "稍加思考后，其他原生字符串操作也可以用正则表达式表示。"
   ]
  },
  {
   "cell_type": "markdown",
   "metadata": {},
   "source": [
    "### 一个更复杂的示例\n",
    "\n",
    "但是，你可能会问，为什么你会想使用更复杂且冗长的正则表达式语法，而不是更直观、更简单的字符串方法呢？\n",
    "优势在于正则表达式提供了 *远* 更多的灵活性。\n",
    "\n",
    "这里我们将考虑一个更复杂的示例：匹配电子邮件地址这一常见任务。\n",
    "我将首先简单地写出一个（有些难以理解的）正则表达式，然后逐步解释它是如何工作的。\n",
    "让我们开始吧："
   ]
  },
  {
   "cell_type": "code",
   "execution_count": 108,
   "metadata": {
    "collapsed": true
   },
   "outputs": [],
   "source": [
    "email = re.compile('\\w+@\\w+\\.[a-z]{3}')"
   ]
  },
  {
   "cell_type": "markdown",
   "metadata": {},
   "source": [
    "使用这个正则表达式，如果我们从文档中得到一行，我们可以快速提取看起来像电子邮件地址的内容。"
   ]
  },
  {
   "cell_type": "code",
   "execution_count": 109,
   "metadata": {
    "collapsed": false
   },
   "outputs": [
    {
     "data": {
      "text/plain": [
       "['guido@python.org', 'guido@google.com']"
      ]
     },
     "execution_count": 109,
     "metadata": {},
     "output_type": "execute_result"
    }
   ],
   "source": [
    "text = \"To email Guido, try guido@python.org or the older address guido@google.com.\"\n",
    "email.findall(text)"
   ]
  },
  {
   "cell_type": "markdown",
   "metadata": {},
   "source": [
    "（请注意，这些地址是完全虚构的；可能还有更好的方法与 Guido 取得联系）。\n",
    "\n",
    "我们还可以进行进一步的操作，比如将这些电子邮件地址替换为另一个字符串，也许是为了隐藏输出中的地址："
   ]
  },
  {
   "cell_type": "code",
   "execution_count": 110,
   "metadata": {
    "collapsed": false
   },
   "outputs": [
    {
     "data": {
      "text/plain": [
       "'To email Guido, try --@--.-- or the older address --@--.--.'"
      ]
     },
     "execution_count": 110,
     "metadata": {},
     "output_type": "execute_result"
    }
   ],
   "source": [
    "email.sub('--@--.--', text)"
   ]
  },
  {
   "cell_type": "markdown",
   "metadata": {},
   "source": [
    "最后，请注意，如果你真的想匹配 *任何* 有效的电子邮件地址，前面的正则表达式过于简单。\n",
    "例如，它只允许由字母数字字符组成的地址，并且以几个常见的域名后缀结尾。\n",
    "因此，例如，这里使用的点号意味着我们只能找到部分地址："
   ]
  },
  {
   "cell_type": "code",
   "execution_count": 111,
   "metadata": {
    "collapsed": false
   },
   "outputs": [
    {
     "data": {
      "text/plain": [
       "['obama@whitehouse.gov']"
      ]
     },
     "execution_count": 111,
     "metadata": {},
     "output_type": "execute_result"
    }
   ],
   "source": [
    "email.findall('barack.obama@whitehouse.gov')"
   ]
  },
  {
   "cell_type": "markdown",
   "metadata": {},
   "source": [
    "这表明正则表达式如果使用不当，可能会非常严格！\n",
    "如果你在网上搜索，可以找到一些建议的正则表达式，用于匹配 *所有* 有效的电子邮件地址，但请注意：它们比这里使用的简单表达式要复杂得多！"
   ]
  },
  {
   "cell_type": "markdown",
   "metadata": {},
   "source": [
    "### 正则表达式语法基础\n",
    "\n",
    "正则表达式的语法是一个非常大的主题，本小节无法涵盖。\n",
    "尽管如此，对一些基础知识的了解可以让你有效地使用这些资源。\n",
    "我希望以下快速入门能让你有效地使用这些资源。"
   ]
  },
  {
   "cell_type": "markdown",
   "metadata": {},
   "source": [
    "#### 简单字符串直接匹配\n",
    "\n",
    "如果你用简单的字符或数字字符串构建正则表达式，它将直接匹配那个确切的字符串："
   ]
  },
  {
   "cell_type": "code",
   "execution_count": 112,
   "metadata": {
    "collapsed": false
   },
   "outputs": [
    {
     "data": {
      "text/plain": [
       "['ion']"
      ]
     },
     "execution_count": 112,
     "metadata": {},
     "output_type": "execute_result"
    }
   ],
   "source": [
    "regex = re.compile('ion')\n",
    "regex.findall('Great Expectations')"
   ]
  },
  {
   "cell_type": "markdown",
   "metadata": {},
   "source": [
    "#### 某些字符具有特殊含义\n",
    "\n",
    "尽管简单的字母或数字是直接匹配的，但有一些字符在正则表达式中具有特殊含义。它们是：\n",
    "```\n",
    ". ^ $ * + ? { } [ ] \\ | ( )\n",
    "```\n",
    "我们稍后会讨论其中一些的含义。\n",
    "与此同时，如果你希望直接匹配这些特殊字符中的任何一个，可以使用反斜杠 *转义* 它们："
   ]
  },
  {
   "cell_type": "code",
   "execution_count": 113,
   "metadata": {
    "collapsed": false
   },
   "outputs": [
    {
     "data": {
      "text/plain": [
       "['$']"
      ]
     },
     "execution_count": 113,
     "metadata": {},
     "output_type": "execute_result"
    }
   ],
   "source": [
    "regex = re.compile(r'\\$')\n",
    "regex.findall(\"the cost is $20\")"
   ]
  },
  {
   "cell_type": "markdown",
   "metadata": {},
   "source": [
    "这里的 ``r`` 前缀在 ``r'\\$'`` 中表示一个 *原始字符串*；在标准 Python 字符串中，反斜杠用于表示特殊字符。\n",
    "例如，制表符用 ``\"\\t\"`` 表示："
   ]
  },
  {
   "cell_type": "code",
   "execution_count": 114,
   "metadata": {
    "collapsed": false
   },
   "outputs": [
    {
     "name": "stdout",
     "output_type": "stream",
     "text": [
      "a\tb\tc\n"
     ]
    }
   ],
   "source": [
    "print('a\\tb\\tc')"
   ]
  },
  {
   "cell_type": "markdown",
   "metadata": {},
   "source": [
    "在原始字符串中不会进行这样的替换："
   ]
  },
  {
   "cell_type": "code",
   "execution_count": 115,
   "metadata": {
    "collapsed": false
   },
   "outputs": [
    {
     "name": "stdout",
     "output_type": "stream",
     "text": [
      "a\\tb\\tc\n"
     ]
    }
   ],
   "source": [
    "print(r'a\\tb\\tc')"
   ]
  },
  {
   "cell_type": "markdown",
   "metadata": {},
   "source": [
    "因此，每当在正则表达式中使用反斜杠时，使用原始字符串是一个好习惯。"
   ]
  },
  {
   "cell_type": "markdown",
   "metadata": {},
   "source": [
    "#### 特殊字符可以匹配字符组\n",
    "\n",
    "正如 ``\"\\\"`` 字符在正则表达式中可以转义特殊字符，使其变成普通字符一样，它也可以用来给普通字符赋予特殊含义。\n",
    "这些特殊字符匹配指定的字符组，我们之前已经见过。\n",
    "在前面的电子邮件地址正则表达式中，我们使用了字符 ``\"\\w\"``，这是一个特殊标记，匹配 *任何字母数字字符*。同样，在简单的 ``split()`` 示例中，我们也看到了 ``\"\\s\"``，这是一个特殊标记，表示 *任何空白字符*。\n",
    "\n",
    "将这些组合起来，我们可以创建一个正则表达式，匹配 *任意两个字母/数字之间有空白的字符串*："
   ]
  },
  {
   "cell_type": "code",
   "execution_count": 116,
   "metadata": {
    "collapsed": false
   },
   "outputs": [
    {
     "data": {
      "text/plain": [
       "['e f', 'x i', 's 9', 's o']"
      ]
     },
     "execution_count": 116,
     "metadata": {},
     "output_type": "execute_result"
    }
   ],
   "source": [
    "regex = re.compile(r'\\w\\s\\w')\n",
    "regex.findall('the fox is 9 years old')"
   ]
  },
  {
   "cell_type": "markdown",
   "metadata": {},
   "source": [
    "这个示例开始暗示正则表达式的强大和灵活性。"
   ]
  },
  {
   "cell_type": "markdown",
   "metadata": {},
   "source": [
    "下表列出了一些常用的特殊字符：\n",
    "\n",
    "| 字符       | 描述                     | 字符       | 描述                         |\n",
    "|------------|--------------------------|------------|------------------------------|\n",
    "| ``\"\\d\"``   | 匹配任何数字             | ``\"\\D\"``   | 匹配任何非数字               |\n",
    "| ``\"\\s\"``   | 匹配任何空白字符         | ``\"\\S\"``   | 匹配任何非空白字符           |\n",
    "| ``\"\\w\"``   | 匹配任何字母数字字符     | ``\"\\W\"``   | 匹配任何非字母数字字符       |\n",
    "\n",
    "这不是一个完整的列表或描述；有关更多详细信息，请参阅 Python 的 [正则表达式语法文档](https://docs.python.org/3/library/re.html#re-syntax)。"
   ]
  },
  {
   "cell_type": "markdown",
   "metadata": {},
   "source": [
    "#### 方括号匹配自定义字符组\n",
    "\n",
    "如果内置的字符组还不够具体，你可以使用方括号指定任何你感兴趣的字符集。\n",
    "例如，以下将匹配任何小写元音："
   ]
  },
  {
   "cell_type": "code",
   "execution_count": 117,
   "metadata": {
    "collapsed": false
   },
   "outputs": [
    {
     "data": {
      "text/plain": [
       "['c', 'ns', 'q', '', 'nt', '', 'l']"
      ]
     },
     "execution_count": 117,
     "metadata": {},
     "output_type": "execute_result"
    }
   ],
   "source": [
    "regex = re.compile('[aeiou]')\n",
    "regex.split('consequential')"
   ]
  },
  {
   "cell_type": "markdown",
   "metadata": {},
   "source": [
    "同样，你可以使用破折号指定范围：例如，``\"[a-z]\"`` 将匹配任何小写字母，而 ``\"[1-3]\"`` 将匹配 ``\"1\"``、``\"2\"`` 或 ``\"3\"``。\n",
    "例如，你可能需要从文档中提取特定的数字代码，这些代码由一个大写字母后跟一个数字组成。你可以这样操作："
   ]
  },
  {
   "cell_type": "code",
   "execution_count": 118,
   "metadata": {
    "collapsed": false
   },
   "outputs": [
    {
     "data": {
      "text/plain": [
       "['G2', 'H6']"
      ]
     },
     "execution_count": 118,
     "metadata": {},
     "output_type": "execute_result"
    }
   ],
   "source": [
    "regex = re.compile('[A-Z][0-9]')\n",
    "regex.findall('1043879, G2, H6')"
   ]
  },
  {
   "cell_type": "markdown",
   "metadata": {},
   "source": [
    "#### 通配符匹配重复字符\n",
    "\n",
    "如果你希望匹配一个包含，比如说，三个连续字母数字字符的字符串，可以写成 ``\"\\w\\w\\w\"``。\n",
    "因为这是一个非常常见的需求，所以有一个特定的语法来匹配重复项——带有数字的大括号："
   ]
  },
  {
   "cell_type": "code",
   "execution_count": 119,
   "metadata": {
    "collapsed": false
   },
   "outputs": [
    {
     "data": {
      "text/plain": [
       "['The', 'qui', 'bro', 'fox']"
      ]
     },
     "execution_count": 119,
     "metadata": {},
     "output_type": "execute_result"
    }
   ],
   "source": [
    "regex = re.compile(r'\\w{3}')\n",
    "regex.findall('The quick brown fox')"
   ]
  },
  {
   "cell_type": "markdown",
   "metadata": {},
   "source": [
    "还有一个标记可用于匹配任意数量的重复项——例如，``\"+\"`` 字符将匹配前面内容的 *一个或多个* 重复项："
   ]
  },
  {
   "cell_type": "code",
   "execution_count": 120,
   "metadata": {
    "collapsed": false
   },
   "outputs": [
    {
     "data": {
      "text/plain": [
       "['The', 'quick', 'brown', 'fox']"
      ]
     },
     "execution_count": 120,
     "metadata": {},
     "output_type": "execute_result"
    }
   ],
   "source": [
    "regex = re.compile(r'\\w+')\n",
    "regex.findall('The quick brown fox')"
   ]
  },
  {
   "cell_type": "markdown",
   "metadata": {},
   "source": [
    "下表列出了正则表达式中可用的重复标记：\n",
    "\n",
    "| 字符 | 描述 | 示例 |\n",
    "|-----------|-------------|---------|\n",
    "| ``?`` | 匹配前面内容的零次或一次重复 | ``\"ab?\"`` 匹配 ``\"a\"`` 或 ``\"ab\"`` |\n",
    "| ``*`` | 匹配前面内容的零次或多次重复 | ``\"ab*\"`` 匹配 ``\"a\"``、``\"ab\"``、``\"abb\"``、``\"abbb\"``... |\n",
    "| ``+`` | 匹配前面内容的一次或多次重复 | ``\"ab+\"`` 匹配 ``\"ab\"``、``\"abb\"``、``\"abbb\"``... 但不匹配 ``\"a\"`` |\n",
    "| ``{n}`` | 匹配前面内容的 ``n`` 次重复 | ``\"ab{2}\"`` 匹配 ``\"abb\"`` |\n",
    "| ``{m,n}`` | 匹配前面内容的 ``m`` 到 ``n`` 次重复 | ``\"ab{2,3}\"`` 匹配 ``\"abb\"`` 或 ``\"abbb\"`` |"
   ]
  },
  {
   "cell_type": "markdown",
   "metadata": {},
   "source": [
    "了解这些基础知识后，让我们回到电子邮件地址匹配器："
   ]
  },
  {
   "cell_type": "code",
   "execution_count": 121,
   "metadata": {
    "collapsed": true
   },
   "outputs": [],
   "source": [
    "email = re.compile(r'\\w+@\\w+\\.[a-z]{3}')"
   ]
  },
  {
   "cell_type": "markdown",
   "metadata": {},
   "source": [
    "我们现在可以理解它的含义：我们希望有一个或多个字母数字字符（``\"\\w+\"``），后面跟着一个 *at 符号*（``\"@\"``），后面跟着一个或多个字母数字字符（``\"\\w+\"``），后面跟着一个点（``\"\\.\"``——注意需要反斜杠转义），后面跟着正好三个小写字母。\n",
    "\n",
    "如果我们希望修改它，以便奥巴马的电子邮件地址能够匹配，可以使用方括号表示法："
   ]
  },
  {
   "cell_type": "code",
   "execution_count": 122,
   "metadata": {
    "collapsed": false
   },
   "outputs": [
    {
     "data": {
      "text/plain": [
       "['barack.obama@whitehouse.gov']"
      ]
     },
     "execution_count": 122,
     "metadata": {},
     "output_type": "execute_result"
    }
   ],
   "source": [
    "email2 = re.compile(r'[\\w.]+@\\w+\\.[a-z]{3}')\n",
    "email2.findall('barack.obama@whitehouse.gov')"
   ]
  },
  {
   "cell_type": "markdown",
   "metadata": {},
   "source": [
    "我们将 ``\"\\w+\"`` 改为 ``\"[\\w.]+\"``，因此我们将匹配任何字母数字字符 *或* 一个点。\n",
    "通过这种更灵活的表达式，我们可以匹配更广泛的电子邮件地址（尽管仍然不是全部——你能识别出这个表达式的其他不足之处吗？）。"
   ]
  },
  {
   "cell_type": "markdown",
   "metadata": {},
   "source": [
    "#### 括号表示 *提取组*\n",
    "\n",
    "对于像我们的电子邮件匹配器这样的复合正则表达式，我们通常希望提取它们的组成部分，而不是完整的匹配项。这可以通过使用括号来 *分组* 结果来完成："
   ]
  },
  {
   "cell_type": "code",
   "execution_count": 123,
   "metadata": {
    "collapsed": true
   },
   "outputs": [],
   "source": [
    "email3 = re.compile(r'([\\w.]+)@(\\w+)\\.([a-z]{3})')"
   ]
  },
  {
   "cell_type": "code",
   "execution_count": 124,
   "metadata": {
    "collapsed": false
   },
   "outputs": [
    {
     "data": {
      "text/plain": [
       "[('guido', 'python', 'org'), ('guido', 'google', 'com')]"
      ]
     },
     "execution_count": 124,
     "metadata": {},
     "output_type": "execute_result"
    }
   ],
   "source": [
    "text = \"To email Guido, try guido@python.org or the older address guido@google.com.\"\n",
    "email3.findall(text)"
   ]
  },
  {
   "cell_type": "markdown",
   "metadata": {},
   "source": [
    "正如我们所见，这种分组实际上提取了电子邮件地址的子组件列表。\n",
    "\n",
    "我们可以更进一步，使用 ``\"(?P<name> )\"`` 语法 *命名* 提取的组件，这样就可以将组作为 Python 字典提取："
   ]
  },
  {
   "cell_type": "code",
   "execution_count": 125,
   "metadata": {
    "collapsed": false
   },
   "outputs": [
    {
     "data": {
      "text/plain": [
       "{'user': 'guido', 'domain': 'python', 'suffix': 'org'}"
      ]
     },
     "execution_count": 125,
     "metadata": {},
     "output_type": "execute_result"
    }
   ],
   "source": [
    "email4 = re.compile(r'(?P<user>[\\w.]+)@(?P<domain>\\w+)\\.(?P<suffix>[a-z]{3})')\n",
    "match = email4.match('guido@python.org')\n",
    "match.groupdict()"
   ]
  },
  {
   "cell_type": "markdown",
   "metadata": {},
   "source": [
    "结合这些想法（以及我们这里没有涵盖的一些强大的正则表达式语法），可以让你灵活且快速地在 Python 中提取字符串信息。"
   ]
  },
  {
   "cell_type": "markdown",
   "metadata": {},
   "source": [
    "### 正则表达式的进一步资源\n",
    "\n",
    "上述讨论只是一个非常简短（而且远非完整）的介绍。\n",
    "如果你还想了解更多，我建议以下资源：\n",
    "\n",
    "- [Python 的 ``re`` 模块文档](https://docs.python.org/3/library/re.html)：我发现每次使用正则表达式时都会忘记如何使用它们。现在我掌握了基础知识后，我发现这个页面是一个非常宝贵的资源，可以回忆正则表达式中每个特定字符或序列的含义。\n",
    "- [Python 的官方正则表达式 HOWTO](https://docs.python.org/3/howto/regex.html)：一种更叙述性的方法，介绍 Python 中的正则表达式。\n",
    "- [精通正则表达式（O'Reilly，2006）](http://shop.oreilly.com/product/9780596528126.do) 是一本 500 多页的书。如果你想对这个主题有一个完整的了解，这就是你的资源。\n",
    "\n",
    "有关字符串操作和正则表达式在更大规模上的应用示例，请参阅 [Pandas：标记化的列式数据](15-Preview-of-Data-Science-Tools.ipynb#Pandas:-Labeled-Column-oriented-Data)，在那里我们查看了在 Pandas 包中对 *字符串数据表* 应用这些表达式。"
   ]
  },
  {
   "cell_type": "markdown",
   "metadata": {},
   "source": [
    "<!--NAVIGATION-->\n",
    "< [模块和包](13-Modules-and-Packages.ipynb) | [目录](Index.ipynb) | [数据科学工具预览](15-Preview-of-Data-Science-Tools.ipynb) >"
   ]
  }
 ],
 "metadata": {
  "anaconda-cloud": {},
  "kernelspec": {
   "display_name": "datamine",
   "language": "python",
   "name": "python3"
  },
  "language_info": {
   "codemirror_mode": {
    "name": "ipython",
    "version": 3
   },
   "file_extension": ".py",
   "mimetype": "text/x-python",
   "name": "python",
   "nbconvert_exporter": "python",
   "pygments_lexer": "ipython3",
   "version": "3.8.20"
  }
 },
 "nbformat": 4,
 "nbformat_minor": 0
}
