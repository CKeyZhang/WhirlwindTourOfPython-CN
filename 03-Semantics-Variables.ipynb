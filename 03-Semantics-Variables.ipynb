{
 "cells": [
  {
   "cell_type": "markdown",
   "metadata": {},
   "source": [
    "<!--BOOK_INFORMATION-->\n",
    "<img align=\"left\" style=\"padding-right:10px;\" src=\"fig/cover-small.jpg\">\n",
    "\n",
    "*本文摘自 Jake VanderPlas 的《Python 简明教程》；内容可在 [GitHub](https://github.com/jakevdp/WhirlwindTourOfPython) 上找到。*\n",
    "\n",
    "*文本和代码均在 [CC0](https://github.com/jakevdp/WhirlwindTourOfPython/blob/master/LICENSE) 许可下发布；还可参考配套项目 [Python 数据科学手册](https://github.com/jakevdp/PythonDataScienceHandbook)。*\n"
   ]
  },
  {
   "cell_type": "markdown",
   "metadata": {},
   "source": [
    "<!--NAVIGATION-->\n",
    "< [Python 语言语法快速浏览](02-Basic-Python-Syntax.ipynb) | [目录](Index.ipynb) | [Python 语义基础：运算符](04-Semantics-Operators.ipynb) >"
   ]
  },
  {
   "cell_type": "markdown",
   "metadata": {},
   "source": [
    "# Python 语义基础：变量和对象"
   ]
  },
  {
   "cell_type": "markdown",
   "metadata": {},
   "source": [
    "本节将开始涉及 Python 语言的基本语义。\n",
    "与前文讨论的 *语法* 不同，语言的 *语义* 涉及语句的含义。\n",
    "与语法讨论类似，这里我们将预览 Python 中一些基本的语义构造，以便你更好地理解后续章节中的代码。\n",
    "\n",
    "本节将涵盖 *变量* 和 *对象* 的语义，这是你在 Python 脚本中存储、引用和操作数据的主要方式。"
   ]
  },
  {
   "cell_type": "markdown",
   "metadata": {},
   "source": [
    "## Python 变量是引用\n",
    "\n",
    "在 Python 中，赋值变量就像把变量名放在等号（``=``）的左边一样简单：\n",
    "\n",
    "```python\n",
    "# 将 4 赋值给变量 x\n",
    "x = 4\n",
    "```\n",
    "\n",
    "这看起来可能很直接，但如果你对这个操作的内在原理有错误的理解，Python 的工作方式可能会让你感到困惑。\n",
    "我们在这里简要探讨一下。\n",
    "\n",
    "在许多编程语言中，变量最好被看作是存储数据的容器或桶。\n",
    "例如，在 C 语言中，当你写\n",
    "\n",
    "```C\n",
    "// C 代码\n",
    "int x = 4;\n",
    "```\n",
    "\n",
    "你实际上是在定义一个名为 ``x`` 的“内存桶”，并将值 ``4`` 放入其中。\n",
    "相比之下，在 Python 中，变量最好被看作是指针。\n",
    "因此，在 Python 中，当你写\n",
    "\n",
    "```python\n",
    "x = 4\n",
    "```\n",
    "\n",
    "你实际上是在定义一个名为 ``x`` 的*指针*，它指向另一个包含值 ``4`` 的桶。\n",
    "注意这一结果：由于 Python 变量只是指向各种对象，因此无需“声明”变量，甚至无需要求变量始终指向同一类型的信息！\n",
    "这就是人们说 Python 是 *动态类型* 的原因：变量名可以指向任何类型的对象。\n",
    "因此，在 Python 中，你可以像下面这样操作："
   ]
  },
  {
   "cell_type": "code",
   "execution_count": 6,
   "metadata": {
    "collapsed": false
   },
   "outputs": [],
   "source": [
    "x = 1         # x 是一个整数\n",
    "x = 'hello'   # 现在 x 是一个字符串\n",
    "x = [1, 2, 3] # 现在 x 是一个列表"
   ]
  },
  {
   "cell_type": "markdown",
   "metadata": {},
   "source": [
    "使用静态类型语言的用户可能会怀念 C 中声明所带来的类型安全性，\n",
    "\n",
    "```C\n",
    "int x = 4;\n",
    "```\n",
    "\n",
    "但这种动态类型是使 Python 编写起来如此快速且易于阅读的原因之一。\n",
    "\n",
    "你需要注意这种“变量作为指针”的方法的一个结果。\n",
    "如果我们有两个变量名指向同一个 *可变* 对象，那么通过其中一个变量名修改这个列表时，另一个变量名所指向的列表也会被修改！\n",
    "例如，我们来创建并修改一个列表："
   ]
  },
  {
   "cell_type": "code",
   "execution_count": 1,
   "metadata": {
    "collapsed": false
   },
   "outputs": [],
   "source": [
    "x = [1, 2, 3]\n",
    "y = x"
   ]
  },
  {
   "cell_type": "markdown",
   "metadata": {},
   "source": [
    "我们创建了两个变量 ``x`` 和 ``y``，它们都指向同一个对象。\n",
    "因此，如果通过其中一个变量名修改这个列表，我们会发现“另一个”列表也会被修改："
   ]
  },
  {
   "cell_type": "code",
   "execution_count": 2,
   "metadata": {
    "collapsed": false
   },
   "outputs": [
    {
     "name": "stdout",
     "output_type": "stream",
     "text": [
      "[1, 2, 3]\n"
     ]
    }
   ],
   "source": [
    "print(y)"
   ]
  },
  {
   "cell_type": "code",
   "execution_count": 3,
   "metadata": {
    "collapsed": false
   },
   "outputs": [
    {
     "name": "stdout",
     "output_type": "stream",
     "text": [
      "[1, 2, 3, 4]\n"
     ]
    }
   ],
   "source": [
    "x.append(4) # 将 4 添加到 x 所指向的列表中\n",
    "print(y) # y 所指向的列表也被修改了！"
   ]
  },
  {
   "cell_type": "markdown",
   "metadata": {},
   "source": [
    "如果你错误地将变量视为存储数据的桶，这种行为可能会让你感到困惑。\n",
    "但如果你正确地将变量视为指向对象的指针，那么这种行为就说得通了。\n",
    "\n",
    "另外请注意，如果我们使用“``=``”将另一个值赋给 ``x``，这将不会影响 ``y`` 的值——赋值只是改变了变量所指向的对象："
   ]
  },
  {
   "cell_type": "code",
   "execution_count": 4,
   "metadata": {
    "collapsed": false
   },
   "outputs": [
    {
     "name": "stdout",
     "output_type": "stream",
     "text": [
      "[1, 2, 3, 4]\n"
     ]
    }
   ],
   "source": [
    "x = 'something else'\n",
    "print(y)  # y 保持不变"
   ]
  },
  {
   "cell_type": "markdown",
   "metadata": {},
   "source": [
    "再次强调，如果你将 ``x`` 和 ``y`` 视为指针，并将“``=``”运算符视为改变名称所指向对象的操作，这将完全说得通。\n",
    "\n",
    "你可能会怀疑这种指针概念是否会使 Python 中的算术运算难以跟踪，但 Python 的设计使得这不成问题。数字、字符串和其他 *简单类型* 是不可变的：你不能更改它们的值——你只能更改变量所指向的值。\n",
    "因此，例如，像下面这样的操作是完全安全的："
   ]
  },
  {
   "cell_type": "code",
   "execution_count": 5,
   "metadata": {
    "collapsed": false
   },
   "outputs": [
    {
     "name": "stdout",
     "output_type": "stream",
     "text": [
      "x = 15\n",
      "y = 10\n"
     ]
    }
   ],
   "source": [
    "x = 10\n",
    "y = x\n",
    "x += 5  # 将 5 加到 x 的值上，并赋值给 x\n",
    "print(\"x =\", x)\n",
    "print(\"y =\", y)"
   ]
  },
  {
   "cell_type": "markdown",
   "metadata": {},
   "source": [
    "当我们调用 ``x += 5`` 时，我们并没有修改 ``x`` 所指向的 ``10`` 对象的值；而是将变量 ``x`` 改为指向一个新的整数对象，其值为 ``15``。\n",
    "因此，``y`` 的值不会受到该操作的影响。"
   ]
  },
  {
   "cell_type": "markdown",
   "metadata": {},
   "source": [
    "## 一切都是对象\n",
    "\n",
    "Python 是一种面向对象的编程语言，在 Python 中，一切都是对象。\n",
    "\n",
    "我们来详细说明一下这是什么意思。前面我们看到变量只是指针，变量名本身并没有附加的类型信息。\n",
    "这使得一些人错误地声称 Python 是一种无类型语言。但事实并非如此！\n",
    "考虑以下内容："
   ]
  },
  {
   "cell_type": "code",
   "execution_count": 8,
   "metadata": {
    "collapsed": false
   },
   "outputs": [
    {
     "data": {
      "text/plain": [
       "int"
      ]
     },
     "execution_count": 8,
     "metadata": {},
     "output_type": "execute_result"
    }
   ],
   "source": [
    "x = 4\n",
    "type(x)"
   ]
  },
  {
   "cell_type": "code",
   "execution_count": 9,
   "metadata": {
    "collapsed": false
   },
   "outputs": [
    {
     "data": {
      "text/plain": [
       "str"
      ]
     },
     "execution_count": 9,
     "metadata": {},
     "output_type": "execute_result"
    }
   ],
   "source": [
    "x = 'hello'\n",
    "type(x)"
   ]
  },
  {
   "cell_type": "code",
   "execution_count": 10,
   "metadata": {
    "collapsed": false
   },
   "outputs": [
    {
     "data": {
      "text/plain": [
       "float"
      ]
     },
     "execution_count": 10,
     "metadata": {},
     "output_type": "execute_result"
    }
   ],
   "source": [
    "x = 3.14159\n",
    "type(x)"
   ]
  },
  {
   "cell_type": "markdown",
   "metadata": {},
   "source": [
    "Python 有类型；然而，类型并不是与变量名相关联，而是与 *对象本身* 相关联。\n",
    "\n",
    "在像 Python 这样的面向对象编程语言中，一个 *对象* 是一个包含数据以及相关元数据 和/或 功能的实体。\n",
    "在 Python 中，一切都是对象，这意味着每个实体都有某些元数据（称为 *属性* ）和相关功能（称为 *方法* ）。\n",
    "这些属性和方法可以通过点语法访问。\n",
    "\n",
    "例如，我们之前看到列表有一个 ``append`` 方法，它会向列表中添加一个元素，该方法通过点（\"``.``\"）语法访问："
   ]
  },
  {
   "cell_type": "code",
   "execution_count": 11,
   "metadata": {
    "collapsed": false
   },
   "outputs": [
    {
     "name": "stdout",
     "output_type": "stream",
     "text": [
      "[1, 2, 3, 100]\n"
     ]
    }
   ],
   "source": [
    "L = [1, 2, 3]\n",
    "L.append(100)\n",
    "print(L)"
   ]
  },
  {
   "cell_type": "markdown",
   "metadata": {},
   "source": [
    "虽然像列表这样的复合对象有属性和方法是意料之中的，但有时人们会意外地发现，在 Python 中即使是简单类型也有附加的属性和方法。\n",
    "例如，数值类型有 ``real`` 和 ``imag`` 属性，如果将值视为复数，它们会返回值的实部和虚部："
   ]
  },
  {
   "cell_type": "code",
   "execution_count": 12,
   "metadata": {
    "collapsed": false
   },
   "outputs": [
    {
     "name": "stdout",
     "output_type": "stream",
     "text": [
      "4.5 + 0.0 i\n"
     ]
    }
   ],
   "source": [
    "x = 4.5\n",
    "print(x.real, \"+\", x.imag, 'i')"
   ]
  },
  {
   "cell_type": "markdown",
   "metadata": {},
   "source": [
    "方法类似于属性，只不过它们是可以使用圆括号调用的函数。\n",
    "例如，浮点数有一个名为 ``is_integer`` 的方法，用于检查值是否为整数："
   ]
  },
  {
   "cell_type": "code",
   "execution_count": 13,
   "metadata": {
    "collapsed": false
   },
   "outputs": [
    {
     "data": {
      "text/plain": [
       "False"
      ]
     },
     "execution_count": 13,
     "metadata": {},
     "output_type": "execute_result"
    }
   ],
   "source": [
    "x = 4.5\n",
    "x.is_integer()"
   ]
  },
  {
   "cell_type": "code",
   "execution_count": 14,
   "metadata": {
    "collapsed": false
   },
   "outputs": [
    {
     "data": {
      "text/plain": [
       "True"
      ]
     },
     "execution_count": 14,
     "metadata": {},
     "output_type": "execute_result"
    }
   ],
   "source": [
    "x = 4.0\n",
    "x.is_integer()"
   ]
  },
  {
   "cell_type": "markdown",
   "metadata": {},
   "source": [
    "当我们说 Python 中一切都是对象时，我们真的意味着*一切*都是对象——甚至连对象的属性和方法本身都是带有自己的 ``type`` 信息的对象："
   ]
  },
  {
   "cell_type": "code",
   "execution_count": 15,
   "metadata": {
    "collapsed": false
   },
   "outputs": [
    {
     "data": {
      "text/plain": [
       "builtin_function_or_method"
      ]
     },
     "execution_count": 15,
     "metadata": {},
     "output_type": "execute_result"
    }
   ],
   "source": [
    "type(x.is_integer)"
   ]
  },
  {
   "cell_type": "markdown",
   "metadata": {},
   "source": [
    "我们会发现 Python 的一切皆对象的设计选择使得一些语言构造变得非常方便。"
   ]
  },
  {
   "cell_type": "markdown",
   "metadata": {},
   "source": [
    "<!--NAVIGATION-->\n",
    "< [Python 语言语法快速浏览](02-Basic-Python-Syntax.ipynb) | [目录](Index.ipynb) | [Python 语义基础：运算符](04-Semantics-Operators.ipynb) >"
   ]
  }
 ],
 "metadata": {
  "anaconda-cloud": {},
  "kernelspec": {
   "display_name": "datamine",
   "language": "python",
   "name": "python3"
  },
  "language_info": {
   "codemirror_mode": {
    "name": "ipython",
    "version": 3
   },
   "file_extension": ".py",
   "mimetype": "text/x-python",
   "name": "python",
   "nbconvert_exporter": "python",
   "pygments_lexer": "ipython3",
   "version": "3.8.20"
  }
 },
 "nbformat": 4,
 "nbformat_minor": 0
}
