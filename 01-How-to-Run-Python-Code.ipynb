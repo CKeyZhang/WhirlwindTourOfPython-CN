{
 "cells": [
  {
   "cell_type": "markdown",
   "metadata": {},
   "source": [
    "<!--BOOK_INFORMATION-->\n",
    "<img align=\"left\" style=\"padding-right:10px;\" src=\"fig/cover-small.jpg\">\n",
    "\n",
    "*本文摘自 Jake VanderPlas 的 [Python 之旅](http://www.oreilly.com/programming/free/a-whirlwind-tour-of-python.csp )；内容可在 [GitHub](https://github.com/jakevdp/WhirlwindTourOfPython) 上找到。*\n",
    "\n",
    "*文本和代码根据 [CC0](https://github.com/jakevdp/WhirlwindTourOfPython/blob/master/LICENSE) 许可证发布；另请参阅配套项目，[Python 数据科学手册](https://github.com/jakevdp/PythonDataScienceHandbook)。*\n",
    "\n",
    "*中文翻译由 [ZhangCongke](https://ckeyzhang.github.io/) 提供，项目可在 [GitHub](https://github.com/CKeyZhang/WhirlwindTourOfPython-CN) 上找到。*"
   ]
  },
  {
   "cell_type": "markdown",
   "metadata": {},
   "source": [
    "<!--NAVIGATION-->\n",
    "< [引言](00-Introduction.ipynb) | [目录](Index.ipynb) | [Python 语言语法快速浏览](02-Basic-Python-Syntax.ipynb) >"
   ]
  },
  {
   "cell_type": "markdown",
   "metadata": {},
   "source": [
    "# 如何运行 Python 代码"
   ]
  },
  {
   "cell_type": "markdown",
   "metadata": {},
   "source": [
    "Python 是一种灵活的语言，根据你的特定任务，有几种不同的使用方法。\n",
    "Python 与其他编程语言的一个区别是它是 *解释型* 而不是 *编译型*。\n",
    "这意味着它是一行一行执行的，这使得编程能够以一种编译型语言（如 Fortran、C 或 Java）所不直接支持的方式进行交互。本节将描述四种主要的运行 Python 代码的方式：*Python 解释器*、*IPython 解释器*、*独立脚本* 或在 *Jupyter 笔记本* 中。"
   ]
  },
  {
   "cell_type": "markdown",
   "metadata": {},
   "source": [
    "### Python 解释器\n",
    "\n",
    "执行 Python 代码最基本的方式是在 *Python 解释器* 中逐行执行。\n",
    "通过安装 Python 语言（参见上一节）并在命令提示符下输入 ``python`` 来启动 Python 解释器（在 Mac OS X 和 Unix/Linux 系统上寻找终端，或在 Windows 中寻找命令提示符应用程序）：\n",
    "```\n",
    "$ python\n",
    "Python 3.5.1 |Continuum Analytics, Inc.| (default, Dec  7 2015, 11:24:55)\n",
    "Type \"help\", \"copyright\", \"credits\" or \"license\" for more information.\n",
    ">>>\n",
    "```\n",
    "解释器运行后，你可以开始输入并执行代码片段。\n",
    "这里我们将使用解释器作为一个简单的计算器，执行计算并将值赋给变量：\n",
    "``` python\n",
    ">>> 1 + 1\n",
    "2\n",
    ">>> x = 5\n",
    ">>> x * 3\n",
    "15\n",
    "```\n",
    "\n",
    "解释器使得尝试 Python 代码的小片段以及实验短序列的操作变得非常方便。"
   ]
  },
  {
   "cell_type": "markdown",
   "metadata": {},
   "source": [
    "### IPython 解释器\n",
    "\n",
    "如果你在基本 Python 解释器上花费太多时间，你会发现它缺乏完整交互式开发环境的许多功能。\n",
    "一个名为 *IPython*（Interactive Python 的缩写）的替代解释器与 Anaconda 发行版捆绑在一起，并提供了许多对基本 Python 解释器的增强功能。\n",
    "可以通过在命令提示符下输入 ``ipython`` 来启动它：\n",
    "```\n",
    "$ ipython\n",
    "Python 3.5.1 |Continuum Analytics, Inc.| (default, Dec  7 2015, 11:24:55) \n",
    "Type \"copyright\", \"credits\" or \"license\" for more information.\n",
    "\n",
    "IPython 4.0.0 -- An enhanced Interactive Python.\n",
    "?         -> Introduction and overview of IPython's features.\n",
    "%quickref -> Quick reference.\n",
    "help      -> Python's own help system.\n",
    "object?   -> Details about 'object', use 'object??' for extra details.\n",
    "\n",
    "In [1]: \n",
    "```\n",
    "Python 解释器和增强型 IPython 解释器之间的主要美学区别在于命令提示符：Python 默认使用 ``>>>``，而 IPython 使用编号命令（例如 ``In [1]:``）。\n",
    "不管怎样，我们都可以像以前一样逐行执行代码：\n",
    "``` ipython\n",
    "In [1]: 1 + 1\n",
    "Out[1]: 2\n",
    "\n",
    "In [2]: x = 5\n",
    "\n",
    "In [3]: x * 3\n",
    "Out[3]: 15\n",
    "```\n",
    "请注意，正如输入被编号一样，每个命令的输出也被编号了。\n",
    "IPython 提供了广泛的功能；有关进一步阅读的建议，请参阅 [进一步学习资源](16-Further-Resources.ipynb)。"
   ]
  },
  {
   "cell_type": "markdown",
   "metadata": {},
   "source": [
    "### 独立 Python 脚本\n",
    "\n",
    "逐行运行 Python 片段在某些情况下很有用，但对于更复杂的程序，将代码保存到文件中并一次性执行会更方便。\n",
    "按照惯例，Python 脚本保存在带有 *.py* 扩展名的文件中。\n",
    "例如，让我们创建一个名为 *test.py* 的脚本，其中包含以下内容：\n",
    "``` python\n",
    "# file: test.py\n",
    "print(\"Running test.py\")\n",
    "x = 5\n",
    "print(\"Result is\", 3 * x)\n",
    "```\n",
    "要运行此文件，我们确保它在当前目录中，并在命令提示符下输入 ``python`` *``filename``*：\n",
    "```\n",
    "$ python test.py\n",
    "Running test.py\n",
    "Result is 15\n",
    "```\n",
    "对于更复杂的程序，像这样创建独立脚本是必不可少的。"
   ]
  },
  {
   "cell_type": "markdown",
   "metadata": {},
   "source": [
    "### Jupyter 笔记本\n",
    "\n",
    "交互式终端和独立脚本的有用混合体是 *Jupyter 笔记本*，这是一种文档格式，允许将可执行代码、格式化文本、图形甚至交互式功能结合到一个文档中。\n",
    "尽管笔记本最初是仅支持 Python 的格式，但它现在已经与大量编程语言兼容，并且是 [*Jupyter 项目*](https://jupyter.org/ ) 的重要组成部分。\n",
    "笔记本既可以用作开发环境，也可以通过丰富的计算和数据驱动的叙述（将代码、图形、数据和文本混合在一起）来分享工作。"
   ]
  },
  {
   "cell_type": "markdown",
   "metadata": {},
   "source": [
    "<!--NAVIGATION-->\n",
    "< [1. 引言](00-Introduction.ipynb) | [目录](Index.ipynb) | [Python 语言语法快速浏览](02-Basic-Python-Syntax.ipynb) >"
   ]
  }
 ],
 "metadata": {
  "anaconda-cloud": {},
  "kernelspec": {
   "display_name": "datamine",
   "language": "python",
   "name": "python3"
  },
  "language_info": {
   "codemirror_mode": {
    "name": "ipython",
    "version": 3
   },
   "file_extension": ".py",
   "mimetype": "text/x-python",
   "name": "python",
   "nbconvert_exporter": "python",
   "pygments_lexer": "ipython3",
   "version": "3.8.20"
  }
 },
 "nbformat": 4,
 "nbformat_minor": 0
}
