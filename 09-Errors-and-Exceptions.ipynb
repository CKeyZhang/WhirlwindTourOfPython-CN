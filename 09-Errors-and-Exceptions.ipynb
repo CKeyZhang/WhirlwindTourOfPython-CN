{
 "cells": [
  {
   "cell_type": "markdown",
   "metadata": {},
   "source": [
    "<!--BOOK_INFORMATION-->\n",
    "<img align=\"left\" style=\"padding-right:10px;\" src=\"fig/cover-small.jpg\">\n",
    "\n",
    "*本文摘自 Jake VanderPlas 的 [Python 之旅](http://www.oreilly.com/programming/free/a-whirlwind-tour-of-python.csp)，内容可在 [GitHub](https://github.com/jakevdp/WhirlwindTourOfPython) 上找到。*\n",
    "\n",
    "*文本和代码在 [CC0](https://github.com/jakevdp/WhirlwindTourOfPython/blob/master/LICENSE) 许可下发布；另见配套项目，[Python 数据科学手册](https://github.com/jakevdp/PythonDataScienceHandbook)。*\n",
    "\n",
    "*中文翻译由 [ZhangCongke](https://ckeyzhang.github.io/) 提供，项目可在 [GitHub](https://github.com/CKeyZhang/WhirlwindTourOfPython-CN) 上找到。*"
   ]
  },
  {
   "cell_type": "markdown",
   "metadata": {},
   "source": [
    "<!--NAVIGATION-->\n",
    "< [定义和使用函数](08-Defining-Functions.ipynb) | [目录](Index.ipynb) | [迭代器](10-Iterators.ipynb) >"
   ]
  },
  {
   "cell_type": "markdown",
   "metadata": {},
   "source": [
    "# 错误和异常"
   ]
  },
  {
   "cell_type": "markdown",
   "metadata": {},
   "source": [
    "无论你作为程序员的技能如何，你总会犯编程错误。\n",
    "这些错误主要有三种类型：\n",
    "\n",
    "- *语法错误*：代码不是有效的 Python（通常很容易修复）\n",
    "- *运行时错误*：语法有效的代码未能执行，可能是因为用户输入无效（有时很容易修复）\n",
    "- *语义错误*：逻辑错误：代码执行没有问题，但结果并非你所期望的（往往很难追踪和修复）\n",
    "\n",
    "这里我们将专注于如何干净利落地处理 *运行时错误*。\n",
    "正如我们将看到的，Python 通过其 *异常处理* 框架来处理运行时错误。"
   ]
  },
  {
   "cell_type": "markdown",
   "metadata": {},
   "source": [
    "## 运行时错误\n",
    "\n",
    "如果你在 Python 中做过任何编程，你可能遇到过运行时错误。\n",
    "它们可能以多种方式发生。\n",
    "\n",
    "例如，如果你尝试引用一个未定义的变量："
   ]
  },
  {
   "cell_type": "code",
   "execution_count": 2,
   "metadata": {
    "collapsed": false
   },
   "outputs": [
    {
     "ename": "NameError",
     "evalue": "name 'Q' is not defined",
     "output_type": "error",
     "traceback": [
      "\u001b[1;31m---------------------------------------------------------------------------\u001b[0m",
      "\u001b[1;31mNameError\u001b[0m                                 Traceback (most recent call last)",
      "Cell \u001b[1;32mIn[2], line 1\u001b[0m\n\u001b[1;32m----> 1\u001b[0m \u001b[38;5;28mprint\u001b[39m(\u001b[43mQ\u001b[49m)\n",
      "\u001b[1;31mNameError\u001b[0m: name 'Q' is not defined"
     ]
    }
   ],
   "source": [
    "print(Q)"
   ]
  },
  {
   "cell_type": "markdown",
   "metadata": {},
   "source": [
    "或者尝试一个未定义的操作："
   ]
  },
  {
   "cell_type": "code",
   "execution_count": 3,
   "metadata": {
    "collapsed": false
   },
   "outputs": [
    {
     "ename": "TypeError",
     "evalue": "unsupported operand type(s) for +: 'int' and 'str'",
     "output_type": "error",
     "traceback": [
      "\u001b[1;31m---------------------------------------------------------------------------\u001b[0m",
      "\u001b[1;31mTypeError\u001b[0m                                 Traceback (most recent call last)",
      "Cell \u001b[1;32mIn[3], line 1\u001b[0m\n\u001b[1;32m----> 1\u001b[0m \u001b[38;5;241;43m1\u001b[39;49m\u001b[43m \u001b[49m\u001b[38;5;241;43m+\u001b[39;49m\u001b[43m \u001b[49m\u001b[38;5;124;43m'\u001b[39;49m\u001b[38;5;124;43mabc\u001b[39;49m\u001b[38;5;124;43m'\u001b[39;49m\n",
      "\u001b[1;31mTypeError\u001b[0m: unsupported operand type(s) for +: 'int' and 'str'"
     ]
    }
   ],
   "source": [
    "1 + 'abc'"
   ]
  },
  {
   "cell_type": "markdown",
   "metadata": {},
   "source": [
    "或者你可能试图计算一个数学上无定义的结果："
   ]
  },
  {
   "cell_type": "code",
   "execution_count": 4,
   "metadata": {
    "collapsed": false
   },
   "outputs": [
    {
     "ename": "ZeroDivisionError",
     "evalue": "division by zero",
     "output_type": "error",
     "traceback": [
      "\u001b[1;31m---------------------------------------------------------------------------\u001b[0m",
      "\u001b[1;31mZeroDivisionError\u001b[0m                         Traceback (most recent call last)",
      "Cell \u001b[1;32mIn[4], line 1\u001b[0m\n\u001b[1;32m----> 1\u001b[0m \u001b[38;5;241;43m2\u001b[39;49m\u001b[43m \u001b[49m\u001b[38;5;241;43m/\u001b[39;49m\u001b[43m \u001b[49m\u001b[38;5;241;43m0\u001b[39;49m\n",
      "\u001b[1;31mZeroDivisionError\u001b[0m: division by zero"
     ]
    }
   ],
   "source": [
    "2 / 0"
   ]
  },
  {
   "cell_type": "markdown",
   "metadata": {},
   "source": [
    "或者你可能试图访问一个不存在的序列元素："
   ]
  },
  {
   "cell_type": "code",
   "execution_count": 5,
   "metadata": {
    "collapsed": false
   },
   "outputs": [
    {
     "ename": "IndexError",
     "evalue": "list index out of range",
     "output_type": "error",
     "traceback": [
      "\u001b[1;31m---------------------------------------------------------------------------\u001b[0m",
      "\u001b[1;31mIndexError\u001b[0m                                Traceback (most recent call last)",
      "Cell \u001b[1;32mIn[5], line 2\u001b[0m\n\u001b[0;32m      1\u001b[0m L \u001b[38;5;241m=\u001b[39m [\u001b[38;5;241m1\u001b[39m, \u001b[38;5;241m2\u001b[39m, \u001b[38;5;241m3\u001b[39m]\n\u001b[1;32m----> 2\u001b[0m \u001b[43mL\u001b[49m\u001b[43m[\u001b[49m\u001b[38;5;241;43m1000\u001b[39;49m\u001b[43m]\u001b[49m\n",
      "\u001b[1;31mIndexError\u001b[0m: list index out of range"
     ]
    }
   ],
   "source": [
    "L = [1, 2, 3]\n",
    "L[1000]"
   ]
  },
  {
   "cell_type": "markdown",
   "metadata": {},
   "source": [
    "请注意，在每种情况下，Python 都足够友好，不仅表明发生了错误，还抛出了一个 *有意义的* 异常，其中包含了关于到底出了什么问题以及错误发生的确切代码行的信息。\n",
    "能够获得像这样的有意义的错误信息，在尝试追踪代码问题的根源时非常有用。"
   ]
  },
  {
   "cell_type": "markdown",
   "metadata": {},
   "source": [
    "## 捕获异常：``try`` 和 ``except``\n",
    "Python 为你处理运行时异常提供的主要工具是 ``try``...``except`` 子句。\n",
    "其基本结构如下："
   ]
  },
  {
   "cell_type": "code",
   "execution_count": 6,
   "metadata": {
    "collapsed": false
   },
   "outputs": [
    {
     "name": "stdout",
     "output_type": "stream",
     "text": [
      "这将首先被执行\n"
     ]
    }
   ],
   "source": [
    "try:\n",
    "    print(\"这将首先被执行\")\n",
    "except:\n",
    "    print(\"只有在发生错误时才会执行这里\")"
   ]
  },
  {
   "cell_type": "markdown",
   "metadata": {},
   "source": [
    "请注意，第二个块在这里没有被执行：这是因为第一个块没有返回错误。\n",
    "让我们在 ``try`` 块中放入一个有问题的语句，看看会发生什么："
   ]
  },
  {
   "cell_type": "code",
   "execution_count": 7,
   "metadata": {
    "collapsed": false
   },
   "outputs": [
    {
     "name": "stdout",
     "output_type": "stream",
     "text": [
      "让我们尝试一下：\n",
      "出问题了！\n"
     ]
    }
   ],
   "source": [
    "try:\n",
    "    print(\"让我们尝试一下：\")\n",
    "    x = 1 / 0 # ZeroDivisionError\n",
    "except:\n",
    "    print(\"出问题了！\")"
   ]
  },
  {
   "cell_type": "markdown",
   "metadata": {},
   "source": [
    "在这里，我们看到当 ``try`` 语句中抛出了错误（在这种情况下，是一个 ``ZeroDivisionError``），错误被捕获，然后执行了 ``except`` 语句。\n",
    "\n",
    "这种用法通常用于在函数或代码的其他部分中检查用户输入。\n",
    "例如，我们可能希望有一个函数，它捕获零除错误并返回一些其他值，比如一个足够大的数字，如 $10^{100}$："
   ]
  },
  {
   "cell_type": "code",
   "execution_count": 8,
   "metadata": {
    "collapsed": false
   },
   "outputs": [],
   "source": [
    "def safe_divide(a, b):\n",
    "    try:\n",
    "        return a / b\n",
    "    except:\n",
    "        return 1E100"
   ]
  },
  {
   "cell_type": "code",
   "execution_count": 9,
   "metadata": {
    "collapsed": false
   },
   "outputs": [
    {
     "data": {
      "text/plain": [
       "0.5"
      ]
     },
     "execution_count": 9,
     "metadata": {},
     "output_type": "execute_result"
    }
   ],
   "source": [
    "safe_divide(1, 2)"
   ]
  },
  {
   "cell_type": "code",
   "execution_count": 10,
   "metadata": {
    "collapsed": false
   },
   "outputs": [
    {
     "data": {
      "text/plain": [
       "1e+100"
      ]
     },
     "execution_count": 10,
     "metadata": {},
     "output_type": "execute_result"
    }
   ],
   "source": [
    "safe_divide(2, 0)"
   ]
  },
  {
   "cell_type": "markdown",
   "metadata": {},
   "source": [
    "这段代码有一个微妙的问题：当出现另一种类型的异常时会发生什么？例如，这可能不是我们想要的结果："
   ]
  },
  {
   "cell_type": "code",
   "execution_count": 11,
   "metadata": {
    "collapsed": false
   },
   "outputs": [
    {
     "data": {
      "text/plain": [
       "1e+100"
      ]
     },
     "execution_count": 11,
     "metadata": {},
     "output_type": "execute_result"
    }
   ],
   "source": [
    "safe_divide (1, '2')"
   ]
  },
  {
   "cell_type": "markdown",
   "metadata": {},
   "source": [
    "将整数和字符串相除会引发一个 ``TypeError``，我们的过于急切的代码捕获了它，并假设它是 ``ZeroDivisionError``！\n",
    "因此，几乎总是最好明确地捕获异常："
   ]
  },
  {
   "cell_type": "code",
   "execution_count": 12,
   "metadata": {
    "collapsed": false
   },
   "outputs": [],
   "source": [
    "def safe_divide(a, b):\n",
    "    try:\n",
    "        return a / b\n",
    "    except ZeroDivisionError:\n",
    "        return 1E100"
   ]
  },
  {
   "cell_type": "code",
   "execution_count": 13,
   "metadata": {
    "collapsed": false
   },
   "outputs": [
    {
     "data": {
      "text/plain": [
       "1e+100"
      ]
     },
     "execution_count": 13,
     "metadata": {},
     "output_type": "execute_result"
    }
   ],
   "source": [
    "safe_divide(1, 0)"
   ]
  },
  {
   "cell_type": "code",
   "execution_count": 14,
   "metadata": {
    "collapsed": false
   },
   "outputs": [
    {
     "ename": "TypeError",
     "evalue": "unsupported operand type(s) for /: 'int' and 'str'",
     "output_type": "error",
     "traceback": [
      "\u001b[1;31m---------------------------------------------------------------------------\u001b[0m",
      "\u001b[1;31mTypeError\u001b[0m                                 Traceback (most recent call last)",
      "Cell \u001b[1;32mIn[14], line 1\u001b[0m\n\u001b[1;32m----> 1\u001b[0m \u001b[43msafe_divide\u001b[49m\u001b[43m(\u001b[49m\u001b[38;5;241;43m1\u001b[39;49m\u001b[43m,\u001b[49m\u001b[43m \u001b[49m\u001b[38;5;124;43m'\u001b[39;49m\u001b[38;5;124;43m2\u001b[39;49m\u001b[38;5;124;43m'\u001b[39;49m\u001b[43m)\u001b[49m\n",
      "Cell \u001b[1;32mIn[12], line 3\u001b[0m, in \u001b[0;36msafe_divide\u001b[1;34m(a, b)\u001b[0m\n\u001b[0;32m      1\u001b[0m \u001b[38;5;28;01mdef\u001b[39;00m \u001b[38;5;21msafe_divide\u001b[39m(a, b):\n\u001b[0;32m      2\u001b[0m     \u001b[38;5;28;01mtry\u001b[39;00m:\n\u001b[1;32m----> 3\u001b[0m         \u001b[38;5;28;01mreturn\u001b[39;00m \u001b[43ma\u001b[49m\u001b[43m \u001b[49m\u001b[38;5;241;43m/\u001b[39;49m\u001b[43m \u001b[49m\u001b[43mb\u001b[49m\n\u001b[0;32m      4\u001b[0m     \u001b[38;5;28;01mexcept\u001b[39;00m \u001b[38;5;167;01mZeroDivisionError\u001b[39;00m:\n\u001b[0;32m      5\u001b[0m         \u001b[38;5;28;01mreturn\u001b[39;00m \u001b[38;5;241m1E100\u001b[39m\n",
      "\u001b[1;31mTypeError\u001b[0m: unsupported operand type(s) for /: 'int' and 'str'"
     ]
    }
   ],
   "source": [
    "safe_divide(1, '2')"
   ]
  },
  {
   "cell_type": "markdown",
   "metadata": {},
   "source": [
    "现在我们只捕获零除错误，让所有其他错误按原样通过。"
   ]
  },
  {
   "cell_type": "markdown",
   "metadata": {},
   "source": [
    "## 抛出异常：``raise``\n",
    "我们已经看到了在使用 Python 语言的某些部分时，有信息量的异常是多么有价值。\n",
    "在你编写的代码中使用有信息量的异常同样有价值，这样代码的用户（首先是你自己！）可以找出导致错误的原因。\n",
    "\n",
    "抛出自定义异常的方法是使用 ``raise`` 语句。例如："
   ]
  },
  {
   "cell_type": "code",
   "execution_count": 15,
   "metadata": {
    "collapsed": false
   },
   "outputs": [
    {
     "ename": "RuntimeError",
     "evalue": "我的错误消息",
     "output_type": "error",
     "traceback": [
      "\u001b[1;31m---------------------------------------------------------------------------\u001b[0m",
      "\u001b[1;31mRuntimeError\u001b[0m                              Traceback (most recent call last)",
      "Cell \u001b[1;32mIn[15], line 1\u001b[0m\n\u001b[1;32m----> 1\u001b[0m \u001b[38;5;28;01mraise\u001b[39;00m \u001b[38;5;167;01mRuntimeError\u001b[39;00m(\u001b[38;5;124m\"\u001b[39m\u001b[38;5;124m我的错误消息\u001b[39m\u001b[38;5;124m\"\u001b[39m)\n",
      "\u001b[1;31mRuntimeError\u001b[0m: 我的错误消息"
     ]
    }
   ],
   "source": [
    "raise RuntimeError(\"我的错误消息\")"
   ]
  },
  {
   "cell_type": "markdown",
   "metadata": {},
   "source": [
    "作为这个可能有用的示例，让我们回到我们之前定义的 ``fibonacci`` 函数："
   ]
  },
  {
   "cell_type": "code",
   "execution_count": 16,
   "metadata": {
    "collapsed": false
   },
   "outputs": [],
   "source": [
    "def fibonacci(N):\n",
    "    L = []\n",
    "    a, b = 0, 1\n",
    "    while len(L) < N:\n",
    "        a, b = b, a + b\n",
    "        L.append(a)\n",
    "    return L"
   ]
  },
  {
   "cell_type": "markdown",
   "metadata": {},
   "source": [
    "这里的一个潜在问题是输入值可能是负数。\n",
    "这在我们的函数中目前不会导致任何错误，但我们可以让用户知道不支持负的 ``N``。\n",
    "按照惯例，由于无效的参数值导致的错误会导致抛出一个 ``ValueError``："
   ]
  },
  {
   "cell_type": "code",
   "execution_count": 17,
   "metadata": {
    "collapsed": false
   },
   "outputs": [],
   "source": [
    "def fibonacci(N):\n",
    "    if N < 0:\n",
    "        raise ValueError(\"N 必须是非负数\")\n",
    "    L = []\n",
    "    a, b = 0, 1\n",
    "    while len(L) < N:\n",
    "        a, b = b, a + b\n",
    "        L.append(a)\n",
    "    return L"
   ]
  },
  {
   "cell_type": "code",
   "execution_count": 18,
   "metadata": {
    "collapsed": false
   },
   "outputs": [
    {
     "data": {
      "text/plain": [
       "[1, 1, 2, 3, 5, 8, 13, 21, 34, 55]"
      ]
     },
     "execution_count": 18,
     "metadata": {},
     "output_type": "execute_result"
    }
   ],
   "source": [
    "fibonacci(10)"
   ]
  },
  {
   "cell_type": "code",
   "execution_count": 19,
   "metadata": {
    "collapsed": false
   },
   "outputs": [
    {
     "ename": "ValueError",
     "evalue": "N 必须是非负数",
     "output_type": "error",
     "traceback": [
      "\u001b[1;31m---------------------------------------------------------------------------\u001b[0m",
      "\u001b[1;31mValueError\u001b[0m                                Traceback (most recent call last)",
      "Cell \u001b[1;32mIn[19], line 1\u001b[0m\n\u001b[1;32m----> 1\u001b[0m \u001b[43mfibonacci\u001b[49m\u001b[43m(\u001b[49m\u001b[38;5;241;43m-\u001b[39;49m\u001b[38;5;241;43m10\u001b[39;49m\u001b[43m)\u001b[49m\n",
      "Cell \u001b[1;32mIn[17], line 3\u001b[0m, in \u001b[0;36mfibonacci\u001b[1;34m(N)\u001b[0m\n\u001b[0;32m      1\u001b[0m \u001b[38;5;28;01mdef\u001b[39;00m \u001b[38;5;21mfibonacci\u001b[39m(N):\n\u001b[0;32m      2\u001b[0m     \u001b[38;5;28;01mif\u001b[39;00m N \u001b[38;5;241m<\u001b[39m \u001b[38;5;241m0\u001b[39m:\n\u001b[1;32m----> 3\u001b[0m         \u001b[38;5;28;01mraise\u001b[39;00m \u001b[38;5;167;01mValueError\u001b[39;00m(\u001b[38;5;124m\"\u001b[39m\u001b[38;5;124mN 必须是非负数\u001b[39m\u001b[38;5;124m\"\u001b[39m)\n\u001b[0;32m      4\u001b[0m     L \u001b[38;5;241m=\u001b[39m []\n\u001b[0;32m      5\u001b[0m     a, b \u001b[38;5;241m=\u001b[39m \u001b[38;5;241m0\u001b[39m, \u001b[38;5;241m1\u001b[39m\n",
      "\u001b[1;31mValueError\u001b[0m: N 必须是非负数"
     ]
    }
   ],
   "source": [
    "fibonacci(-10)"
   ]
  },
  {
   "cell_type": "markdown",
   "metadata": {},
   "source": [
    "现在用户确切地知道为什么输入无效，并且甚至可以使用 ``try``...``except`` 块来处理它！"
   ]
  },
  {
   "cell_type": "code",
   "execution_count": 20,
   "metadata": {
    "collapsed": false
   },
   "outputs": [
    {
     "name": "stdout",
     "output_type": "stream",
     "text": [
      "尝试这个...\n",
      "值无效：需要做些别的事情\n"
     ]
    }
   ],
   "source": [
    "N = -10\n",
    "try:\n",
    "    print(\"尝试这个...\")\n",
    "    print(fibonacci(N))\n",
    "except ValueError:\n",
    "    print(\"值无效：需要做些别的事情\")"
   ]
  },
  {
   "cell_type": "markdown",
   "metadata": {},
   "source": [
    "## 更深入地了解异常\n",
    "\n",
    "简要地，我想在这里提及一些你可能会遇到的其他概念。\n",
    "我不会深入讲解这些概念以及如何以及何时使用它们，而是仅仅向你展示语法，以便你可以自行进一步探索。"
   ]
  },
  {
   "cell_type": "markdown",
   "metadata": {},
   "source": [
    "### 访问错误消息\n",
    "\n",
    "有时在 ``try``...``except`` 语句中，你希望能够操作错误消息本身。\n",
    "这可以通过 ``as`` 关键字来实现："
   ]
  },
  {
   "cell_type": "code",
   "execution_count": 21,
   "metadata": {
    "collapsed": false
   },
   "outputs": [
    {
     "name": "stdout",
     "output_type": "stream",
     "text": [
      "错误类别是：   <class 'ZeroDivisionError'>\n",
      "错误消息是： division by zero\n"
     ]
    }
   ],
   "source": [
    "try:\n",
    "    x = 1 / 0\n",
    "except ZeroDivisionError as err:\n",
    "    print(\"错误类别是：  \", type(err))\n",
    "    print(\"错误消息是：\", err)"
   ]
  },
  {
   "cell_type": "markdown",
   "metadata": {},
   "source": [
    "通过这种模式，你可以进一步自定义函数的异常处理。"
   ]
  },
  {
   "cell_type": "markdown",
   "metadata": {},
   "source": [
    "### 定义自定义异常\n",
    "除了内置异常外，还可以通过 *类继承* 定义自定义异常。\n",
    "例如，如果你想有一个特殊的 ``ValueError``，可以这样做："
   ]
  },
  {
   "cell_type": "code",
   "execution_count": 22,
   "metadata": {
    "collapsed": false
   },
   "outputs": [
    {
     "ename": "MySpecialError",
     "evalue": "这是消息",
     "output_type": "error",
     "traceback": [
      "\u001b[1;31m---------------------------------------------------------------------------\u001b[0m",
      "\u001b[1;31mMySpecialError\u001b[0m                            Traceback (most recent call last)",
      "Cell \u001b[1;32mIn[22], line 4\u001b[0m\n\u001b[0;32m      1\u001b[0m \u001b[38;5;28;01mclass\u001b[39;00m \u001b[38;5;21;01mMySpecialError\u001b[39;00m(\u001b[38;5;167;01mValueError\u001b[39;00m):\n\u001b[0;32m      2\u001b[0m     \u001b[38;5;28;01mpass\u001b[39;00m\n\u001b[1;32m----> 4\u001b[0m \u001b[38;5;28;01mraise\u001b[39;00m MySpecialError(\u001b[38;5;124m\"\u001b[39m\u001b[38;5;124m这是消息\u001b[39m\u001b[38;5;124m\"\u001b[39m)\n",
      "\u001b[1;31mMySpecialError\u001b[0m: 这是消息"
     ]
    }
   ],
   "source": [
    "class MySpecialError(ValueError):\n",
    "    pass\n",
    "\n",
    "raise MySpecialError(\"这是消息\")"
   ]
  },
  {
   "cell_type": "markdown",
   "metadata": {},
   "source": [
    "这将允许你使用一个 ``try``...``except`` 块，只捕获这种类型的错误："
   ]
  },
  {
   "cell_type": "code",
   "execution_count": 23,
   "metadata": {
    "collapsed": false
   },
   "outputs": [
    {
     "name": "stdout",
     "output_type": "stream",
     "text": [
      "做些事情\n",
      "做些别的事情\n"
     ]
    }
   ],
   "source": [
    "try:\n",
    "    print(\"做些事情\")\n",
    "    raise MySpecialError(\"[详细错误消息]\")\n",
    "except MySpecialError:\n",
    "    print(\"做些别的事情\")"
   ]
  },
  {
   "cell_type": "markdown",
   "metadata": {},
   "source": [
    "当你开发更定制化的代码时，你可能会发现这很有用。"
   ]
  },
  {
   "cell_type": "markdown",
   "metadata": {},
   "source": [
    "## ``try``...``except``...``else``...``finally``\n",
    "除了 ``try`` 和 ``except`` 外，你还可以使用 ``else`` 和 ``finally`` 关键字来进一步调整代码对异常的处理。\n",
    "基本结构如下："
   ]
  },
  {
   "cell_type": "code",
   "execution_count": 24,
   "metadata": {
    "collapsed": false
   },
   "outputs": [
    {
     "name": "stdout",
     "output_type": "stream",
     "text": [
      "在这里尝试一些事情\n",
      "只有成功时才会执行这里\n",
      "无论如何都会执行这里\n"
     ]
    }
   ],
   "source": [
    "try:\n",
    "    print(\"在这里尝试一些事情\")\n",
    "except:\n",
    "    print(\"只有失败时才会执行这里\")\n",
    "else:\n",
    "    print(\"只有成功时才会执行这里\")\n",
    "finally:\n",
    "    print(\"无论如何都会执行这里\")"
   ]
  },
  {
   "cell_type": "markdown",
   "metadata": {},
   "source": [
    "``else`` 的用途在这里很清楚，但 ``finally`` 的重点是什么？\n",
    "好吧，``finally`` 子句确实 *无论如何* 都会执行：我通常看到它用于在操作完成后进行某种清理。"
   ]
  },
  {
   "cell_type": "markdown",
   "metadata": {},
   "source": [
    "<!--NAVIGATION-->\n",
    "< [定义和使用函数](08-Defining-Functions.ipynb) | [目录](Index.ipynb) | [迭代器](10-Iterators.ipynb) >"
   ]
  }
 ],
 "metadata": {
  "anaconda-cloud": {},
  "kernelspec": {
   "display_name": "datamine",
   "language": "python",
   "name": "python3"
  },
  "language_info": {
   "codemirror_mode": {
    "name": "ipython",
    "version": 3
   },
   "file_extension": ".py",
   "mimetype": "text/x-python",
   "name": "python",
   "nbconvert_exporter": "python",
   "pygments_lexer": "ipython3",
   "version": "3.8.20"
  }
 },
 "nbformat": 4,
 "nbformat_minor": 0
}
