{
 "cells": [
  {
   "cell_type": "markdown",
   "metadata": {},
   "source": [
    "<!--BOOK_INFORMATION-->\n",
    "<img align=\"left\" style=\"padding-right:10px;\" src=\"fig/cover-small.jpg\">\n",
    "\n",
    "*本文摘自 Jake VanderPlas 的 [Python 之旅](http://www.oreilly.com/programming/free/a-whirlwind-tour-of-python.csp)，内容可在 [GitHub](https://github.com/jakevdp/WhirlwindTourOfPython) 上找到。*\n",
    "\n",
    "*文本和代码在 [CC0](https://github.com/jakevdp/WhirlwindTourOfPython/blob/master/LICENSE) 许可下发布；另见配套项目，[Python 数据科学手册](https://github.com/jakevdp/PythonDataScienceHandbook)。*\n",
    "\n",
    "*中文翻译由 [ZhangCongke](https://ckeyzhang.github.io/) 提供，项目可在 [GitHub](https://github.com/CKeyZhang/WhirlwindTourOfPython-CN) 上找到。*"
   ]
  },
  {
   "cell_type": "markdown",
   "metadata": {},
   "source": [
    "<!--NAVIGATION-->\n",
    "< [生成器](12-Generators.ipynb) | [目录](Index.ipynb) | [字符串操作和正则表达式](14-Strings-and-Regular-Expressions.ipynb) >"
   ]
  },
  {
   "cell_type": "markdown",
   "metadata": {},
   "source": [
    "# 模块和包"
   ]
  },
  {
   "cell_type": "markdown",
   "metadata": {},
   "source": [
    "Python 的一个特性是它附带了“内置电池”——也就是说，Python 标准库包含了用于各种任务的有用工具。\n",
    "除此之外，还有一个广泛的第三方工具和包的生态系统，提供了更专业的功能。\n",
    "在这里，我们将看看如何导入标准库模块、安装第三方模块的工具，以及如何制作你自己的模块。"
   ]
  },
  {
   "cell_type": "markdown",
   "metadata": {},
   "source": [
    "## 加载模块：``import`` 语句\n",
    "\n",
    "对于加载内置和第三方模块，Python 提供了 ``import`` 语句。\n",
    "使用该语句有几种方式，我们将从最推荐到最不推荐依次简要介绍。"
   ]
  },
  {
   "cell_type": "markdown",
   "metadata": {},
   "source": [
    "### 显式模块导入\n",
    "\n",
    "显式导入模块会保留模块的内容在命名空间中。\n",
    "然后使用命名空间通过在它们之间加上一个 \"``.``\" 来引用其内容。\n",
    "例如，这里我们将导入内置的 ``math`` 模块并计算 π 的余弦值："
   ]
  },
  {
   "cell_type": "code",
   "execution_count": 8,
   "metadata": {
    "collapsed": false
   },
   "outputs": [
    {
     "data": {
      "text/plain": [
       "-1.0"
      ]
     },
     "execution_count": 8,
     "metadata": {},
     "output_type": "execute_result"
    }
   ],
   "source": [
    "import math\n",
    "math.cos(math.pi)"
   ]
  },
  {
   "cell_type": "markdown",
   "metadata": {},
   "source": [
    "### 显式模块导入并设置别名\n",
    "\n",
    "对于较长的模块名，每次访问模块中的元素时都使用完整的模块名并不方便。\n",
    "因此，我们通常会使用 \"``import ... as ...``\" 模式为命名空间创建一个较短的别名。\n",
    "例如，NumPy（Numerical Python）是一个流行的第三方包，对于数据科学非常有用，按照惯例，它被导入并命名为 ``np``："
   ]
  },
  {
   "cell_type": "code",
   "execution_count": 1,
   "metadata": {
    "collapsed": false
   },
   "outputs": [
    {
     "data": {
      "text/plain": [
       "-1.0"
      ]
     },
     "execution_count": 1,
     "metadata": {},
     "output_type": "execute_result"
    }
   ],
   "source": [
    "import numpy as np\n",
    "np.cos(np.pi)"
   ]
  },
  {
   "cell_type": "markdown",
   "metadata": {},
   "source": [
    "### 显式导入模块内容\n",
    "\n",
    "有时，你可能不想导入整个模块命名空间，而是只想从模块中导入一些特定的项目。\n",
    "这可以通过 \"``from ... import ...``\" 模式来完成。\n",
    "例如，我们可以从 ``math`` 模块中只导入 ``cos`` 函数和 ``pi`` 常量："
   ]
  },
  {
   "cell_type": "code",
   "execution_count": 2,
   "metadata": {
    "collapsed": false
   },
   "outputs": [
    {
     "data": {
      "text/plain": [
       "-1.0"
      ]
     },
     "execution_count": 2,
     "metadata": {},
     "output_type": "execute_result"
    }
   ],
   "source": [
    "from math import cos, pi\n",
    "cos(pi)"
   ]
  },
  {
   "cell_type": "markdown",
   "metadata": {},
   "source": [
    "### 隐式导入模块内容\n",
    "\n",
    "最后，有时将模块的全部内容导入到本地命名空间中会很有用。\n",
    "这可以通过 \"``from ... import *``\" 模式来完成："
   ]
  },
  {
   "cell_type": "code",
   "execution_count": 3,
   "metadata": {
    "collapsed": false
   },
   "outputs": [
    {
     "data": {
      "text/plain": [
       "1.0"
      ]
     },
     "execution_count": 3,
     "metadata": {},
     "output_type": "execute_result"
    }
   ],
   "source": [
    "from math import *\n",
    "sin(pi) ** 2 + cos(pi) ** 2"
   ]
  },
  {
   "cell_type": "markdown",
   "metadata": {},
   "source": [
    "这种模式应尽可能少用，如果使用的话。\n",
    "问题是，这样的导入有时会覆盖你可能不希望覆盖的函数名，而语句的隐式性质使得很难确定发生了什么变化。\n",
    "\n",
    "例如，Python 有一个内置的 ``sum`` 函数，可以用于各种操作："
   ]
  },
  {
   "cell_type": "code",
   "execution_count": 4,
   "metadata": {
    "collapsed": false
   },
   "outputs": [
    {
     "name": "stdout",
     "output_type": "stream",
     "text": [
      "Help on built-in function sum in module builtins:\n",
      "\n",
      "sum(iterable, /, start=0)\n",
      "    Return the sum of a 'start' value (default: 0) plus an iterable of numbers\n",
      "    \n",
      "    When the iterable is empty, return the start value.\n",
      "    This function is intended specifically for use with numeric values and may\n",
      "    reject non-numeric types.\n",
      "\n"
     ]
    }
   ],
   "source": [
    "help(sum)"
   ]
  },
  {
   "cell_type": "markdown",
   "metadata": {},
   "source": [
    "我们可以使用它来计算序列的和，从某个值开始（这里，我们从 ``-1`` 开始）："
   ]
  },
  {
   "cell_type": "code",
   "execution_count": 5,
   "metadata": {
    "collapsed": false
   },
   "outputs": [
    {
     "data": {
      "text/plain": [
       "9"
      ]
     },
     "execution_count": 5,
     "metadata": {},
     "output_type": "execute_result"
    }
   ],
   "source": [
    "sum(range(5), -1)"
   ]
  },
  {
   "cell_type": "markdown",
   "metadata": {},
   "source": [
    "现在观察一下，如果我们从 ``numpy`` 中导入 ``*`` 后，执行 *完全相同的函数调用* 会发生什么："
   ]
  },
  {
   "cell_type": "code",
   "execution_count": 6,
   "metadata": {
    "collapsed": false
   },
   "outputs": [],
   "source": [
    "from numpy import *"
   ]
  },
  {
   "cell_type": "code",
   "execution_count": 7,
   "metadata": {
    "collapsed": false
   },
   "outputs": [
    {
     "data": {
      "text/plain": [
       "10"
      ]
     },
     "execution_count": 7,
     "metadata": {},
     "output_type": "execute_result"
    }
   ],
   "source": [
    "sum(range(5), -1)"
   ]
  },
  {
   "cell_type": "markdown",
   "metadata": {},
   "source": [
    "结果差了 1！\n",
    "原因是 ``import *`` 语句 *替换了* 内置的 ``sum`` 函数，换成了 ``numpy.sum`` 函数，后者的调用签名不同：在前者中，我们在从 ``-1`` 开始的情况下对 ``range(5)`` 求和；在后者中，我们在最后一个轴（由 ``-1`` 表示）上对 ``range(5)`` 求和。\n",
    "如果你在使用 \"``import *``\" 时不加小心，就会出现这种问题——因此，除非你确切知道自己在做什么，否则最好不要使用它。"
   ]
  },
  {
   "cell_type": "markdown",
   "metadata": {},
   "source": [
    "## 从 Python 标准库导入\n",
    "\n",
    "Python 的标准库包含了许多有用的内置模块，你可以在 [Python 的文档](https://docs.python.org/3/library/) 中全面了解它们。\n",
    "这些模块都可以使用 ``import`` 语句导入，然后使用上一节介绍的帮助函数进行探索。\n",
    "这里是一个非常不完整的你可能希望探索和了解的模块列表：\n",
    "\n",
    "- ``os`` 和 ``sys``：用于与操作系统交互的工具，包括浏览文件目录结构和执行 shell 命令\n",
    "- ``math`` 和 ``cmath``：对实数和复数进行数学函数和运算的工具\n",
    "- ``itertools``：用于构建和与迭代器及生成器交互的工具\n",
    "- ``functools``：协助函数式编程的工具\n",
    "- ``random``：生成伪随机数的工具\n",
    "- ``pickle``：对象持久化的工具：将对象保存到磁盘并从磁盘加载对象\n",
    "- ``json`` 和 ``csv``：用于读取 JSON 格式和 CSV 格式文件的工具。\n",
    "- ``urllib``：用于执行 HTTP 和其他网络请求的工具。\n",
    "\n",
    "你可以在 Python 标准库文档中找到这些以及更多模块的信息：[Python 标准库文档](https://docs.python.org/3/library/)。"
   ]
  },
  {
   "cell_type": "markdown",
   "metadata": {},
   "source": [
    "## 从第三方模块导入\n",
    "\n",
    "使 Python 特别有用的另一个原因是，特别是在数据科学领域，它有一个第三方模块的生态系统。\n",
    "这些模块可以像内置模块一样导入，但在导入之前，必须先在你的系统上安装这些模块。\n",
    "这些模块的标准注册表是 Python 包索引（简称为 *PyPI*），可在 Web 上找到：[PyPI](http://pypi.python.org/)。\n",
    "为了方便起见，Python 配备了一个名为 ``pip`` 的程序（一个递归缩写，意思是 \"pip installs packages\"），它将自动从 PyPI 上获取并安装发布的包（如果你使用的是 Python 2 版本，则必须单独安装 ``pip``）。\n",
    "例如，如果你想安装我编写的 ``supersmoother`` 包，只需要在命令行中输入以下内容：\n",
    "```\n",
    "$ pip install supersmoother\n",
    "```\n",
    "该包的源代码将自动从 PyPI 代码库下载，并安装在标准 Python 路径中（假设你有权在你使用的计算机上进行安装）。\n",
    "\n",
    "有关 PyPI 和 ``pip`` 安装程序的更多信息，请参阅 [PyPI 文档](http://pypi.python.org/)。"
   ]
  },
  {
   "cell_type": "markdown",
   "metadata": {},
   "source": [
    "<!--NAVIGATION-->\n",
    "< [生成器](12-Generators.ipynb) | [目录](Index.ipynb) | [字符串操作和正则表达式](14-Strings-and-Regular-Expressions.ipynb) >"
   ]
  }
 ],
 "metadata": {
  "anaconda-cloud": {},
  "kernelspec": {
   "display_name": "datamine",
   "language": "python",
   "name": "python3"
  },
  "language_info": {
   "codemirror_mode": {
    "name": "ipython",
    "version": 3
   },
   "file_extension": ".py",
   "mimetype": "text/x-python",
   "name": "python",
   "nbconvert_exporter": "python",
   "pygments_lexer": "ipython3",
   "version": "3.8.20"
  }
 },
 "nbformat": 4,
 "nbformat_minor": 0
}
