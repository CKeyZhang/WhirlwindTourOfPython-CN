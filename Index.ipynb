{
 "cells": [
  {
   "cell_type": "markdown",
   "metadata": {},
   "source": [
    "# Python 之旅"
   ]
  },
  {
   "cell_type": "markdown",
   "metadata": {},
   "source": [
    "*Jake VanderPlas*"
   ]
  },
  {
   "cell_type": "markdown",
   "metadata": {},
   "source": [
    "<img src=\"fig/cover-large.gif\">"
   ]
  },
  {
   "cell_type": "markdown",
   "metadata": {},
   "source": [
    "这些是我在 O'Reilly 报告中使用的 Jupyter 笔记本，报告名为\n",
    "[*Python 之旅*](http://www.oreilly.com/programming/free/a-whirlwind-tour-of-python.csp)。\n",
    "完整的笔记本列表可在 [GitHub](https://github.com/jakevdp/WhirlwindTourOfPython) 上找到。\n",
    "\n",
    "*Python 之旅* 是为已经熟悉其他编程语言的研究人员和开发人员提供的 Python 语言核心组件的快速入门。\n",
    "\n",
    "这些材料特别针对那些希望使用 Python 进行数据科学和/或科学编程的人，并且作为我即将出版的书籍，《Python 数据科学手册》的入门。\n",
    "这些笔记本是根据我在华盛顿大学以及在世界各地的各种会议、研讨会和工作坊上讲授这些主题时的讲座和工作坊改编而来的。"
   ]
  },
  {
   "cell_type": "markdown",
   "metadata": {},
   "source": [
    "## 索引\n",
    "\n",
    "1. [介绍](00-Introduction.ipynb)\n",
    "2. [如何运行 Python 代码](01-How-to-Run-Python-Code.ipynb)\n",
    "3. [基本 Python 语法](02-Basic-Python-Syntax.ipynb)\n",
    "4. [Python 语义：变量](03-Semantics-Variables.ipynb)\n",
    "5. [Python 语义：运算符](04-Semantics-Operators.ipynb)\n",
    "6. [内置标量类型](05-Built-in-Scalar-Types.ipynb)\n",
    "7. [内置数据结构](06-Built-in-Data-Structures.ipynb)\n",
    "8. [控制流语句](07-Control-Flow-Statements.ipynb)\n",
    "9. [定义函数](08-Defining-Functions.ipynb)\n",
    "10. [错误和异常](09-Errors-and-Exceptions.ipynb)\n",
    "11. [迭代器](10-Iterators.ipynb)\n",
    "12. [列表推导式](11-List-Comprehensions.ipynb)\n",
    "13. [生成器和生成器表达式](12-Generators.ipynb)\n",
    "14. [模块和包](13-Modules-and-Packages.ipynb)\n",
    "15. [字符串和正则表达式](14-Strings-and-Regular-Expressions.ipynb)\n",
    "16. [数据科学工具预览](15-Preview-of-Data-Science-Tools.ipynb)\n",
    "17. [进一步学习的资源](16-Further-Resources.ipynb)\n",
    "18. [附录：重现图表的代码](17-Figures.ipynb)"
   ]
  },
  {
   "cell_type": "markdown",
   "metadata": {},
   "source": [
    "## 许可证\n",
    "\n",
    "这些材料在 \"保留所有权利\" 的 [CC0](LICENSE)\n",
    "许可证下发布，因此你可以自由地重用、修改、构建和增强\n",
    "这些材料，用于任何目的。\n",
    "\n",
    "尽管如此，我请求（但不要求）如果你使用或改编这些材料，\n",
    "请包含适当的归属和/或引用；例如\n",
    "\n",
    "> *Python 之旅* by Jake VanderPlas (O’Reilly). Copyright 2016 O’Reilly Media, Inc., 978-1-491-96465-1\n",
    "\n",
    "了解更多关于 CC0 的信息，请访问 [这里](https://creativecommons.org/share-your-work/public-domain/cc0/)"
   ]
  }
 ],
 "metadata": {
  "anaconda-cloud": {},
  "kernelspec": {
   "display_name": "Python 3",
   "language": "python",
   "name": "python3"
  },
  "language_info": {
   "codemirror_mode": {
    "name": "ipython",
    "version": 3
   },
   "file_extension": ".py",
   "mimetype": "text/x-python",
   "name": "python",
   "nbconvert_exporter": "python",
   "pygments_lexer": "ipython3",
   "version": "3.5.1"
  }
 },
 "nbformat": 4,
 "nbformat_minor": 0
}