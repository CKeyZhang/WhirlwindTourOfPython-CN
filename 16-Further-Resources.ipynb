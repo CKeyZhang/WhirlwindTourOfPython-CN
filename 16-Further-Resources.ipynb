{
 "cells": [
  {
   "cell_type": "markdown",
   "metadata": {},
   "source": [
    "<!--BOOK_INFORMATION-->\n",
    "\n",
    "<img align=\"left\" style=\"padding-right:10px;\" src=\"fig/cover-small.jpg\">\n",
    "\n",
    "*本文摘自 Jake VanderPlas 的《Python 简明教程》；内容可在 [GitHub](https://github.com/jakevdp/WhirlwindTourOfPython) 上找到。*\n",
    "\n",
    "*文字和代码均在 [CC0](https://github.com/jakevdp/WhirlwindTourOfPython/blob/master/LICENSE) 协议下发布；还可参考配套项目 [Python 数据科学手册](https://github.com/jakevdp/PythonDataScienceHandbook)。*\n",
    "\n",
    "*中文翻译由 [ZhangCongke](https://ckeyzhang.github.io/) 提供，项目可在 [GitHub](https://github.com/CKeyZhang/WhirlwindTourOfPython-CN) 上找到。*"
   ]
  },
  {
   "cell_type": "markdown",
   "metadata": {},
   "source": [
    "<!--NAVIGATION-->\n",
    "< [数据科学工具预览](15-Preview-of-Data-Science-Tools.ipynb) | [目录](Index.ipynb) | [附录：图表代码](17-Figures.ipynb) >"
   ]
  },
  {
   "cell_type": "markdown",
   "metadata": {},
   "source": [
    "# 进一步学习资源"
   ]
  },
  {
   "cell_type": "markdown",
   "metadata": {},
   "source": [
    "至此，我们的 Python 简明教程就结束了。\n",
    "希望读到这里的你，对 Python 语言的基本语法、语义、操作和功能有了初步了解，也对可用于进一步探索的工具和代码结构有所认识。\n",
    "\n",
    "我尽量涵盖了对使用 Python 的数据科学家最有用的 Python 语言元素和模式，但这绝非完整的介绍。\n",
    "如果你想更深入地了解 Python 语言本身及其有效使用方法，以下是一些推荐资源：\n",
    "\n",
    "- [*Fluent Python*](http://shop.oreilly.com/product/0636920032519.do)（Luciano Ramalho 著）。这是一本优秀的 O'Reilly 出版社的书，探讨了 Python 的最佳实践和惯用法，包括充分利用标准库。\n",
    "- [*Dive Into Python*](http://www.diveintopython.net/)（Mark Pilgrim 著）。这是一本免费的在线书籍，从基础开始介绍 Python 语言。\n",
    "- [*Learn Python the Hard Way*](http://learnpythonthehardway.org/)（Zed Shaw 著）。这本书采用“通过尝试学习”的方法，着重培养程序员可能学会的最有用的技能：查找你不理解的内容。\n",
    "- [*Python Essential Reference*](http://www.dabeaz.com/per.html)（David Beazley 著）。这本 700 页的巨著文笔出色，涵盖了有关 Python 语言及其内置库的几乎所有知识。若想了解更注重应用的 Python 介绍，可参考 Beazley 的 [*Python Cookbook*](http://shop.oreilly.com/product/0636920027072.do)。\n",
    "\n",
    "若想深入了解 Python 的数据科学和科学计算工具，我推荐以下书籍：\n",
    "\n",
    "- [*The Python Data Science Handbook*](http://shop.oreilly.com/product/0636920034919.do)（作者是我）。本书正好从本报告结束的地方开始，全面介绍了 Python 数据科学栈中的必备工具，从数据整理和操作到机器学习。\n",
    "- [*Effective Computation in Physics*](http://shop.oreilly.com/product/0636920033424.do)（Katie Huff 和 Anthony Scopatz 著）。该书适用于远不止物理研究领域的人士。它从基础开始逐步介绍科学计算，包括对本报告中提到的许多工具的出色介绍。\n",
    "- [*Python for Data Analysis*](http://shop.oreilly.com/product/0636920023784.do)（Wes McKinney 著，Pandas 包的创建者）。这本书详细介绍了 Pandas 库，还提供了一些有助于它的其他工具的有用信息。\n",
    "\n",
    "最后，若想更广泛地了解相关内容，我推荐以下资源：\n",
    "\n",
    "- [*OReilly Python Resources*](http://shop.oreilly.com/category/browse-subjects/programming/python.do) O'Reilly 出版社有许多关于 Python 本身以及 Python 世界中专门主题的优秀书籍。\n",
    "- *PyCon*、*SciPy* 和 *PyData*。PyCon、SciPy 和 PyData 会议每年吸引数千名参会者，并将每年大部分的项目存档为免费的在线视频。这些视频已成为学习 Python 本身、Python 包及相关主题的惊人资源。在线搜索演讲和教程的视频：前者通常较短，涵盖新包或对旧包的新看法。教程通常持续数小时，涵盖此处提到的工具的使用以及其他工具。"
   ]
  },
  {
   "cell_type": "markdown",
   "metadata": {},
   "source": [
    "<!--NAVIGATION-->\n",
    "< [数据科学工具预览](15-Preview-of-Data-Science-Tools.ipynb) | [目录](Index.ipynb) | [附录：图表代码](17-Figures.ipynb) >"
   ]
  }
 ],
 "metadata": {
  "anaconda-cloud": {},
  "kernelspec": {
   "display_name": "datamine",
   "language": "python",
   "name": "python3"
  },
  "language_info": {
   "codemirror_mode": {
    "name": "ipython",
    "version": 3
   },
   "file_extension": ".py",
   "mimetype": "text/x-python",
   "name": "python",
   "nbconvert_exporter": "python",
   "pygments_lexer": "ipython3",
   "version": "3.8.20"
  }
 },
 "nbformat": 4,
 "nbformat_minor": 0
}
